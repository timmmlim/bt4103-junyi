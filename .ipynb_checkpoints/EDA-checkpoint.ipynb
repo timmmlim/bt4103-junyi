{
 "cells": [
  {
   "cell_type": "code",
   "execution_count": 1,
   "id": "rough-shift",
   "metadata": {},
   "outputs": [
    {
     "name": "stdout",
     "output_type": "stream",
     "text": [
      "(1330, 10)\n",
      "(72758, 12)\n",
      "(16217311, 14)\n"
     ]
    }
   ],
   "source": [
    "import pandas as pd\n",
    "import numpy as np\n",
    "import matplotlib.pyplot as plt\n",
    "import os\n",
    "\n",
    "# %% load data\n",
    "data_dir = r'C:\\Users\\Timothy Lim\\Desktop\\junyi\\archive'\n",
    "content_data = pd.read_csv(os.path.join(data_dir, 'Info_Content.csv'))\n",
    "user_data = pd.read_csv(os.path.join(data_dir, 'Info_UserData.csv'))\n",
    "log_data = pd.read_csv(os.path.join(data_dir, 'Log_Problem.csv'))\n",
    "\n",
    "print(content_data.shape)\n",
    "print(user_data.shape)\n",
    "print(log_data.shape)"
   ]
  },
  {
   "cell_type": "code",
   "execution_count": 2,
   "id": "developed-teacher",
   "metadata": {},
   "outputs": [
    {
     "data": {
      "text/html": [
       "<div>\n",
       "<style scoped>\n",
       "    .dataframe tbody tr th:only-of-type {\n",
       "        vertical-align: middle;\n",
       "    }\n",
       "\n",
       "    .dataframe tbody tr th {\n",
       "        vertical-align: top;\n",
       "    }\n",
       "\n",
       "    .dataframe thead th {\n",
       "        text-align: right;\n",
       "    }\n",
       "</style>\n",
       "<table border=\"1\" class=\"dataframe\">\n",
       "  <thead>\n",
       "    <tr style=\"text-align: right;\">\n",
       "      <th></th>\n",
       "      <th>ucid</th>\n",
       "      <th>content_pretty_name</th>\n",
       "      <th>content_kind</th>\n",
       "      <th>difficulty</th>\n",
       "      <th>subject</th>\n",
       "      <th>learning_stage</th>\n",
       "      <th>level1_id</th>\n",
       "      <th>level2_id</th>\n",
       "      <th>level3_id</th>\n",
       "      <th>level4_id</th>\n",
       "    </tr>\n",
       "  </thead>\n",
       "  <tbody>\n",
       "    <tr>\n",
       "      <th>0</th>\n",
       "      <td>odIwFdIiecFwVUAEEV40K3MSuCSlIZkbq92Zp9tkZq8=</td>\n",
       "      <td>【基礎】怎樣解題：數量關係</td>\n",
       "      <td>Exercise</td>\n",
       "      <td>easy</td>\n",
       "      <td>math</td>\n",
       "      <td>elementary</td>\n",
       "      <td>aH0Dz0KdH9gio7rrcGRHvrmd9vcd/0WJbeEFB7qeUKA=</td>\n",
       "      <td>ICgke8JJv5eapCPwyj1aco8PEtoBkUbTZYIqxmYtqBk=</td>\n",
       "      <td>bo3jsx1beVLEZ+2sckxdZNYnlLpVS7hb5lWU2baQ66k=</td>\n",
       "      <td>KPJMQebU0O24+NzlQ4udb2BXLlKV1Hte61+hV5Xb+oU=</td>\n",
       "    </tr>\n",
       "    <tr>\n",
       "      <th>1</th>\n",
       "      <td>dfeeBaa8zDhWS6nu7zeXKwLyi4zqEajI3tJM9/fSBPM=</td>\n",
       "      <td>【基礎】和差問題 1</td>\n",
       "      <td>Exercise</td>\n",
       "      <td>easy</td>\n",
       "      <td>math</td>\n",
       "      <td>elementary</td>\n",
       "      <td>aH0Dz0KdH9gio7rrcGRHvrmd9vcd/0WJbeEFB7qeUKA=</td>\n",
       "      <td>ICgke8JJv5eapCPwyj1aco8PEtoBkUbTZYIqxmYtqBk=</td>\n",
       "      <td>bo3jsx1beVLEZ+2sckxdZNYnlLpVS7hb5lWU2baQ66k=</td>\n",
       "      <td>KPJMQebU0O24+NzlQ4udb2BXLlKV1Hte61+hV5Xb+oU=</td>\n",
       "    </tr>\n",
       "    <tr>\n",
       "      <th>2</th>\n",
       "      <td>C2AT0OBTUn+PRxEVd39enhW/DJtka1Tk90DUAR6yVdA=</td>\n",
       "      <td>【基礎】雞兔問題 1</td>\n",
       "      <td>Exercise</td>\n",
       "      <td>easy</td>\n",
       "      <td>math</td>\n",
       "      <td>elementary</td>\n",
       "      <td>aH0Dz0KdH9gio7rrcGRHvrmd9vcd/0WJbeEFB7qeUKA=</td>\n",
       "      <td>ICgke8JJv5eapCPwyj1aco8PEtoBkUbTZYIqxmYtqBk=</td>\n",
       "      <td>bo3jsx1beVLEZ+2sckxdZNYnlLpVS7hb5lWU2baQ66k=</td>\n",
       "      <td>KPJMQebU0O24+NzlQ4udb2BXLlKV1Hte61+hV5Xb+oU=</td>\n",
       "    </tr>\n",
       "    <tr>\n",
       "      <th>3</th>\n",
       "      <td>jZvYpEa6VB/WrlKKmQHnfbv/xJ4OypBzq0epVcn500Q=</td>\n",
       "      <td>【基礎】年齡問題 1</td>\n",
       "      <td>Exercise</td>\n",
       "      <td>easy</td>\n",
       "      <td>math</td>\n",
       "      <td>elementary</td>\n",
       "      <td>aH0Dz0KdH9gio7rrcGRHvrmd9vcd/0WJbeEFB7qeUKA=</td>\n",
       "      <td>ICgke8JJv5eapCPwyj1aco8PEtoBkUbTZYIqxmYtqBk=</td>\n",
       "      <td>bo3jsx1beVLEZ+2sckxdZNYnlLpVS7hb5lWU2baQ66k=</td>\n",
       "      <td>KPJMQebU0O24+NzlQ4udb2BXLlKV1Hte61+hV5Xb+oU=</td>\n",
       "    </tr>\n",
       "    <tr>\n",
       "      <th>4</th>\n",
       "      <td>M+UxJPgRIW57a0YS3eik8A9YDj+AwaMpTa5yWYn/kAw=</td>\n",
       "      <td>【基礎】追趕問題</td>\n",
       "      <td>Exercise</td>\n",
       "      <td>easy</td>\n",
       "      <td>math</td>\n",
       "      <td>elementary</td>\n",
       "      <td>aH0Dz0KdH9gio7rrcGRHvrmd9vcd/0WJbeEFB7qeUKA=</td>\n",
       "      <td>ICgke8JJv5eapCPwyj1aco8PEtoBkUbTZYIqxmYtqBk=</td>\n",
       "      <td>bo3jsx1beVLEZ+2sckxdZNYnlLpVS7hb5lWU2baQ66k=</td>\n",
       "      <td>KPJMQebU0O24+NzlQ4udb2BXLlKV1Hte61+hV5Xb+oU=</td>\n",
       "    </tr>\n",
       "  </tbody>\n",
       "</table>\n",
       "</div>"
      ],
      "text/plain": [
       "                                           ucid content_pretty_name  \\\n",
       "0  odIwFdIiecFwVUAEEV40K3MSuCSlIZkbq92Zp9tkZq8=       【基礎】怎樣解題：數量關係   \n",
       "1  dfeeBaa8zDhWS6nu7zeXKwLyi4zqEajI3tJM9/fSBPM=          【基礎】和差問題 1   \n",
       "2  C2AT0OBTUn+PRxEVd39enhW/DJtka1Tk90DUAR6yVdA=          【基礎】雞兔問題 1   \n",
       "3  jZvYpEa6VB/WrlKKmQHnfbv/xJ4OypBzq0epVcn500Q=          【基礎】年齡問題 1   \n",
       "4  M+UxJPgRIW57a0YS3eik8A9YDj+AwaMpTa5yWYn/kAw=            【基礎】追趕問題   \n",
       "\n",
       "  content_kind difficulty subject learning_stage  \\\n",
       "0     Exercise       easy    math     elementary   \n",
       "1     Exercise       easy    math     elementary   \n",
       "2     Exercise       easy    math     elementary   \n",
       "3     Exercise       easy    math     elementary   \n",
       "4     Exercise       easy    math     elementary   \n",
       "\n",
       "                                      level1_id  \\\n",
       "0  aH0Dz0KdH9gio7rrcGRHvrmd9vcd/0WJbeEFB7qeUKA=   \n",
       "1  aH0Dz0KdH9gio7rrcGRHvrmd9vcd/0WJbeEFB7qeUKA=   \n",
       "2  aH0Dz0KdH9gio7rrcGRHvrmd9vcd/0WJbeEFB7qeUKA=   \n",
       "3  aH0Dz0KdH9gio7rrcGRHvrmd9vcd/0WJbeEFB7qeUKA=   \n",
       "4  aH0Dz0KdH9gio7rrcGRHvrmd9vcd/0WJbeEFB7qeUKA=   \n",
       "\n",
       "                                      level2_id  \\\n",
       "0  ICgke8JJv5eapCPwyj1aco8PEtoBkUbTZYIqxmYtqBk=   \n",
       "1  ICgke8JJv5eapCPwyj1aco8PEtoBkUbTZYIqxmYtqBk=   \n",
       "2  ICgke8JJv5eapCPwyj1aco8PEtoBkUbTZYIqxmYtqBk=   \n",
       "3  ICgke8JJv5eapCPwyj1aco8PEtoBkUbTZYIqxmYtqBk=   \n",
       "4  ICgke8JJv5eapCPwyj1aco8PEtoBkUbTZYIqxmYtqBk=   \n",
       "\n",
       "                                      level3_id  \\\n",
       "0  bo3jsx1beVLEZ+2sckxdZNYnlLpVS7hb5lWU2baQ66k=   \n",
       "1  bo3jsx1beVLEZ+2sckxdZNYnlLpVS7hb5lWU2baQ66k=   \n",
       "2  bo3jsx1beVLEZ+2sckxdZNYnlLpVS7hb5lWU2baQ66k=   \n",
       "3  bo3jsx1beVLEZ+2sckxdZNYnlLpVS7hb5lWU2baQ66k=   \n",
       "4  bo3jsx1beVLEZ+2sckxdZNYnlLpVS7hb5lWU2baQ66k=   \n",
       "\n",
       "                                      level4_id  \n",
       "0  KPJMQebU0O24+NzlQ4udb2BXLlKV1Hte61+hV5Xb+oU=  \n",
       "1  KPJMQebU0O24+NzlQ4udb2BXLlKV1Hte61+hV5Xb+oU=  \n",
       "2  KPJMQebU0O24+NzlQ4udb2BXLlKV1Hte61+hV5Xb+oU=  \n",
       "3  KPJMQebU0O24+NzlQ4udb2BXLlKV1Hte61+hV5Xb+oU=  \n",
       "4  KPJMQebU0O24+NzlQ4udb2BXLlKV1Hte61+hV5Xb+oU=  "
      ]
     },
     "execution_count": 2,
     "metadata": {},
     "output_type": "execute_result"
    }
   ],
   "source": [
    "content_data.head()"
   ]
  },
  {
   "cell_type": "code",
   "execution_count": 97,
   "id": "rubber-buffalo",
   "metadata": {},
   "outputs": [
    {
     "data": {
      "text/plain": [
       "level1_id                                     level2_id                                   \n",
       "aH0Dz0KdH9gio7rrcGRHvrmd9vcd/0WJbeEFB7qeUKA=  1EzKLzTq9Ax8/wlR9cJNrtthvk9lBi/SFdx/4L1PIaE=     2\n",
       "                                              2YwsqJH0U7Zguyun1OaStQsIHbUoYvgJNK0QCGC5BQI=     1\n",
       "                                              5Np4fxxPeBgmNpeEOcXqarZIVsOEzZ1fSssL8cytQAc=     1\n",
       "                                              7f73q332BKPBXaixasa4EkUb+pF6VAsLxNIg4506JJs=    12\n",
       "                                              ICgke8JJv5eapCPwyj1aco8PEtoBkUbTZYIqxmYtqBk=     2\n",
       "                                              MfUX4BrIuFzJjm97tCQVisXbonyvtYtwCUJo6JpmoyU=     7\n",
       "                                              R81Sqc8LAYj8amTPwFRvoPgbGpdaZoQLNX0hTg0DMB4=     9\n",
       "                                              jXSXg7CfDboPEXlnqJTGuQOb0VIgOXCpaU/Sl+/m3n0=     2\n",
       "                                              rzRcsBurW8jbUhivGAdZozPksRAZ5xM898ohJEBg93g=     1\n",
       "                                              xYDz4OEv0xsri1IpmXlrgMLJ848rgySf+39xWpq4DBI=     5\n",
       "Name: level3_id, dtype: int64"
      ]
     },
     "execution_count": 97,
     "metadata": {},
     "output_type": "execute_result"
    }
   ],
   "source": [
    "content_data.groupby(by=['level1_id', 'level2_id'])['level3_id'].nunique()"
   ]
  },
  {
   "cell_type": "code",
   "execution_count": 102,
   "id": "massive-seafood",
   "metadata": {},
   "outputs": [
    {
     "data": {
      "text/plain": [
       "level1_id                                     level2_id                                   \n",
       "aH0Dz0KdH9gio7rrcGRHvrmd9vcd/0WJbeEFB7qeUKA=  1EzKLzTq9Ax8/wlR9cJNrtthvk9lBi/SFdx/4L1PIaE=    4\n",
       "                                              2YwsqJH0U7Zguyun1OaStQsIHbUoYvgJNK0QCGC5BQI=    3\n",
       "                                              5Np4fxxPeBgmNpeEOcXqarZIVsOEzZ1fSssL8cytQAc=    1\n",
       "                                              7f73q332BKPBXaixasa4EkUb+pF6VAsLxNIg4506JJs=    4\n",
       "                                              ICgke8JJv5eapCPwyj1aco8PEtoBkUbTZYIqxmYtqBk=    4\n",
       "                                              MfUX4BrIuFzJjm97tCQVisXbonyvtYtwCUJo6JpmoyU=    4\n",
       "                                              R81Sqc8LAYj8amTPwFRvoPgbGpdaZoQLNX0hTg0DMB4=    4\n",
       "                                              jXSXg7CfDboPEXlnqJTGuQOb0VIgOXCpaU/Sl+/m3n0=    4\n",
       "                                              rzRcsBurW8jbUhivGAdZozPksRAZ5xM898ohJEBg93g=    1\n",
       "                                              xYDz4OEv0xsri1IpmXlrgMLJ848rgySf+39xWpq4DBI=    4\n",
       "Name: difficulty, dtype: int64"
      ]
     },
     "execution_count": 102,
     "metadata": {},
     "output_type": "execute_result"
    }
   ],
   "source": [
    "content_data.groupby(by=['level1_id', 'level2_id'])['difficulty'].nunique()"
   ]
  },
  {
   "cell_type": "markdown",
   "id": "received-brush",
   "metadata": {},
   "source": [
    "### log data"
   ]
  },
  {
   "cell_type": "code",
   "execution_count": 2,
   "id": "damaged-parish",
   "metadata": {},
   "outputs": [
    {
     "data": {
      "text/plain": [
       "1    11412555\n",
       "2           3\n",
       "Name: total_attempt_cnt, dtype: int64"
      ]
     },
     "execution_count": 2,
     "metadata": {},
     "output_type": "execute_result"
    }
   ],
   "source": [
    "# does the number of times a student encountered a problem affect the prob of it being answered correctly? \n",
    "correct_mask = log_data['is_correct']==True\n",
    "log_data[correct_mask]['total_attempt_cnt'].value_counts()"
   ]
  },
  {
   "cell_type": "markdown",
   "id": "clear-grant",
   "metadata": {},
   "source": [
    "Exercise is the most basic unit of learning. Each exercise consists of several problems.\n",
    "\n",
    "is_correct only tells us if the question is answered correctly the first time. need to find some other way to figure out how many attempts it takes for students to get an answer correct."
   ]
  },
  {
   "cell_type": "code",
   "execution_count": 3,
   "id": "threatened-island",
   "metadata": {},
   "outputs": [
    {
     "data": {
      "text/plain": [
       "1      9849149\n",
       "2      1077891\n",
       "3       265372\n",
       "4        99109\n",
       "5        45374\n",
       "        ...   \n",
       "108          3\n",
       "106          3\n",
       "105          3\n",
       "104          3\n",
       "119          3\n",
       "Name: exercise_problem_repeat_session, Length: 119, dtype: int64"
      ]
     },
     "execution_count": 3,
     "metadata": {},
     "output_type": "execute_result"
    }
   ],
   "source": [
    "# does the number of times a problem is repeated in an exercise affect if its correct?\n",
    "log_data[correct_mask]['exercise_problem_repeat_session'].value_counts()"
   ]
  },
  {
   "cell_type": "markdown",
   "id": "increasing-protest",
   "metadata": {},
   "source": [
    "**exercise_problem_repeat_session** represents the number of times a problem is encountered in a given exercise session. it seems more meaningful than **total_attempt_cnt** for determining if a student correctly answers a question. \n",
    "\n",
    "maybe **total_attempt_cnt** can be used as a measure of how 'hardworking' students are in learning from their mistakes. "
   ]
  },
  {
   "cell_type": "code",
   "execution_count": 4,
   "id": "special-market",
   "metadata": {},
   "outputs": [],
   "source": [
    "# convenience functions\n",
    "\n",
    "def compare_col(what):\n",
    "    '''\n",
    "    helper function to compare distribution of column for correct/wrong answers\n",
    "    '''\n",
    "    correct_mask = log_data['is_correct']==True\n",
    "    correct_ans = log_data[correct_mask][what]\n",
    "    wrong_ans = log_data[~correct_mask][what]\n",
    "    \n",
    "    # plot histogram\n",
    "    fig, ax = plt.subplots(1, 1, figsize=(12, 8))\n",
    "    correct_ans.plot(kind='hist', alpha=0.5)\n",
    "    wrong_ans.plot(kind='hist', color='orange', alpha=0.5)\n",
    "    ax.legend(['is_correct', 'not is_correct'])\n",
    "    plt.title(f'correct/wrong answers based on {what}')\n",
    "    plt.show()\n",
    "    "
   ]
  },
  {
   "cell_type": "code",
   "execution_count": 14,
   "id": "involved-interest",
   "metadata": {},
   "outputs": [
    {
     "data": {
      "image/png": "[encoded data removed]",
      "text/plain": [
       "<Figure size 864x576 with 1 Axes>"
      ]
     },
     "metadata": {
      "needs_background": "light"
     },
     "output_type": "display_data"
    }
   ],
   "source": [
    "what = 'exercise_problem_repeat_session'\n",
    "compare_col(what)"
   ]
  },
  {
   "cell_type": "markdown",
   "id": "scientific-reference",
   "metadata": {},
   "source": [
    "ok, it matches our intuition that students will likely get answers correct after encountering the same problem multiple times."
   ]
  },
  {
   "cell_type": "code",
   "execution_count": 15,
   "id": "found-professor",
   "metadata": {},
   "outputs": [
    {
     "data": {
      "image/png": "[encoded data removed]",
      "text/plain": [
       "<Figure size 864x576 with 1 Axes>"
      ]
     },
     "metadata": {
      "needs_background": "light"
     },
     "output_type": "display_data"
    }
   ],
   "source": [
    "# does the problem_number affect whether students will get an answer correct? \n",
    "\n",
    "what = 'problem_number'\n",
    "compare_col(what)"
   ]
  },
  {
   "cell_type": "code",
   "execution_count": 16,
   "id": "scenic-solid",
   "metadata": {},
   "outputs": [
    {
     "data": {
      "image/png": "[encoded data removed]",
      "text/plain": [
       "<Figure size 864x576 with 1 Axes>"
      ]
     },
     "metadata": {
      "needs_background": "light"
     },
     "output_type": "display_data"
    }
   ],
   "source": [
    "# does hints affect the students performance? \n",
    "what = 'used_hint_cnt'\n",
    "compare_col(what)"
   ]
  },
  {
   "cell_type": "code",
   "execution_count": 17,
   "id": "important-precipitation",
   "metadata": {},
   "outputs": [
    {
     "data": {
      "image/png": "[encoded data removed]",
      "text/plain": [
       "<Figure size 864x576 with 1 Axes>"
      ]
     },
     "metadata": {
      "needs_background": "light"
     },
     "output_type": "display_data"
    }
   ],
   "source": [
    "# does time taken affect the students performance? \n",
    "what = 'total_sec_taken'\n",
    "compare_col(what)"
   ]
  },
  {
   "cell_type": "code",
   "execution_count": 18,
   "id": "studied-finnish",
   "metadata": {},
   "outputs": [
    {
     "data": {
      "text/plain": [
       "0    11412558\n",
       "Name: used_hint_cnt, dtype: int64"
      ]
     },
     "execution_count": 18,
     "metadata": {},
     "output_type": "execute_result"
    }
   ],
   "source": [
    "log_data[correct_mask]['used_hint_cnt'].value_counts()"
   ]
  },
  {
   "cell_type": "code",
   "execution_count": 43,
   "id": "similar-prospect",
   "metadata": {},
   "outputs": [
    {
     "data": {
      "text/plain": [
       "False    11412558\n",
       "Name: is_hint_used, dtype: int64"
      ]
     },
     "execution_count": 43,
     "metadata": {},
     "output_type": "execute_result"
    }
   ],
   "source": [
    "log_data[correct_mask]['is_hint_used'].value_counts()"
   ]
  },
  {
   "cell_type": "markdown",
   "id": "joined-handy",
   "metadata": {},
   "source": [
    "it seems that hints may not help the students in getting a correct answer, or maybe hints are only showed if they got the question wrong the first time. \n",
    "\n",
    "students who spend a longer time on the problem will probably get it wrong "
   ]
  },
  {
   "cell_type": "markdown",
   "id": "sorted-plaza",
   "metadata": {},
   "source": [
    "**is_downgrade, is_upgrade**, and **level** columns after the student has answered the question. we need to shift these down by 1, so that it is the input for the next recorded instance. "
   ]
  },
  {
   "cell_type": "code",
   "execution_count": 2,
   "id": "recovered-prophet",
   "metadata": {},
   "outputs": [
    {
     "data": {
      "text/plain": [
       "0          2019-05-26 21:00:00\n",
       "1          2019-05-17 16:30:00\n",
       "2          2019-05-15 19:15:00\n",
       "3          2019-05-05 14:45:00\n",
       "4          2019-05-14 16:45:00\n",
       "                   ...        \n",
       "16217306   2019-04-28 18:30:00\n",
       "16217307   2019-04-25 19:15:00\n",
       "16217308   2019-04-25 21:30:00\n",
       "16217309   2019-04-12 16:30:00\n",
       "16217310   2019-04-01 20:00:00\n",
       "Name: timestamp_TW, Length: 16217311, dtype: datetime64[ns]"
      ]
     },
     "execution_count": 2,
     "metadata": {},
     "output_type": "execute_result"
    }
   ],
   "source": [
    "import datetime as dt\n",
    "log_data['timestamp_TW'] = log_data['timestamp_TW'].apply(lambda x: dt.datetime.strptime(x[:-4], \"%Y-%m-%d %H:%M:%S\"))\n",
    "log_data['timestamp_TW']"
   ]
  },
  {
   "cell_type": "code",
   "execution_count": 3,
   "id": "running-nightlife",
   "metadata": {},
   "outputs": [],
   "source": [
    " # sort columns\n",
    "log_data.sort_values(by='timestamp_TW', ascending=True, inplace=True)"
   ]
  },
  {
   "cell_type": "code",
   "execution_count": 4,
   "id": "maritime-bullet",
   "metadata": {},
   "outputs": [
    {
     "data": {
      "text/plain": [
       "105021     2018-08-01 07:45:00\n",
       "11669798   2018-08-01 07:45:00\n",
       "3768239    2018-08-01 07:45:00\n",
       "10163558   2018-08-01 07:45:00\n",
       "8372688    2018-08-01 07:45:00\n",
       "                   ...        \n",
       "5351619    2019-08-01 00:00:00\n",
       "8225534    2019-08-01 00:00:00\n",
       "14727695   2019-08-01 00:00:00\n",
       "13201613   2019-08-01 00:00:00\n",
       "15112240   2019-08-01 00:00:00\n",
       "Name: timestamp_TW, Length: 16217311, dtype: datetime64[ns]"
      ]
     },
     "execution_count": 4,
     "metadata": {},
     "output_type": "execute_result"
    }
   ],
   "source": [
    "log_data['timestamp_TW']"
   ]
  },
  {
   "cell_type": "code",
   "execution_count": 6,
   "id": "confirmed-revision",
   "metadata": {},
   "outputs": [
    {
     "data": {
      "text/html": [
       "<div>\n",
       "<style scoped>\n",
       "    .dataframe tbody tr th:only-of-type {\n",
       "        vertical-align: middle;\n",
       "    }\n",
       "\n",
       "    .dataframe tbody tr th {\n",
       "        vertical-align: top;\n",
       "    }\n",
       "\n",
       "    .dataframe thead th {\n",
       "        text-align: right;\n",
       "    }\n",
       "</style>\n",
       "<table border=\"1\" class=\"dataframe\">\n",
       "  <thead>\n",
       "    <tr style=\"text-align: right;\">\n",
       "      <th></th>\n",
       "      <th>level</th>\n",
       "      <th>level_shifted</th>\n",
       "    </tr>\n",
       "  </thead>\n",
       "  <tbody>\n",
       "    <tr>\n",
       "      <th>1132955</th>\n",
       "      <td>0</td>\n",
       "      <td>NaN</td>\n",
       "    </tr>\n",
       "    <tr>\n",
       "      <th>15750449</th>\n",
       "      <td>0</td>\n",
       "      <td>0.0</td>\n",
       "    </tr>\n",
       "    <tr>\n",
       "      <th>5980999</th>\n",
       "      <td>0</td>\n",
       "      <td>0.0</td>\n",
       "    </tr>\n",
       "    <tr>\n",
       "      <th>1680609</th>\n",
       "      <td>0</td>\n",
       "      <td>0.0</td>\n",
       "    </tr>\n",
       "    <tr>\n",
       "      <th>12632454</th>\n",
       "      <td>0</td>\n",
       "      <td>0.0</td>\n",
       "    </tr>\n",
       "    <tr>\n",
       "      <th>...</th>\n",
       "      <td>...</td>\n",
       "      <td>...</td>\n",
       "    </tr>\n",
       "    <tr>\n",
       "      <th>6385238</th>\n",
       "      <td>0</td>\n",
       "      <td>1.0</td>\n",
       "    </tr>\n",
       "    <tr>\n",
       "      <th>9751764</th>\n",
       "      <td>1</td>\n",
       "      <td>0.0</td>\n",
       "    </tr>\n",
       "    <tr>\n",
       "      <th>1663819</th>\n",
       "      <td>0</td>\n",
       "      <td>1.0</td>\n",
       "    </tr>\n",
       "    <tr>\n",
       "      <th>11246356</th>\n",
       "      <td>1</td>\n",
       "      <td>0.0</td>\n",
       "    </tr>\n",
       "    <tr>\n",
       "      <th>14354750</th>\n",
       "      <td>1</td>\n",
       "      <td>1.0</td>\n",
       "    </tr>\n",
       "  </tbody>\n",
       "</table>\n",
       "<p>437 rows × 2 columns</p>\n",
       "</div>"
      ],
      "text/plain": [
       "          level  level_shifted\n",
       "1132955       0            NaN\n",
       "15750449      0            0.0\n",
       "5980999       0            0.0\n",
       "1680609       0            0.0\n",
       "12632454      0            0.0\n",
       "...         ...            ...\n",
       "6385238       0            1.0\n",
       "9751764       1            0.0\n",
       "1663819       0            1.0\n",
       "11246356      1            0.0\n",
       "14354750      1            1.0\n",
       "\n",
       "[437 rows x 2 columns]"
      ]
     },
     "execution_count": 6,
     "metadata": {},
     "output_type": "execute_result"
    }
   ],
   "source": [
    "def shift_cols(cols_to_shift, grouper=None):\n",
    "    '''\n",
    "    cols_to_shift: list of column names as strings\n",
    "    grouper: key to identify the columns by\n",
    "    '''\n",
    "    if grouper:\n",
    "        tmp = log_data.groupby(by=grouper)\n",
    "    else:\n",
    "        tmp = log_data \n",
    "    \n",
    "    for col_to_shift in cols_to_shift:\n",
    "        shifted_col = tmp[col_to_shift].shift(1)\n",
    "        log_data[f'{col_to_shift}_shifted'] = shifted_col\n",
    "\n",
    "# test case\n",
    "shift_cols(['level'], 'uuid')\n",
    "log_data[log_data['uuid']==log_data['uuid'][0]][['level', 'level_shifted']]"
   ]
  },
  {
   "cell_type": "code",
   "execution_count": 7,
   "id": "funded-negative",
   "metadata": {},
   "outputs": [
    {
     "data": {
      "text/html": [
       "<div>\n",
       "<style scoped>\n",
       "    .dataframe tbody tr th:only-of-type {\n",
       "        vertical-align: middle;\n",
       "    }\n",
       "\n",
       "    .dataframe tbody tr th {\n",
       "        vertical-align: top;\n",
       "    }\n",
       "\n",
       "    .dataframe thead th {\n",
       "        text-align: right;\n",
       "    }\n",
       "</style>\n",
       "<table border=\"1\" class=\"dataframe\">\n",
       "  <thead>\n",
       "    <tr style=\"text-align: right;\">\n",
       "      <th></th>\n",
       "      <th>uuid</th>\n",
       "      <th>is_upgrade</th>\n",
       "      <th>is_upgrade_shifted</th>\n",
       "    </tr>\n",
       "  </thead>\n",
       "  <tbody>\n",
       "    <tr>\n",
       "      <th>105021</th>\n",
       "      <td>U+lqK/FKWkPuoNUM1AbGyrKZfXeQrRRoKOToKrjqDt4=</td>\n",
       "      <td>NaN</td>\n",
       "      <td>NaN</td>\n",
       "    </tr>\n",
       "    <tr>\n",
       "      <th>11669798</th>\n",
       "      <td>U+lqK/FKWkPuoNUM1AbGyrKZfXeQrRRoKOToKrjqDt4=</td>\n",
       "      <td>NaN</td>\n",
       "      <td>NaN</td>\n",
       "    </tr>\n",
       "    <tr>\n",
       "      <th>3768239</th>\n",
       "      <td>U+lqK/FKWkPuoNUM1AbGyrKZfXeQrRRoKOToKrjqDt4=</td>\n",
       "      <td>True</td>\n",
       "      <td>NaN</td>\n",
       "    </tr>\n",
       "    <tr>\n",
       "      <th>10163558</th>\n",
       "      <td>U+lqK/FKWkPuoNUM1AbGyrKZfXeQrRRoKOToKrjqDt4=</td>\n",
       "      <td>True</td>\n",
       "      <td>True</td>\n",
       "    </tr>\n",
       "    <tr>\n",
       "      <th>8372688</th>\n",
       "      <td>U+lqK/FKWkPuoNUM1AbGyrKZfXeQrRRoKOToKrjqDt4=</td>\n",
       "      <td>NaN</td>\n",
       "      <td>True</td>\n",
       "    </tr>\n",
       "    <tr>\n",
       "      <th>...</th>\n",
       "      <td>...</td>\n",
       "      <td>...</td>\n",
       "      <td>...</td>\n",
       "    </tr>\n",
       "    <tr>\n",
       "      <th>5351619</th>\n",
       "      <td>liamj78o0Ae2wnaS0hq7LUfSTsp3xB6HEcffaKBUzGc=</td>\n",
       "      <td>True</td>\n",
       "      <td>NaN</td>\n",
       "    </tr>\n",
       "    <tr>\n",
       "      <th>8225534</th>\n",
       "      <td>DndeYzUnQn5RMFK82bE5EUK7UeWFnO3VgT7uAuluqTM=</td>\n",
       "      <td>NaN</td>\n",
       "      <td>NaN</td>\n",
       "    </tr>\n",
       "    <tr>\n",
       "      <th>14727695</th>\n",
       "      <td>t2N6muKWIarXYsUVv/M4rOx/+Qe0Gy9eC0ufuf7vZ0c=</td>\n",
       "      <td>NaN</td>\n",
       "      <td>True</td>\n",
       "    </tr>\n",
       "    <tr>\n",
       "      <th>13201613</th>\n",
       "      <td>hCyJTrhgUprNNWpJYKPcyHIxDHnbW91tv0OEM0wXSuI=</td>\n",
       "      <td>True</td>\n",
       "      <td>NaN</td>\n",
       "    </tr>\n",
       "    <tr>\n",
       "      <th>15112240</th>\n",
       "      <td>liamj78o0Ae2wnaS0hq7LUfSTsp3xB6HEcffaKBUzGc=</td>\n",
       "      <td>NaN</td>\n",
       "      <td>True</td>\n",
       "    </tr>\n",
       "  </tbody>\n",
       "</table>\n",
       "<p>16217311 rows × 3 columns</p>\n",
       "</div>"
      ],
      "text/plain": [
       "                                                  uuid is_upgrade  \\\n",
       "105021    U+lqK/FKWkPuoNUM1AbGyrKZfXeQrRRoKOToKrjqDt4=        NaN   \n",
       "11669798  U+lqK/FKWkPuoNUM1AbGyrKZfXeQrRRoKOToKrjqDt4=        NaN   \n",
       "3768239   U+lqK/FKWkPuoNUM1AbGyrKZfXeQrRRoKOToKrjqDt4=       True   \n",
       "10163558  U+lqK/FKWkPuoNUM1AbGyrKZfXeQrRRoKOToKrjqDt4=       True   \n",
       "8372688   U+lqK/FKWkPuoNUM1AbGyrKZfXeQrRRoKOToKrjqDt4=        NaN   \n",
       "...                                                ...        ...   \n",
       "5351619   liamj78o0Ae2wnaS0hq7LUfSTsp3xB6HEcffaKBUzGc=       True   \n",
       "8225534   DndeYzUnQn5RMFK82bE5EUK7UeWFnO3VgT7uAuluqTM=        NaN   \n",
       "14727695  t2N6muKWIarXYsUVv/M4rOx/+Qe0Gy9eC0ufuf7vZ0c=        NaN   \n",
       "13201613  hCyJTrhgUprNNWpJYKPcyHIxDHnbW91tv0OEM0wXSuI=       True   \n",
       "15112240  liamj78o0Ae2wnaS0hq7LUfSTsp3xB6HEcffaKBUzGc=        NaN   \n",
       "\n",
       "         is_upgrade_shifted  \n",
       "105021                  NaN  \n",
       "11669798                NaN  \n",
       "3768239                 NaN  \n",
       "10163558               True  \n",
       "8372688                True  \n",
       "...                     ...  \n",
       "5351619                 NaN  \n",
       "8225534                 NaN  \n",
       "14727695               True  \n",
       "13201613                NaN  \n",
       "15112240               True  \n",
       "\n",
       "[16217311 rows x 3 columns]"
      ]
     },
     "execution_count": 7,
     "metadata": {},
     "output_type": "execute_result"
    }
   ],
   "source": [
    "# shift cols down\n",
    "shift_cols(['is_downgrade', 'is_upgrade', 'level'], grouper='uuid')\n",
    "\n",
    "log_data[['uuid', 'is_upgrade', 'is_upgrade_shifted']]"
   ]
  },
  {
   "cell_type": "code",
   "execution_count": 8,
   "id": "pacific-transmission",
   "metadata": {},
   "outputs": [
    {
     "data": {
      "text/html": [
       "<div>\n",
       "<style scoped>\n",
       "    .dataframe tbody tr th:only-of-type {\n",
       "        vertical-align: middle;\n",
       "    }\n",
       "\n",
       "    .dataframe tbody tr th {\n",
       "        vertical-align: top;\n",
       "    }\n",
       "\n",
       "    .dataframe thead th {\n",
       "        text-align: right;\n",
       "    }\n",
       "</style>\n",
       "<table border=\"1\" class=\"dataframe\">\n",
       "  <thead>\n",
       "    <tr style=\"text-align: right;\">\n",
       "      <th></th>\n",
       "      <th>level</th>\n",
       "      <th>level_shifted</th>\n",
       "    </tr>\n",
       "  </thead>\n",
       "  <tbody>\n",
       "    <tr>\n",
       "      <th>1132955</th>\n",
       "      <td>0</td>\n",
       "      <td>NaN</td>\n",
       "    </tr>\n",
       "    <tr>\n",
       "      <th>15750449</th>\n",
       "      <td>0</td>\n",
       "      <td>0.0</td>\n",
       "    </tr>\n",
       "    <tr>\n",
       "      <th>5980999</th>\n",
       "      <td>0</td>\n",
       "      <td>0.0</td>\n",
       "    </tr>\n",
       "    <tr>\n",
       "      <th>1680609</th>\n",
       "      <td>0</td>\n",
       "      <td>0.0</td>\n",
       "    </tr>\n",
       "    <tr>\n",
       "      <th>12632454</th>\n",
       "      <td>0</td>\n",
       "      <td>0.0</td>\n",
       "    </tr>\n",
       "    <tr>\n",
       "      <th>...</th>\n",
       "      <td>...</td>\n",
       "      <td>...</td>\n",
       "    </tr>\n",
       "    <tr>\n",
       "      <th>6385238</th>\n",
       "      <td>0</td>\n",
       "      <td>1.0</td>\n",
       "    </tr>\n",
       "    <tr>\n",
       "      <th>9751764</th>\n",
       "      <td>1</td>\n",
       "      <td>0.0</td>\n",
       "    </tr>\n",
       "    <tr>\n",
       "      <th>1663819</th>\n",
       "      <td>0</td>\n",
       "      <td>1.0</td>\n",
       "    </tr>\n",
       "    <tr>\n",
       "      <th>11246356</th>\n",
       "      <td>1</td>\n",
       "      <td>0.0</td>\n",
       "    </tr>\n",
       "    <tr>\n",
       "      <th>14354750</th>\n",
       "      <td>1</td>\n",
       "      <td>1.0</td>\n",
       "    </tr>\n",
       "  </tbody>\n",
       "</table>\n",
       "<p>437 rows × 2 columns</p>\n",
       "</div>"
      ],
      "text/plain": [
       "          level  level_shifted\n",
       "1132955       0            NaN\n",
       "15750449      0            0.0\n",
       "5980999       0            0.0\n",
       "1680609       0            0.0\n",
       "12632454      0            0.0\n",
       "...         ...            ...\n",
       "6385238       0            1.0\n",
       "9751764       1            0.0\n",
       "1663819       0            1.0\n",
       "11246356      1            0.0\n",
       "14354750      1            1.0\n",
       "\n",
       "[437 rows x 2 columns]"
      ]
     },
     "execution_count": 8,
     "metadata": {},
     "output_type": "execute_result"
    }
   ],
   "source": [
    "# test case\n",
    "log_data[log_data['uuid']=='FLy+lviglNR5Y1l0Xiijnl6QHySBcpKHJLCtQ6ogm2Q='][['level', 'level_shifted']]"
   ]
  },
  {
   "cell_type": "markdown",
   "id": "controlling-gross",
   "metadata": {},
   "source": [
    "Seems like it works..na values are cos the rows are shifted down by 1"
   ]
  },
  {
   "cell_type": "code",
   "execution_count": 60,
   "id": "electoral-grace",
   "metadata": {},
   "outputs": [
    {
     "data": {
      "text/plain": [
       "Index(['timestamp_TW', 'uuid', 'ucid', 'upid', 'problem_number',\n",
       "       'exercise_problem_repeat_session', 'is_correct', 'total_sec_taken',\n",
       "       'total_attempt_cnt', 'used_hint_cnt', 'is_hint_used', 'is_downgrade',\n",
       "       'is_upgrade', 'level', 'level_shifted', 'is_downgrade_shifted',\n",
       "       'is_upgrade_shifted'],\n",
       "      dtype='object')"
      ]
     },
     "execution_count": 60,
     "metadata": {},
     "output_type": "execute_result"
    }
   ],
   "source": [
    "log_data.columns"
   ]
  },
  {
   "cell_type": "markdown",
   "id": "cardiac-preserve",
   "metadata": {},
   "source": [
    "#### Does the sequence in which a student encounters the problems make a difference? "
   ]
  },
  {
   "cell_type": "code",
   "execution_count": 7,
   "id": "steady-first",
   "metadata": {
    "scrolled": true
   },
   "outputs": [
    {
     "data": {
      "text/plain": [
       "uuid                                          ucid                                        \n",
       "++5bdNp/LZvGenJ8Brp4n2SfS9d4pu4qA7cF7FQW7hk=  VY6aXT7f64ny+uy4pszHVNSy3WHyoFPuhwToxBhB3wM=    1.000000\n",
       "++9EkR6syMGk44XpyhOj40cg9xiXwCLS/TwEy+ujrL0=  FR4KFXSJBwuu1LqaZRVJs+gv6d7T8mqibchrQhNvAKc=    0.103448\n",
       "++E4TrlDYvGtPBg1edhkLXLEEbnfiAgAamPQ33vpW8M=  Qx6mwirYKln7CTvOXad5Do5OkVKmypYSQfFs0MB6Cvs=    0.700000\n",
       "++G4mkLfs4WDYhc1Ga+3G+/oqSniQQvLBm7SBQ3V39Y=  412PAnenNdYglQWXSlVtS1RYA7Yg60Wty166LCMaiHU=    1.000000\n",
       "                                              HKqPgUALqZGw984KFqAMeDwDJTi9cNhJ51UXfjzELSg=    0.666667\n",
       "                                                                                                ...   \n",
       "zzyukk9LNl7j/9xxgZj6roQBbGn1MjSPTCgc0r5sXpU=  m6DnlS38gmb+QFf7102iqmQim9m7dKlTfZ7bPLN+Ato=    1.000000\n",
       "                                              oAoQyh9NT0lXlshN6sYYNSMTizpgCVqITEKcEthrDZU=    0.800000\n",
       "                                              pHm5o9NLjlO2lXB7CH2U80qF20rcHwHgxaIwnQiSd/c=    0.500000\n",
       "                                              sbRL5aKtZBIUbbb8mbJqn1Zi8nvOprK9WY8NWGHonA0=    1.000000\n",
       "                                              tPzc0JSXpr0JmIZKsEwoPNd7HYlbgErDMf2uJUXKJco=    0.500000\n",
       "Name: is_correct, Length: 1730090, dtype: float64"
      ]
     },
     "execution_count": 7,
     "metadata": {},
     "output_type": "execute_result"
    }
   ],
   "source": [
    "# what is the accuracy per exercise attempted? \n",
    "\n",
    "acc_per_exercise = log_data.groupby(by=['uuid', 'ucid'])['is_correct'].mean()\n",
    "\n",
    "acc_per_exercise"
   ]
  },
  {
   "cell_type": "code",
   "execution_count": 8,
   "id": "minute-spirituality",
   "metadata": {},
   "outputs": [
    {
     "data": {
      "text/plain": [
       "5851364     True\n",
       "10682047    True\n",
       "11828870    True\n",
       "13798435    True\n",
       "15461504    True\n",
       "Name: is_correct, dtype: bool"
      ]
     },
     "execution_count": 8,
     "metadata": {},
     "output_type": "execute_result"
    }
   ],
   "source": [
    "# check\n",
    "ex = 'FR4KFXSJBwuu1LqaZRVJs+gv6d7T8mqibchrQhNvAKc='\n",
    "std = '++9EkR6syMGk44XpyhOj40cg9xiXwCLS/TwEy+ujrL0='\n",
    "\n",
    "mask = (log_data['ucid']==ex) &  (log_data['uuid']==std)\n",
    "log_data[mask]['is_correct']"
   ]
  },
  {
   "cell_type": "code",
   "execution_count": 9,
   "id": "medium-silence",
   "metadata": {},
   "outputs": [
    {
     "data": {
      "text/plain": [
       "uuid                                          ucid                                        \n",
       "++5bdNp/LZvGenJ8Brp4n2SfS9d4pu4qA7cF7FQW7hk=  VY6aXT7f64ny+uy4pszHVNSy3WHyoFPuhwToxBhB3wM=    [SZt4MEfoLNcDjOc4qWBsd5Lw5M03DA0f22Baij04cbg=,...\n",
       "++9EkR6syMGk44XpyhOj40cg9xiXwCLS/TwEy+ujrL0=  FR4KFXSJBwuu1LqaZRVJs+gv6d7T8mqibchrQhNvAKc=    [9OUZKSeFU4ioJ1sgY90T8v2wGRcOp0V3IgizG6TFy34=,...\n",
       "++E4TrlDYvGtPBg1edhkLXLEEbnfiAgAamPQ33vpW8M=  Qx6mwirYKln7CTvOXad5Do5OkVKmypYSQfFs0MB6Cvs=    [3etEMUOdg1aQ094NPnamWU0T0NbViDtKHt8ytLDsp2k=,...\n",
       "++G4mkLfs4WDYhc1Ga+3G+/oqSniQQvLBm7SBQ3V39Y=  412PAnenNdYglQWXSlVtS1RYA7Yg60Wty166LCMaiHU=    [+WqwIJjbR9r1+Wf1DFrC96dIzpNx6Yrhn69rSqK4cnw=,...\n",
       "                                              HKqPgUALqZGw984KFqAMeDwDJTi9cNhJ51UXfjzELSg=    [lGmEnUZzK8MiAgLj/Af+BHDYRn0uNDEfshaaZnHG+ec=,...\n",
       "                                                                                                                    ...                        \n",
       "zzyukk9LNl7j/9xxgZj6roQBbGn1MjSPTCgc0r5sXpU=  m6DnlS38gmb+QFf7102iqmQim9m7dKlTfZ7bPLN+Ato=    [NfXh2PCjd37xmRqardkwJzGH2VWmqpxbku2xIyBPFJs=,...\n",
       "                                              oAoQyh9NT0lXlshN6sYYNSMTizpgCVqITEKcEthrDZU=    [E4DuQUw33082hheAbllWO3va0neKgzqhpIeHwyvtxcQ=,...\n",
       "                                              pHm5o9NLjlO2lXB7CH2U80qF20rcHwHgxaIwnQiSd/c=    [1I+S7lx0bkpcQObIQUO1MZubkz1jsl5o2TfTkqZbFS4=,...\n",
       "                                              sbRL5aKtZBIUbbb8mbJqn1Zi8nvOprK9WY8NWGHonA0=    [y1F0GHIxb2E3/NC/AemLeQBBUpUy5Dta5hd569jREg4=,...\n",
       "                                              tPzc0JSXpr0JmIZKsEwoPNd7HYlbgErDMf2uJUXKJco=    [VgXBIgRcyZwprS8j/BAOK0+Z1o4g5udQChYSQowf+5U=,...\n",
       "Name: upid, Length: 1730090, dtype: object"
      ]
     },
     "execution_count": 9,
     "metadata": {},
     "output_type": "execute_result"
    }
   ],
   "source": [
    "# what are the sequences?\n",
    "\n",
    "log_sorted = log_data.sort_values(by='problem_number', ascending=True)\n",
    "seq_per_std = log_sorted.groupby(by=['uuid', 'ucid'])['upid'].apply(lambda x: x.tolist())\n",
    "seq_per_std"
   ]
  },
  {
   "cell_type": "code",
   "execution_count": 15,
   "id": "fancy-tamil",
   "metadata": {},
   "outputs": [
    {
     "data": {
      "text/plain": [
       "array([ True,  True,  True,  True,  True])"
      ]
     },
     "execution_count": 15,
     "metadata": {},
     "output_type": "execute_result"
    }
   ],
   "source": [
    "# check\n",
    "output = seq_per_std.loc[std, ex]\n",
    "tmp = log_data[mask].sort_values(by='problem_number', ascending=True)[['upid', 'problem_number']]\n",
    "tmp['upid'].values == output"
   ]
  },
  {
   "cell_type": "code",
   "execution_count": 28,
   "id": "advisory-recommendation",
   "metadata": {},
   "outputs": [
    {
     "name": "stdout",
     "output_type": "stream",
     "text": [
      "1326\n",
      "1730090\n"
     ]
    }
   ],
   "source": [
    "# how many unique sequences are there per exercise? \n",
    "index_values = seq_per_std.index.get_level_values(level='ucid')\n",
    "print(len(log_data['ucid'].unique()))\n",
    "print(len(index_values))\n",
    "n_unique_seq = index_values.value_counts()"
   ]
  },
  {
   "cell_type": "code",
   "execution_count": 31,
   "id": "peripheral-constitution",
   "metadata": {},
   "outputs": [
    {
     "data": {
      "text/plain": [
       "<AxesSubplot:title={'center':'number of sequences per course'}, ylabel='Frequency'>"
      ]
     },
     "execution_count": 31,
     "metadata": {},
     "output_type": "execute_result"
    },
    {
     "data": {
      "image/png": "[encoded data removed]",
      "text/plain": [
       "<Figure size 432x288 with 1 Axes>"
      ]
     },
     "metadata": {
      "needs_background": "light"
     },
     "output_type": "display_data"
    }
   ],
   "source": [
    "n_unique_seq.plot(kind='hist', title='number of sequences per course')"
   ]
  },
  {
   "cell_type": "code",
   "execution_count": 44,
   "id": "earlier-death",
   "metadata": {},
   "outputs": [
    {
     "data": {
      "text/html": [
       "<div>\n",
       "<style scoped>\n",
       "    .dataframe tbody tr th:only-of-type {\n",
       "        vertical-align: middle;\n",
       "    }\n",
       "\n",
       "    .dataframe tbody tr th {\n",
       "        vertical-align: top;\n",
       "    }\n",
       "\n",
       "    .dataframe thead th {\n",
       "        text-align: right;\n",
       "    }\n",
       "</style>\n",
       "<table border=\"1\" class=\"dataframe\">\n",
       "  <thead>\n",
       "    <tr style=\"text-align: right;\">\n",
       "      <th></th>\n",
       "      <th>uuid</th>\n",
       "      <th>ucid</th>\n",
       "      <th>is_correct</th>\n",
       "    </tr>\n",
       "  </thead>\n",
       "  <tbody>\n",
       "    <tr>\n",
       "      <th>0</th>\n",
       "      <td>++5bdNp/LZvGenJ8Brp4n2SfS9d4pu4qA7cF7FQW7hk=</td>\n",
       "      <td>VY6aXT7f64ny+uy4pszHVNSy3WHyoFPuhwToxBhB3wM=</td>\n",
       "      <td>1.000000</td>\n",
       "    </tr>\n",
       "    <tr>\n",
       "      <th>1</th>\n",
       "      <td>++9EkR6syMGk44XpyhOj40cg9xiXwCLS/TwEy+ujrL0=</td>\n",
       "      <td>FR4KFXSJBwuu1LqaZRVJs+gv6d7T8mqibchrQhNvAKc=</td>\n",
       "      <td>0.103448</td>\n",
       "    </tr>\n",
       "    <tr>\n",
       "      <th>2</th>\n",
       "      <td>++E4TrlDYvGtPBg1edhkLXLEEbnfiAgAamPQ33vpW8M=</td>\n",
       "      <td>Qx6mwirYKln7CTvOXad5Do5OkVKmypYSQfFs0MB6Cvs=</td>\n",
       "      <td>0.700000</td>\n",
       "    </tr>\n",
       "    <tr>\n",
       "      <th>3</th>\n",
       "      <td>++G4mkLfs4WDYhc1Ga+3G+/oqSniQQvLBm7SBQ3V39Y=</td>\n",
       "      <td>412PAnenNdYglQWXSlVtS1RYA7Yg60Wty166LCMaiHU=</td>\n",
       "      <td>1.000000</td>\n",
       "    </tr>\n",
       "    <tr>\n",
       "      <th>4</th>\n",
       "      <td>++G4mkLfs4WDYhc1Ga+3G+/oqSniQQvLBm7SBQ3V39Y=</td>\n",
       "      <td>HKqPgUALqZGw984KFqAMeDwDJTi9cNhJ51UXfjzELSg=</td>\n",
       "      <td>0.666667</td>\n",
       "    </tr>\n",
       "    <tr>\n",
       "      <th>...</th>\n",
       "      <td>...</td>\n",
       "      <td>...</td>\n",
       "      <td>...</td>\n",
       "    </tr>\n",
       "    <tr>\n",
       "      <th>1730085</th>\n",
       "      <td>zzyukk9LNl7j/9xxgZj6roQBbGn1MjSPTCgc0r5sXpU=</td>\n",
       "      <td>m6DnlS38gmb+QFf7102iqmQim9m7dKlTfZ7bPLN+Ato=</td>\n",
       "      <td>1.000000</td>\n",
       "    </tr>\n",
       "    <tr>\n",
       "      <th>1730086</th>\n",
       "      <td>zzyukk9LNl7j/9xxgZj6roQBbGn1MjSPTCgc0r5sXpU=</td>\n",
       "      <td>oAoQyh9NT0lXlshN6sYYNSMTizpgCVqITEKcEthrDZU=</td>\n",
       "      <td>0.800000</td>\n",
       "    </tr>\n",
       "    <tr>\n",
       "      <th>1730087</th>\n",
       "      <td>zzyukk9LNl7j/9xxgZj6roQBbGn1MjSPTCgc0r5sXpU=</td>\n",
       "      <td>pHm5o9NLjlO2lXB7CH2U80qF20rcHwHgxaIwnQiSd/c=</td>\n",
       "      <td>0.500000</td>\n",
       "    </tr>\n",
       "    <tr>\n",
       "      <th>1730088</th>\n",
       "      <td>zzyukk9LNl7j/9xxgZj6roQBbGn1MjSPTCgc0r5sXpU=</td>\n",
       "      <td>sbRL5aKtZBIUbbb8mbJqn1Zi8nvOprK9WY8NWGHonA0=</td>\n",
       "      <td>1.000000</td>\n",
       "    </tr>\n",
       "    <tr>\n",
       "      <th>1730089</th>\n",
       "      <td>zzyukk9LNl7j/9xxgZj6roQBbGn1MjSPTCgc0r5sXpU=</td>\n",
       "      <td>tPzc0JSXpr0JmIZKsEwoPNd7HYlbgErDMf2uJUXKJco=</td>\n",
       "      <td>0.500000</td>\n",
       "    </tr>\n",
       "  </tbody>\n",
       "</table>\n",
       "<p>1730090 rows × 3 columns</p>\n",
       "</div>"
      ],
      "text/plain": [
       "                                                 uuid  \\\n",
       "0        ++5bdNp/LZvGenJ8Brp4n2SfS9d4pu4qA7cF7FQW7hk=   \n",
       "1        ++9EkR6syMGk44XpyhOj40cg9xiXwCLS/TwEy+ujrL0=   \n",
       "2        ++E4TrlDYvGtPBg1edhkLXLEEbnfiAgAamPQ33vpW8M=   \n",
       "3        ++G4mkLfs4WDYhc1Ga+3G+/oqSniQQvLBm7SBQ3V39Y=   \n",
       "4        ++G4mkLfs4WDYhc1Ga+3G+/oqSniQQvLBm7SBQ3V39Y=   \n",
       "...                                               ...   \n",
       "1730085  zzyukk9LNl7j/9xxgZj6roQBbGn1MjSPTCgc0r5sXpU=   \n",
       "1730086  zzyukk9LNl7j/9xxgZj6roQBbGn1MjSPTCgc0r5sXpU=   \n",
       "1730087  zzyukk9LNl7j/9xxgZj6roQBbGn1MjSPTCgc0r5sXpU=   \n",
       "1730088  zzyukk9LNl7j/9xxgZj6roQBbGn1MjSPTCgc0r5sXpU=   \n",
       "1730089  zzyukk9LNl7j/9xxgZj6roQBbGn1MjSPTCgc0r5sXpU=   \n",
       "\n",
       "                                                 ucid  is_correct  \n",
       "0        VY6aXT7f64ny+uy4pszHVNSy3WHyoFPuhwToxBhB3wM=    1.000000  \n",
       "1        FR4KFXSJBwuu1LqaZRVJs+gv6d7T8mqibchrQhNvAKc=    0.103448  \n",
       "2        Qx6mwirYKln7CTvOXad5Do5OkVKmypYSQfFs0MB6Cvs=    0.700000  \n",
       "3        412PAnenNdYglQWXSlVtS1RYA7Yg60Wty166LCMaiHU=    1.000000  \n",
       "4        HKqPgUALqZGw984KFqAMeDwDJTi9cNhJ51UXfjzELSg=    0.666667  \n",
       "...                                               ...         ...  \n",
       "1730085  m6DnlS38gmb+QFf7102iqmQim9m7dKlTfZ7bPLN+Ato=    1.000000  \n",
       "1730086  oAoQyh9NT0lXlshN6sYYNSMTizpgCVqITEKcEthrDZU=    0.800000  \n",
       "1730087  pHm5o9NLjlO2lXB7CH2U80qF20rcHwHgxaIwnQiSd/c=    0.500000  \n",
       "1730088  sbRL5aKtZBIUbbb8mbJqn1Zi8nvOprK9WY8NWGHonA0=    1.000000  \n",
       "1730089  tPzc0JSXpr0JmIZKsEwoPNd7HYlbgErDMf2uJUXKJco=    0.500000  \n",
       "\n",
       "[1730090 rows x 3 columns]"
      ]
     },
     "execution_count": 44,
     "metadata": {},
     "output_type": "execute_result"
    }
   ],
   "source": [
    "acc_per_exercise.to_frame().reset_index()"
   ]
  },
  {
   "cell_type": "code",
   "execution_count": 48,
   "id": "middle-title",
   "metadata": {},
   "outputs": [
    {
     "name": "stdout",
     "output_type": "stream",
     "text": [
      "(1730090, 3)\n",
      "(1730090, 3)\n",
      "(1730090, 4)\n"
     ]
    }
   ],
   "source": [
    "# merge sequences and accuracies\n",
    "\n",
    "accuracies = acc_per_exercise.to_frame().reset_index()\n",
    "accuracies.rename(columns={'is_correct': 'accuracy'}, inplace=True)\n",
    "sequences = seq_per_std.to_frame().reset_index()\n",
    "sequences.rename(columns={'upid': 'sequence'}, inplace=True)\n",
    "\n",
    "merged = accuracies.merge(sequences, on=['uuid', 'ucid'])\n",
    "print(sequences.shape)\n",
    "print(accuracies.shape)\n",
    "print(merged.shape)"
   ]
  },
  {
   "cell_type": "code",
   "execution_count": 51,
   "id": "circular-declaration",
   "metadata": {},
   "outputs": [
    {
     "data": {
      "text/html": [
       "<div>\n",
       "<style scoped>\n",
       "    .dataframe tbody tr th:only-of-type {\n",
       "        vertical-align: middle;\n",
       "    }\n",
       "\n",
       "    .dataframe tbody tr th {\n",
       "        vertical-align: top;\n",
       "    }\n",
       "\n",
       "    .dataframe thead th {\n",
       "        text-align: right;\n",
       "    }\n",
       "</style>\n",
       "<table border=\"1\" class=\"dataframe\">\n",
       "  <thead>\n",
       "    <tr style=\"text-align: right;\">\n",
       "      <th></th>\n",
       "      <th>uuid</th>\n",
       "      <th>ucid</th>\n",
       "      <th>accuracy</th>\n",
       "      <th>sequence</th>\n",
       "    </tr>\n",
       "  </thead>\n",
       "  <tbody>\n",
       "    <tr>\n",
       "      <th>0</th>\n",
       "      <td>++5bdNp/LZvGenJ8Brp4n2SfS9d4pu4qA7cF7FQW7hk=</td>\n",
       "      <td>VY6aXT7f64ny+uy4pszHVNSy3WHyoFPuhwToxBhB3wM=</td>\n",
       "      <td>1.000000</td>\n",
       "      <td>(SZt4MEfoLNcDjOc4qWBsd5Lw5M03DA0f22Baij04cbg=,...</td>\n",
       "    </tr>\n",
       "    <tr>\n",
       "      <th>1</th>\n",
       "      <td>++9EkR6syMGk44XpyhOj40cg9xiXwCLS/TwEy+ujrL0=</td>\n",
       "      <td>FR4KFXSJBwuu1LqaZRVJs+gv6d7T8mqibchrQhNvAKc=</td>\n",
       "      <td>0.103448</td>\n",
       "      <td>(9OUZKSeFU4ioJ1sgY90T8v2wGRcOp0V3IgizG6TFy34=,...</td>\n",
       "    </tr>\n",
       "    <tr>\n",
       "      <th>2</th>\n",
       "      <td>++E4TrlDYvGtPBg1edhkLXLEEbnfiAgAamPQ33vpW8M=</td>\n",
       "      <td>Qx6mwirYKln7CTvOXad5Do5OkVKmypYSQfFs0MB6Cvs=</td>\n",
       "      <td>0.700000</td>\n",
       "      <td>(3etEMUOdg1aQ094NPnamWU0T0NbViDtKHt8ytLDsp2k=,...</td>\n",
       "    </tr>\n",
       "    <tr>\n",
       "      <th>3</th>\n",
       "      <td>++G4mkLfs4WDYhc1Ga+3G+/oqSniQQvLBm7SBQ3V39Y=</td>\n",
       "      <td>412PAnenNdYglQWXSlVtS1RYA7Yg60Wty166LCMaiHU=</td>\n",
       "      <td>1.000000</td>\n",
       "      <td>(+WqwIJjbR9r1+Wf1DFrC96dIzpNx6Yrhn69rSqK4cnw=,...</td>\n",
       "    </tr>\n",
       "    <tr>\n",
       "      <th>4</th>\n",
       "      <td>++G4mkLfs4WDYhc1Ga+3G+/oqSniQQvLBm7SBQ3V39Y=</td>\n",
       "      <td>HKqPgUALqZGw984KFqAMeDwDJTi9cNhJ51UXfjzELSg=</td>\n",
       "      <td>0.666667</td>\n",
       "      <td>(lGmEnUZzK8MiAgLj/Af+BHDYRn0uNDEfshaaZnHG+ec=,...</td>\n",
       "    </tr>\n",
       "    <tr>\n",
       "      <th>...</th>\n",
       "      <td>...</td>\n",
       "      <td>...</td>\n",
       "      <td>...</td>\n",
       "      <td>...</td>\n",
       "    </tr>\n",
       "    <tr>\n",
       "      <th>1730085</th>\n",
       "      <td>zzyukk9LNl7j/9xxgZj6roQBbGn1MjSPTCgc0r5sXpU=</td>\n",
       "      <td>m6DnlS38gmb+QFf7102iqmQim9m7dKlTfZ7bPLN+Ato=</td>\n",
       "      <td>1.000000</td>\n",
       "      <td>(NfXh2PCjd37xmRqardkwJzGH2VWmqpxbku2xIyBPFJs=,...</td>\n",
       "    </tr>\n",
       "    <tr>\n",
       "      <th>1730086</th>\n",
       "      <td>zzyukk9LNl7j/9xxgZj6roQBbGn1MjSPTCgc0r5sXpU=</td>\n",
       "      <td>oAoQyh9NT0lXlshN6sYYNSMTizpgCVqITEKcEthrDZU=</td>\n",
       "      <td>0.800000</td>\n",
       "      <td>(E4DuQUw33082hheAbllWO3va0neKgzqhpIeHwyvtxcQ=,...</td>\n",
       "    </tr>\n",
       "    <tr>\n",
       "      <th>1730087</th>\n",
       "      <td>zzyukk9LNl7j/9xxgZj6roQBbGn1MjSPTCgc0r5sXpU=</td>\n",
       "      <td>pHm5o9NLjlO2lXB7CH2U80qF20rcHwHgxaIwnQiSd/c=</td>\n",
       "      <td>0.500000</td>\n",
       "      <td>(1I+S7lx0bkpcQObIQUO1MZubkz1jsl5o2TfTkqZbFS4=,...</td>\n",
       "    </tr>\n",
       "    <tr>\n",
       "      <th>1730088</th>\n",
       "      <td>zzyukk9LNl7j/9xxgZj6roQBbGn1MjSPTCgc0r5sXpU=</td>\n",
       "      <td>sbRL5aKtZBIUbbb8mbJqn1Zi8nvOprK9WY8NWGHonA0=</td>\n",
       "      <td>1.000000</td>\n",
       "      <td>(y1F0GHIxb2E3/NC/AemLeQBBUpUy5Dta5hd569jREg4=,...</td>\n",
       "    </tr>\n",
       "    <tr>\n",
       "      <th>1730089</th>\n",
       "      <td>zzyukk9LNl7j/9xxgZj6roQBbGn1MjSPTCgc0r5sXpU=</td>\n",
       "      <td>tPzc0JSXpr0JmIZKsEwoPNd7HYlbgErDMf2uJUXKJco=</td>\n",
       "      <td>0.500000</td>\n",
       "      <td>(VgXBIgRcyZwprS8j/BAOK0+Z1o4g5udQChYSQowf+5U=,...</td>\n",
       "    </tr>\n",
       "  </tbody>\n",
       "</table>\n",
       "<p>1730090 rows × 4 columns</p>\n",
       "</div>"
      ],
      "text/plain": [
       "                                                 uuid  \\\n",
       "0        ++5bdNp/LZvGenJ8Brp4n2SfS9d4pu4qA7cF7FQW7hk=   \n",
       "1        ++9EkR6syMGk44XpyhOj40cg9xiXwCLS/TwEy+ujrL0=   \n",
       "2        ++E4TrlDYvGtPBg1edhkLXLEEbnfiAgAamPQ33vpW8M=   \n",
       "3        ++G4mkLfs4WDYhc1Ga+3G+/oqSniQQvLBm7SBQ3V39Y=   \n",
       "4        ++G4mkLfs4WDYhc1Ga+3G+/oqSniQQvLBm7SBQ3V39Y=   \n",
       "...                                               ...   \n",
       "1730085  zzyukk9LNl7j/9xxgZj6roQBbGn1MjSPTCgc0r5sXpU=   \n",
       "1730086  zzyukk9LNl7j/9xxgZj6roQBbGn1MjSPTCgc0r5sXpU=   \n",
       "1730087  zzyukk9LNl7j/9xxgZj6roQBbGn1MjSPTCgc0r5sXpU=   \n",
       "1730088  zzyukk9LNl7j/9xxgZj6roQBbGn1MjSPTCgc0r5sXpU=   \n",
       "1730089  zzyukk9LNl7j/9xxgZj6roQBbGn1MjSPTCgc0r5sXpU=   \n",
       "\n",
       "                                                 ucid  accuracy  \\\n",
       "0        VY6aXT7f64ny+uy4pszHVNSy3WHyoFPuhwToxBhB3wM=  1.000000   \n",
       "1        FR4KFXSJBwuu1LqaZRVJs+gv6d7T8mqibchrQhNvAKc=  0.103448   \n",
       "2        Qx6mwirYKln7CTvOXad5Do5OkVKmypYSQfFs0MB6Cvs=  0.700000   \n",
       "3        412PAnenNdYglQWXSlVtS1RYA7Yg60Wty166LCMaiHU=  1.000000   \n",
       "4        HKqPgUALqZGw984KFqAMeDwDJTi9cNhJ51UXfjzELSg=  0.666667   \n",
       "...                                               ...       ...   \n",
       "1730085  m6DnlS38gmb+QFf7102iqmQim9m7dKlTfZ7bPLN+Ato=  1.000000   \n",
       "1730086  oAoQyh9NT0lXlshN6sYYNSMTizpgCVqITEKcEthrDZU=  0.800000   \n",
       "1730087  pHm5o9NLjlO2lXB7CH2U80qF20rcHwHgxaIwnQiSd/c=  0.500000   \n",
       "1730088  sbRL5aKtZBIUbbb8mbJqn1Zi8nvOprK9WY8NWGHonA0=  1.000000   \n",
       "1730089  tPzc0JSXpr0JmIZKsEwoPNd7HYlbgErDMf2uJUXKJco=  0.500000   \n",
       "\n",
       "                                                  sequence  \n",
       "0        (SZt4MEfoLNcDjOc4qWBsd5Lw5M03DA0f22Baij04cbg=,...  \n",
       "1        (9OUZKSeFU4ioJ1sgY90T8v2wGRcOp0V3IgizG6TFy34=,...  \n",
       "2        (3etEMUOdg1aQ094NPnamWU0T0NbViDtKHt8ytLDsp2k=,...  \n",
       "3        (+WqwIJjbR9r1+Wf1DFrC96dIzpNx6Yrhn69rSqK4cnw=,...  \n",
       "4        (lGmEnUZzK8MiAgLj/Af+BHDYRn0uNDEfshaaZnHG+ec=,...  \n",
       "...                                                    ...  \n",
       "1730085  (NfXh2PCjd37xmRqardkwJzGH2VWmqpxbku2xIyBPFJs=,...  \n",
       "1730086  (E4DuQUw33082hheAbllWO3va0neKgzqhpIeHwyvtxcQ=,...  \n",
       "1730087  (1I+S7lx0bkpcQObIQUO1MZubkz1jsl5o2TfTkqZbFS4=,...  \n",
       "1730088  (y1F0GHIxb2E3/NC/AemLeQBBUpUy5Dta5hd569jREg4=,...  \n",
       "1730089  (VgXBIgRcyZwprS8j/BAOK0+Z1o4g5udQChYSQowf+5U=,...  \n",
       "\n",
       "[1730090 rows x 4 columns]"
      ]
     },
     "execution_count": 51,
     "metadata": {},
     "output_type": "execute_result"
    }
   ],
   "source": [
    "merged['sequence'] = merged['sequence'].apply(lambda x: tuple(x))\n",
    "merged"
   ]
  },
  {
   "cell_type": "code",
   "execution_count": 53,
   "id": "objective-adapter",
   "metadata": {},
   "outputs": [
    {
     "data": {
      "text/plain": [
       "(1672981,)"
      ]
     },
     "execution_count": 53,
     "metadata": {},
     "output_type": "execute_result"
    }
   ],
   "source": [
    "# are there any sequences which yield a higher accuracy? \n",
    "seq_accuracies = merged.groupby(by='sequence')['accuracy'].mean()\n",
    "seq_accuracies.shape"
   ]
  },
  {
   "cell_type": "markdown",
   "id": "swedish-patient",
   "metadata": {},
   "source": [
    "There's not that many students who encounter the questions in the same sequence. We might need to define some measure of similarity between sequences."
   ]
  },
  {
   "cell_type": "code",
   "execution_count": 57,
   "id": "cultural-flesh",
   "metadata": {},
   "outputs": [
    {
     "data": {
      "text/plain": [
       "<AxesSubplot:title={'center':'accuracies for each unique seq'}, ylabel='Frequency'>"
      ]
     },
     "execution_count": 57,
     "metadata": {},
     "output_type": "execute_result"
    },
    {
     "data": {
      "image/png": "[encoded data removed]",
      "text/plain": [
       "<Figure size 432x288 with 1 Axes>"
      ]
     },
     "metadata": {
      "needs_background": "light"
     },
     "output_type": "display_data"
    }
   ],
   "source": [
    "seq_accuracies.plot(kind='hist', title='accuracies for each unique seq')"
   ]
  },
  {
   "cell_type": "markdown",
   "id": "stupid-newcastle",
   "metadata": {},
   "source": [
    "Many sequences have quite high accuracy..? hahaha"
   ]
  },
  {
   "cell_type": "code",
   "execution_count": 22,
   "id": "cognitive-preserve",
   "metadata": {},
   "outputs": [
    {
     "data": {
      "text/plain": [
       "118.39140271493213"
      ]
     },
     "execution_count": 22,
     "metadata": {},
     "output_type": "execute_result"
    }
   ],
   "source": [
    "# how long is each exercise, on average?\n",
    "\n",
    "max_problems = log_data.groupby(by='ucid')['problem_number'].max()\n",
    "\n",
    "sum(max_problems) / len(max_problems)\n"
   ]
  },
  {
   "cell_type": "code",
   "execution_count": 23,
   "id": "running-terrorist",
   "metadata": {},
   "outputs": [
    {
     "data": {
      "text/plain": [
       "72758"
      ]
     },
     "execution_count": 23,
     "metadata": {},
     "output_type": "execute_result"
    }
   ],
   "source": [
    "log_data['level_shifted'].isna().sum()"
   ]
  },
  {
   "cell_type": "code",
   "execution_count": 25,
   "id": "empty-capital",
   "metadata": {},
   "outputs": [
    {
     "data": {
      "text/plain": [
       "0    0.728180\n",
       "1    0.145071\n",
       "2    0.061466\n",
       "3    0.046335\n",
       "4    0.018948\n",
       "Name: level, dtype: float64"
      ]
     },
     "execution_count": 25,
     "metadata": {},
     "output_type": "execute_result"
    }
   ],
   "source": [
    "# how many log entries for students of each level?\n",
    "log_data['level'].value_counts(normalize=True)"
   ]
  },
  {
   "cell_type": "code",
   "execution_count": 9,
   "id": "light-seven",
   "metadata": {},
   "outputs": [
    {
     "name": "stdout",
     "output_type": "stream",
     "text": [
      "nan\n",
      "0.0\n",
      "1.0\n",
      "2.0\n",
      "3.0\n",
      "4.0\n"
     ]
    },
    {
     "data": {
      "image/png": "[encoded data removed]",
      "text/plain": [
       "<Figure size 864x720 with 6 Axes>"
      ]
     },
     "metadata": {
      "needs_background": "light"
     },
     "output_type": "display_data"
    }
   ],
   "source": [
    "# does user performance improve with level?\n",
    "unique_levels = log_data['level_shifted'].unique()\n",
    "\n",
    "fig, axes = plt.subplots(3, 2, figsize=(12, 10))\n",
    "\n",
    "for lvl in unique_levels:\n",
    "    print(lvl)\n",
    "    if np.isnan(lvl):\n",
    "        continue\n",
    "    lvl_mask = log_data['level_shifted']==lvl\n",
    "    lvl_data = log_data[lvl_mask]\n",
    "    lvl_data['is_correct'].value_counts(normalize=True).plot(kind='bar',\n",
    "                                                             title=f\"correct/wrong value counts for level {int(lvl)}\",\n",
    "                                                             ax=axes[int(lvl) // 2, int(lvl) % 2])\n",
    "    "
   ]
  },
  {
   "cell_type": "markdown",
   "id": "pacific-cheese",
   "metadata": {},
   "source": [
    "Lower level students do really get more questions wrong, but there is also considerably less data for these students "
   ]
  },
  {
   "cell_type": "code",
   "execution_count": 10,
   "id": "positive-interval",
   "metadata": {},
   "outputs": [
    {
     "data": {
      "text/plain": [
       "0.8421052631578947"
      ]
     },
     "execution_count": 10,
     "metadata": {},
     "output_type": "execute_result"
    }
   ],
   "source": [
    "def get_student_accuracy(student_id, exercise_id=None):\n",
    "    '''\n",
    "    helper function to return the % of questions answered correctly by student \n",
    "    if exercise_id is specified, only considers given exercise. \n",
    "    else will return agg accuracy across all exercises \n",
    "    '''\n",
    "    student_mask = log_data['uuid']==student_id\n",
    "    student_data = log_data[student_mask]\n",
    "    \n",
    "    if exercise_id:\n",
    "        exercise_mask = student_data['ucid']==exercise_id\n",
    "        student_data = student_data[exercise_mask]\n",
    "    \n",
    "    # accuracy = # questions answered correctly / # questions attempted\n",
    "    student_accuracy = sum(student_data['is_correct']) / len(student_data['is_correct'])\n",
    "    return student_accuracy\n",
    "\n",
    "# test case\n",
    "get_student_accuracy(log_data['uuid'][0])"
   ]
  },
  {
   "cell_type": "code",
   "execution_count": 11,
   "id": "measured-cycling",
   "metadata": {},
   "outputs": [
    {
     "data": {
      "text/html": [
       "<div>\n",
       "<style scoped>\n",
       "    .dataframe tbody tr th:only-of-type {\n",
       "        vertical-align: middle;\n",
       "    }\n",
       "\n",
       "    .dataframe tbody tr th {\n",
       "        vertical-align: top;\n",
       "    }\n",
       "\n",
       "    .dataframe thead th {\n",
       "        text-align: right;\n",
       "    }\n",
       "</style>\n",
       "<table border=\"1\" class=\"dataframe\">\n",
       "  <thead>\n",
       "    <tr style=\"text-align: right;\">\n",
       "      <th></th>\n",
       "      <th>is_correct</th>\n",
       "    </tr>\n",
       "    <tr>\n",
       "      <th>uuid</th>\n",
       "      <th></th>\n",
       "    </tr>\n",
       "  </thead>\n",
       "  <tbody>\n",
       "    <tr>\n",
       "      <th>++5bdNp/LZvGenJ8Brp4n2SfS9d4pu4qA7cF7FQW7hk=</th>\n",
       "      <td>1.000000</td>\n",
       "    </tr>\n",
       "    <tr>\n",
       "      <th>++9EkR6syMGk44XpyhOj40cg9xiXwCLS/TwEy+ujrL0=</th>\n",
       "      <td>0.103448</td>\n",
       "    </tr>\n",
       "    <tr>\n",
       "      <th>++E4TrlDYvGtPBg1edhkLXLEEbnfiAgAamPQ33vpW8M=</th>\n",
       "      <td>0.700000</td>\n",
       "    </tr>\n",
       "    <tr>\n",
       "      <th>++G4mkLfs4WDYhc1Ga+3G+/oqSniQQvLBm7SBQ3V39Y=</th>\n",
       "      <td>0.560976</td>\n",
       "    </tr>\n",
       "    <tr>\n",
       "      <th>++GobOSWqrsaxoRg1bMN+T6biIJcgBXwuOH/ddq3DiU=</th>\n",
       "      <td>0.883871</td>\n",
       "    </tr>\n",
       "    <tr>\n",
       "      <th>...</th>\n",
       "      <td>...</td>\n",
       "    </tr>\n",
       "    <tr>\n",
       "      <th>zztwLsjf44Uzumou84qh04wObpugkIllLCIp/mgoMu8=</th>\n",
       "      <td>0.884615</td>\n",
       "    </tr>\n",
       "    <tr>\n",
       "      <th>zzueVRV14tXIEgW4ixiqmtPNaFYz4MIifbMM/H2tmqA=</th>\n",
       "      <td>0.666667</td>\n",
       "    </tr>\n",
       "    <tr>\n",
       "      <th>zzujjvdKzb4wL8cFKdF3Of5gg2XHzIDQCZ2TfaYpSNs=</th>\n",
       "      <td>0.552743</td>\n",
       "    </tr>\n",
       "    <tr>\n",
       "      <th>zzvvUOwcSXXTXd8xoyimNcm2DjeVPLmZAI19WKfhSAM=</th>\n",
       "      <td>0.956522</td>\n",
       "    </tr>\n",
       "    <tr>\n",
       "      <th>zzyukk9LNl7j/9xxgZj6roQBbGn1MjSPTCgc0r5sXpU=</th>\n",
       "      <td>0.741379</td>\n",
       "    </tr>\n",
       "  </tbody>\n",
       "</table>\n",
       "<p>72758 rows × 1 columns</p>\n",
       "</div>"
      ],
      "text/plain": [
       "                                              is_correct\n",
       "uuid                                                    \n",
       "++5bdNp/LZvGenJ8Brp4n2SfS9d4pu4qA7cF7FQW7hk=    1.000000\n",
       "++9EkR6syMGk44XpyhOj40cg9xiXwCLS/TwEy+ujrL0=    0.103448\n",
       "++E4TrlDYvGtPBg1edhkLXLEEbnfiAgAamPQ33vpW8M=    0.700000\n",
       "++G4mkLfs4WDYhc1Ga+3G+/oqSniQQvLBm7SBQ3V39Y=    0.560976\n",
       "++GobOSWqrsaxoRg1bMN+T6biIJcgBXwuOH/ddq3DiU=    0.883871\n",
       "...                                                  ...\n",
       "zztwLsjf44Uzumou84qh04wObpugkIllLCIp/mgoMu8=    0.884615\n",
       "zzueVRV14tXIEgW4ixiqmtPNaFYz4MIifbMM/H2tmqA=    0.666667\n",
       "zzujjvdKzb4wL8cFKdF3Of5gg2XHzIDQCZ2TfaYpSNs=    0.552743\n",
       "zzvvUOwcSXXTXd8xoyimNcm2DjeVPLmZAI19WKfhSAM=    0.956522\n",
       "zzyukk9LNl7j/9xxgZj6roQBbGn1MjSPTCgc0r5sXpU=    0.741379\n",
       "\n",
       "[72758 rows x 1 columns]"
      ]
     },
     "execution_count": 11,
     "metadata": {},
     "output_type": "execute_result"
    }
   ],
   "source": [
    "pivot_correct = log_data.pivot_table(values='is_correct', index='uuid', aggfunc='sum')\n",
    "pivot_attempted = log_data.pivot_table(values='is_correct', index='uuid', aggfunc='count')\n",
    "\n",
    "student_accuracies = pivot_correct / pivot_attempted\n",
    "student_accuracies\n"
   ]
  },
  {
   "cell_type": "code",
   "execution_count": 12,
   "id": "figured-brazilian",
   "metadata": {},
   "outputs": [
    {
     "data": {
      "text/plain": [
       "<AxesSubplot:title={'center':'distribution of student accuracies'}, ylabel='Frequency'>"
      ]
     },
     "execution_count": 12,
     "metadata": {},
     "output_type": "execute_result"
    },
    {
     "data": {
      "image/png": "[encoded data removed]",
      "text/plain": [
       "<Figure size 432x288 with 1 Axes>"
      ]
     },
     "metadata": {
      "needs_background": "light"
     },
     "output_type": "display_data"
    }
   ],
   "source": [
    "student_accuracies.plot(kind='hist', title='distribution of student accuracies')"
   ]
  },
  {
   "cell_type": "code",
   "execution_count": 36,
   "id": "adequate-frederick",
   "metadata": {},
   "outputs": [
    {
     "data": {
      "text/plain": [
       "Text(0.5, 0.98, 'accuracies vs points')"
      ]
     },
     "execution_count": 36,
     "metadata": {},
     "output_type": "execute_result"
    },
    {
     "data": {
      "image/png": "[encoded data removed]",
      "text/plain": [
       "<Figure size 432x288 with 1 Axes>"
      ]
     },
     "metadata": {
      "needs_background": "light"
     },
     "output_type": "display_data"
    }
   ],
   "source": [
    "# student accuracies vs points\n",
    "\n",
    "student_points = user_data[['uuid', 'points']]\n",
    "student_points = student_points.merge(student_accuracies, how='left', right_index=True, left_on='uuid')\n",
    "\n",
    "fig, ax = plt.subplots()\n",
    "ax.scatter(x=student_points['is_correct'], y=student_points['points'])\n",
    "fig.suptitle(\"accuracies vs points\")"
   ]
  },
  {
   "cell_type": "code",
   "execution_count": 13,
   "id": "resident-croatia",
   "metadata": {},
   "outputs": [
    {
     "data": {
      "text/plain": [
       "<AxesSubplot:title={'center':'# of courses taken by students'}, ylabel='Frequency'>"
      ]
     },
     "execution_count": 13,
     "metadata": {},
     "output_type": "execute_result"
    },
    {
     "data": {
      "image/png": "[encoded data removed]",
      "text/plain": [
       "<Figure size 432x288 with 1 Axes>"
      ]
     },
     "metadata": {
      "needs_background": "light"
     },
     "output_type": "display_data"
    }
   ],
   "source": [
    "# number of exercises attempted by each student\n",
    "pivot_courses = log_data.pivot_table(index='uuid', values='ucid', aggfunc=pd.Series.nunique)\n",
    "pivot_courses.plot(kind='hist', title='# of courses taken by students')"
   ]
  },
  {
   "cell_type": "code",
   "execution_count": 14,
   "id": "inclusive-publicity",
   "metadata": {},
   "outputs": [
    {
     "data": {
      "text/plain": [
       "<AxesSubplot:title={'center':'# of courses taken by students (without top 25%)'}, ylabel='Frequency'>"
      ]
     },
     "execution_count": 14,
     "metadata": {},
     "output_type": "execute_result"
    },
    {
     "data": {
      "image/png": "[encoded data removed]",
      "text/plain": [
       "<Figure size 432x288 with 1 Axes>"
      ]
     },
     "metadata": {
      "needs_background": "light"
     },
     "output_type": "display_data"
    }
   ],
   "source": [
    "# number of exercises attempted by each student, if we remove the top 25% grinders... \n",
    "pivot_courses = log_data.pivot_table(index='uuid', values='ucid', aggfunc=pd.Series.nunique)\n",
    "top_25 = pivot_courses.quantile(0.75)\n",
    "pivot_courses[pivot_courses < top_25].plot(kind='hist', title='# of courses taken by students (without top 25%)')"
   ]
  },
  {
   "cell_type": "code",
   "execution_count": 15,
   "id": "hydraulic-orlando",
   "metadata": {},
   "outputs": [
    {
     "data": {
      "text/plain": [
       "<AxesSubplot:title={'center':'# of problems attempted by students'}, ylabel='Frequency'>"
      ]
     },
     "execution_count": 15,
     "metadata": {},
     "output_type": "execute_result"
    },
    {
     "data": {
      "image/png": "[encoded data removed]",
      "text/plain": [
       "<Figure size 432x288 with 1 Axes>"
      ]
     },
     "metadata": {
      "needs_background": "light"
     },
     "output_type": "display_data"
    }
   ],
   "source": [
    "# number of unique problems attempted by each student\n",
    "pivot_problems = log_data.pivot_table(index='uuid', values='upid', aggfunc=pd.Series.nunique)\n",
    "pivot_problems.plot(kind='hist', title='# of problems attempted by students')"
   ]
  },
  {
   "cell_type": "code",
   "execution_count": 16,
   "id": "written-sydney",
   "metadata": {},
   "outputs": [
    {
     "data": {
      "text/plain": [
       "<AxesSubplot:title={'center':'# of problems attempted by students'}, ylabel='Frequency'>"
      ]
     },
     "execution_count": 16,
     "metadata": {},
     "output_type": "execute_result"
    },
    {
     "data": {
      "image/png": "[encoded data removed]",
      "text/plain": [
       "<Figure size 432x288 with 1 Axes>"
      ]
     },
     "metadata": {
      "needs_background": "light"
     },
     "output_type": "display_data"
    }
   ],
   "source": [
    "# number of unique problems attempted by each student, remove top 25% grinders\n",
    "pivot_problems = log_data.pivot_table(index='uuid', values='upid', aggfunc=pd.Series.nunique)\n",
    "top_25 = pivot_problems.quantile(0.75)\n",
    "pivot_problems[pivot_problems < top_25].plot(kind='hist', title='# of problems attempted by students')"
   ]
  },
  {
   "cell_type": "code",
   "execution_count": 17,
   "id": "dominican-adams",
   "metadata": {},
   "outputs": [
    {
     "data": {
      "text/plain": [
       "ucid    26.0\n",
       "Name: 0.75, dtype: float64"
      ]
     },
     "execution_count": 17,
     "metadata": {},
     "output_type": "execute_result"
    }
   ],
   "source": [
    "pivot_courses.quantile(0.75)"
   ]
  },
  {
   "cell_type": "code",
   "execution_count": 18,
   "id": "still-offering",
   "metadata": {},
   "outputs": [
    {
     "data": {
      "text/plain": [
       "upid    191.0\n",
       "Name: 0.75, dtype: float64"
      ]
     },
     "execution_count": 18,
     "metadata": {},
     "output_type": "execute_result"
    }
   ],
   "source": [
    "pivot_problems.quantile(0.75)"
   ]
  },
  {
   "cell_type": "code",
   "execution_count": 39,
   "id": "aboriginal-vampire",
   "metadata": {},
   "outputs": [
    {
     "data": {
      "text/plain": [
       "Text(0.5, 0.98, 'accuracy vs no. of exercises attempted')"
      ]
     },
     "execution_count": 39,
     "metadata": {},
     "output_type": "execute_result"
    },
    {
     "data": {
      "image/png": "[encoded data removed]",
      "text/plain": [
       "<Figure size 432x288 with 1 Axes>"
      ]
     },
     "metadata": {
      "needs_background": "light"
     },
     "output_type": "display_data"
    }
   ],
   "source": [
    "# accuracies vs no. of exercises attempted\n",
    "\n",
    "merge_courses = pivot_courses.merge(student_accuracies, left_index=True, right_index=True)\n",
    "fig, ax = plt.subplots()\n",
    "ax.scatter(x=merge_courses['is_correct'], y=merge_courses['ucid'])\n",
    "fig.suptitle(\"accuracy vs no. of exercises attempted\")"
   ]
  },
  {
   "cell_type": "code",
   "execution_count": 41,
   "id": "altered-adobe",
   "metadata": {},
   "outputs": [
    {
     "data": {
      "text/plain": [
       "Text(0.5, 0.98, 'accuracy vs no. of problems attempted')"
      ]
     },
     "execution_count": 41,
     "metadata": {},
     "output_type": "execute_result"
    },
    {
     "data": {
      "image/png": "[encoded data removed]",
      "text/plain": [
       "<Figure size 432x288 with 1 Axes>"
      ]
     },
     "metadata": {
      "needs_background": "light"
     },
     "output_type": "display_data"
    }
   ],
   "source": [
    "# accuracies vs no. of problems attempted\n",
    "\n",
    "merge_problems = pivot_problems.merge(student_accuracies, left_index=True, right_index=True)\n",
    "fig, ax = plt.subplots()\n",
    "ax.scatter(x=merge_problems['is_correct'], y=merge_problems['upid'])\n",
    "fig.suptitle(\"accuracy vs no. of problems attempted\")"
   ]
  },
  {
   "cell_type": "markdown",
   "id": "close-juice",
   "metadata": {},
   "source": [
    "Students who take more courses, attempt more problems and have a higher no. of points generally have higher accuracy. "
   ]
  },
  {
   "cell_type": "markdown",
   "id": "complex-sheet",
   "metadata": {},
   "source": [
    "### To do: \n",
    "EDA on student behavior metrics / interactions with learning platform. for eg, \n",
    "\n",
    "1. what is the average time spent between questions?  is there any relation between this and their level? or their accuracy? \n",
    "2. check if sequence of problems in exercise is random "
   ]
  },
  {
   "cell_type": "code",
   "execution_count": 19,
   "id": "green-sherman",
   "metadata": {},
   "outputs": [
    {
     "data": {
      "text/plain": [
       "uuid\n",
       "++5bdNp/LZvGenJ8Brp4n2SfS9d4pu4qA7cF7FQW7hk=    0.002732\n",
       "++9EkR6syMGk44XpyhOj40cg9xiXwCLS/TwEy+ujrL0=    0.002732\n",
       "++E4TrlDYvGtPBg1edhkLXLEEbnfiAgAamPQ33vpW8M=    0.002732\n",
       "++G4mkLfs4WDYhc1Ga+3G+/oqSniQQvLBm7SBQ3V39Y=    0.016393\n",
       "++GobOSWqrsaxoRg1bMN+T6biIJcgBXwuOH/ddq3DiU=    0.087432\n",
       "                                                  ...   \n",
       "zztwLsjf44Uzumou84qh04wObpugkIllLCIp/mgoMu8=    0.016393\n",
       "zzueVRV14tXIEgW4ixiqmtPNaFYz4MIifbMM/H2tmqA=    0.010929\n",
       "zzujjvdKzb4wL8cFKdF3Of5gg2XHzIDQCZ2TfaYpSNs=    0.092896\n",
       "zzvvUOwcSXXTXd8xoyimNcm2DjeVPLmZAI19WKfhSAM=    0.008197\n",
       "zzyukk9LNl7j/9xxgZj6roQBbGn1MjSPTCgc0r5sXpU=    0.060109\n",
       "Length: 72758, dtype: float64"
      ]
     },
     "execution_count": 19,
     "metadata": {},
     "output_type": "execute_result"
    }
   ],
   "source": [
    "# unique exercises per day\n",
    "day_grouper = pd.Grouper(freq='1D')\n",
    "log_data.index = log_data['timestamp_TW']\n",
    "unique_ex_per_day = log_data.groupby(by=[day_grouper, 'uuid'])['ucid'].nunique()\n",
    "\n",
    "# average unique exercises per day \n",
    "avg_ex_per_day = unique_ex_per_day.unstack(level='uuid').fillna(0).mean()\n",
    "avg_ex_per_day"
   ]
  },
  {
   "cell_type": "code",
   "execution_count": 20,
   "id": "parallel-value",
   "metadata": {},
   "outputs": [
    {
     "name": "stdout",
     "output_type": "stream",
     "text": [
      "0.00273224043715847\n"
     ]
    }
   ],
   "source": [
    "# test\n",
    "user = log_data[log_data['uuid']=='++5bdNp/LZvGenJ8Brp4n2SfS9d4pu4qA7cF7FQW7hk=']\n",
    "n_days = unique_ex_per_day.index.get_level_values('timestamp_TW').nunique()\n",
    "print(user['ucid'].nunique() / n_days)"
   ]
  },
  {
   "cell_type": "code",
   "execution_count": 21,
   "id": "descending-rochester",
   "metadata": {},
   "outputs": [],
   "source": [
    "def get_avg_by_time(data, what, time_grouper):\n",
    "    '''\n",
    "    helper function for getting the avg no. of 'what' for each user over the specified time grouper\n",
    "    \n",
    "    what refers to the col of interest \n",
    "    assumes data has a datetime index\n",
    "    '''\n",
    "    unique_per_time = data.groupby(by=[time_grouper, 'uuid'])[what].nunique()\n",
    "    avg_per_time = unique_per_time.unstack(level='uuid').fillna(0).mean()\n",
    "    return avg_per_time\n",
    "\n",
    "# get daily, weekly and monthly avg no. of unique exercises attempted\n",
    "day_avg = get_avg_by_time(log_data, 'ucid', pd.Grouper(freq='1D'))\n",
    "weekly_avg = get_avg_by_time(log_data, 'ucid', pd.Grouper(freq='1W'))   \n",
    "monthly_avg = get_avg_by_time(log_data, 'ucid', pd.Grouper(freq='1M'))"
   ]
  },
  {
   "cell_type": "code",
   "execution_count": 49,
   "id": "italian-attendance",
   "metadata": {},
   "outputs": [
    {
     "data": {
      "image/png": "[encoded data removed]",
      "text/plain": [
       "<Figure size 1080x504 with 3 Axes>"
      ]
     },
     "metadata": {
      "needs_background": "light"
     },
     "output_type": "display_data"
    }
   ],
   "source": [
    "series_to_compare = [day_avg, weekly_avg, monthly_avg]\n",
    "\n",
    "fig, axes = plt.subplots(1, 3, figsize=(15, 7))\n",
    "fig.suptitle(\"student accuracies vs daily/weekly/monthly avg no. of courses taken\")\n",
    "\n",
    "for i, s in enumerate(series_to_compare):\n",
    "    s.name = 'freq'\n",
    "    merged = student_accuracies.merge(s.to_frame(), left_index=True, right_index=True)\n",
    "    \n",
    "    axes[i].scatter(x=merged['is_correct'], y=merged['freq'])\n",
    "\n"
   ]
  },
  {
   "cell_type": "code",
   "execution_count": null,
   "id": "illegal-service",
   "metadata": {},
   "outputs": [],
   "source": [
    "# how many combinations of sequences do we see for each content?\n",
    "\n"
   ]
  },
  {
   "cell_type": "code",
   "execution_count": null,
   "id": "rolled-guide",
   "metadata": {},
   "outputs": [],
   "source": []
  },
  {
   "cell_type": "code",
   "execution_count": null,
   "id": "finite-living",
   "metadata": {},
   "outputs": [],
   "source": []
  },
  {
   "cell_type": "code",
   "execution_count": null,
   "id": "documentary-frame",
   "metadata": {},
   "outputs": [],
   "source": []
  }
 ],
 "metadata": {
  "kernelspec": {
   "display_name": "Python [conda env:capstone] *",
   "language": "python",
   "name": "conda-env-capstone-py"
  },
  "language_info": {
   "codemirror_mode": {
    "name": "ipython",
    "version": 3
   },
   "file_extension": ".py",
   "mimetype": "text/x-python",
   "name": "python",
   "nbconvert_exporter": "python",
   "pygments_lexer": "ipython3",
   "version": "3.7.9"
  }
 },
 "nbformat": 4,
 "nbformat_minor": 5
}
