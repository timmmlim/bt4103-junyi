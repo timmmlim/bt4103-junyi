{
 "cells": [
  {
   "cell_type": "code",
   "execution_count": 1,
   "metadata": {
    "colab": {
     "base_uri": "https://localhost:8080/"
    },
    "id": "xdpaXDPjlydT",
    "outputId": "dc546e89-ee5d-4313-8e81-8736c71ce09e"
   },
   "outputs": [
    {
     "name": "stdout",
     "output_type": "stream",
     "text": [
      "Mounted at /content/drive\n"
     ]
    }
   ],
   "source": [
    "from google.colab import drive\n",
    "drive.mount('/content/drive')"
   ]
  },
  {
   "cell_type": "code",
   "execution_count": 2,
   "metadata": {
    "colab": {
     "base_uri": "https://localhost:8080/"
    },
    "id": "nuGVQmU9l0WT",
    "outputId": "6a5e5cab-6d27-4ece-d74c-19a4f57d31ed"
   },
   "outputs": [
    {
     "name": "stdout",
     "output_type": "stream",
     "text": [
      "/content/drive/MyDrive/Bt4103\n"
     ]
    }
   ],
   "source": [
    "# https://stackoverflow.com/questions/48298146/changing-directory-in-google-colab-breaking-out-of-the-python-interpreter\n",
    "%cd '/content/drive/MyDrive/Bt4103/'"
   ]
  },
  {
   "cell_type": "code",
   "execution_count": 3,
   "metadata": {
    "id": "viSvYlP4l4Bf"
   },
   "outputs": [],
   "source": [
    "import pandas as pd\n",
    "import numpy as np\n",
    "log_problem = pd.read_csv('Log_Problem.csv')"
   ]
  },
  {
   "cell_type": "code",
   "execution_count": 4,
   "metadata": {
    "id": "IbbEn5yLOrQX"
   },
   "outputs": [],
   "source": [
    "import networkx as nx\n",
    "from networkx.algorithms import community #This part of networkx, for community detection, needs to be imported separately.\n",
    "from operator import itemgetter"
   ]
  },
  {
   "cell_type": "markdown",
   "metadata": {
    "id": "z_14rMxEAIZA"
   },
   "source": [
    "# Create the features"
   ]
  },
  {
   "cell_type": "code",
   "execution_count": 5,
   "metadata": {
    "id": "tJlAV5g5PlMr"
   },
   "outputs": [],
   "source": [
    "log_problem.sort_values(by=['timestamp_TW'], inplace=True)\n",
    "user_to_content = log_problem.groupby(['uuid'], sort=False)['ucid'].apply(lambda x: x.tolist()).reset_index()"
   ]
  },
  {
   "cell_type": "code",
   "execution_count": 6,
   "metadata": {
    "colab": {
     "base_uri": "https://localhost:8080/"
    },
    "id": "DCOi3IxNl_PI",
    "outputId": "984d3c43-44b9-4c74-8054-d21afc8052e8"
   },
   "outputs": [
    {
     "data": {
      "text/plain": [
       "0        [hv7kHCAIdj7thZUmlqz553leG5bFNYgzXmLfB5m4Xvw=,...\n",
       "1        [suDCkQs0H6kriJ78abNYmrtyOrBj80FflKWAiW3yfD8=,...\n",
       "2        [NoskBq4Br1/gsHaS0Pkuhdx67DlKfRiCcj2jMAWpRS8=,...\n",
       "3        [4p305X/NqL1Zx9j6BDJEpiQx090kFF3o/LTTGJt5s/E=,...\n",
       "4        [5gAwpmADo34wxzAw/auRsRgPsj+RvWPNWhOj3SdP0Ss=,...\n",
       "                               ...                        \n",
       "72753       [P9MBH2y9lTr+ueuFDr6VDrx3GSS1/MvPLRyklqdSyVM=]\n",
       "72754    [OnztoLe/KRAGCzT1fhys2SSvoBd4VIDTcFpP5fMpU68=,...\n",
       "72755                                                   []\n",
       "72756    [vhz7ZImgcFLciakjMFdmn0S/He85wqQkhLiYXRPpu18=,...\n",
       "72757                                                   []\n",
       "Name: to2, Length: 72758, dtype: object"
      ]
     },
     "execution_count": 6,
     "metadata": {
      "tags": []
     },
     "output_type": "execute_result"
    }
   ],
   "source": [
    "user_to_content['to'] = user_to_content['ucid'].apply(lambda x: x[1:])\n",
    "user_to_content['from'] = user_to_content['ucid'].apply(lambda x: x[:-1])\n",
    "user_to_content['unique_ucid'] = user_to_content['ucid'].apply(lambda x: [content for index, content in enumerate(x[:-1]) if x[index]!=x[index+1]] + [x[-1]])\n",
    "\n",
    "# Drop those rows with empty list\n",
    "user_to_content['to_keep'] = user_to_content['unique_ucid'].apply(lambda x: np.nan if len(x)==0 else 1)\n",
    "user_to_content = user_to_content.dropna(subset=['to_keep'])\n",
    "\n",
    "# Create new source node list and the corresponding target list without any repeated consecutive contents\n",
    "user_to_content.loc[:,'to2'] = user_to_content['unique_ucid'].apply(lambda x: x[1:])\n",
    "user_to_content.loc[:,'from2'] = user_to_content['unique_ucid'].apply(lambda x: x[:-1])\n",
    "user_to_content['to2']"
   ]
  },
  {
   "cell_type": "markdown",
   "metadata": {
    "id": "6W-7Wbc0ALfU"
   },
   "source": [
    "#Represent exercise as undirected graphs"
   ]
  },
  {
   "cell_type": "code",
   "execution_count": 10,
   "metadata": {
    "id": "TNUBD0GKPtIq"
   },
   "outputs": [],
   "source": [
    "G = nx.Graph()\n",
    "for index, row in user_to_content.iterrows():\n",
    "    user = row['uuid']\n",
    "    from_list = row['from2']\n",
    "    to_list = row['to2']\n",
    "    # always check that the number \n",
    "    assert len(from_list) == len(to_list)\n",
    "    for src, tgt in zip(from_list, to_list):\n",
    "        if G.has_edge(src, tgt):\n",
    "            G[src][tgt]['weight'] += 1\n",
    "        else:\n",
    "            G.add_edge(src, tgt, weight=1)"
   ]
  },
  {
   "cell_type": "markdown",
   "metadata": {
    "id": "ywCDyfe3vLsg"
   },
   "source": [
    "### Measure Density of the learning paths"
   ]
  },
  {
   "cell_type": "code",
   "execution_count": 11,
   "metadata": {
    "colab": {
     "base_uri": "https://localhost:8080/"
    },
    "id": "eptzVPwnP2Gt",
    "outputId": "e8b5543f-b596-45df-ddae-e4b8778b4268"
   },
   "outputs": [
    {
     "name": "stdout",
     "output_type": "stream",
     "text": [
      "Network density: 0.27179601013119326\n"
     ]
    }
   ],
   "source": [
    "# DENSITY\n",
    "# Density is the ratio of the actual edges in the network to all possible edges in the network\n",
    "# Interpretation: 0 to 1, the bigger the more dense your network. 1 is a perfectly connect network\n",
    "# This mean that \n",
    "density = nx.density(G)\n",
    "print(\"Network density:\", density)"
   ]
  },
  {
   "cell_type": "markdown",
   "metadata": {
    "id": "bHQCSUdDvN3I"
   },
   "source": [
    "### Look at the number of Connected Components in our learning path\n",
    "\n",
    "---\n",
    "\n",
    "\n"
   ]
  },
  {
   "cell_type": "code",
   "execution_count": 12,
   "metadata": {
    "colab": {
     "base_uri": "https://localhost:8080/"
    },
    "id": "ZwY1j30fP2kp",
    "outputId": "0ec47b47-363b-4497-b7f5-ed21b2d25b53"
   },
   "outputs": [
    {
     "name": "stdout",
     "output_type": "stream",
     "text": [
      "True\n",
      "Network diameter of largest component: 3\n"
     ]
    }
   ],
   "source": [
    "# COMPONENTS, AND COMPONENTS AND THIER DIAMETERS\n",
    "# LOOK AT THE NUMBER OF COMPONENTS\n",
    "# If we have more than one components, then this means that some course contents are very different from the \n",
    "# Eg interpretation: There is a learning path frokm length 8 between the two furthest apart courses in the network.\n",
    "\n",
    "# If your Graph has more than one component, this will return False:\n",
    "# print(nx.is_strongly_connected(G))\n",
    "print(nx.is_connected(G))\n",
    "\n",
    "\n",
    "# Next, use nx.connected_components to get the list of components,\n",
    "# then use the max() command to find the largest one:\n",
    "components = nx.connected_components(G)\n",
    "largest_component = max(components, key=len)\n",
    "\n",
    "# Create a \"subgraph\" of just the largest component\n",
    "# Then calculate the diameter of the subgraph, just like you did with density.\n",
    "# This ensures that nx.diameter will not throw an error\n",
    "subgraph = G.subgraph(largest_component)\n",
    "diameter = nx.diameter(subgraph)\n",
    "print(\"Network diameter of largest component:\", diameter)"
   ]
  },
  {
   "cell_type": "markdown",
   "metadata": {
    "id": "shvcrzwdvGUB"
   },
   "source": [
    "### Look at the Triadic Closure of our learning paths"
   ]
  },
  {
   "cell_type": "code",
   "execution_count": 13,
   "metadata": {
    "colab": {
     "base_uri": "https://localhost:8080/"
    },
    "id": "NrqvxkU3P24a",
    "outputId": "b6a520f5-9a4e-4a3d-bb79-bfe27cabe56f"
   },
   "outputs": [
    {
     "name": "stdout",
     "output_type": "stream",
     "text": [
      "Triadic closure: 0.5780489273369539\n"
     ]
    }
   ],
   "source": [
    "# TRANSITIVITY\n",
    "# Clustering coefficient is one way to measure Triadic closure as it measures the clustering tendency.\n",
    "# Transitivity is the ratio of all triangles over all possible triangles\n",
    "triadic_closure = nx.transitivity(G)\n",
    "print(\"Triadic closure:\", triadic_closure)"
   ]
  },
  {
   "cell_type": "markdown",
   "metadata": {
    "id": "Fc4nEABrwxi8"
   },
   "source": [
    "## Look at the degree of our exercises\n"
   ]
  },
  {
   "cell_type": "code",
   "execution_count": 14,
   "metadata": {
    "colab": {
     "base_uri": "https://localhost:8080/"
    },
    "id": "LOoIO_M1vBZx",
    "outputId": "0dc33f17-7fe4-48f4-d2ce-b62b9fa818c0"
   },
   "outputs": [
    {
     "name": "stdout",
     "output_type": "stream",
     "text": [
      "Top 20 nodes by degree:\n",
      "('CPI+5YCeEmhqdk6znJeii6jJUNl1QWGEvwCUJ6uLflg=', 1244)\n",
      "('hv7kHCAIdj7thZUmlqz553leG5bFNYgzXmLfB5m4Xvw=', 1207)\n",
      "('PqQyQvOjvvozBCtlR/0pL8uxhe0K63IPiKYCi1tDG1o=', 1197)\n",
      "('TwyqyV1uJYlDAX8wX/PtTCVZEBo/APIVfTzzleGkNCQ=', 1192)\n",
      "('T7V7D8OgJF2BeuK/agj56BY9ibTmoqRbGdtwrt8a1SQ=', 1162)\n",
      "('svTmVFY7kPYUWAdDc4l5Zaim90TY7RGkFLs/eaU4FVc=', 1117)\n",
      "('jImuGvSym6odgRoYw7vgkq4HUbmJ1tDW9fq6bo/yN5s=', 1108)\n",
      "('OVGQBBcCHSOyJ89uwY+z15n2iuZYrv8Tajf37jiGzqc=', 1074)\n",
      "('w3a6Wk12CqIrUktZei2Z0W3Rf8xdgEdjIW9QX0MWIf8=', 1061)\n",
      "('lvobiTtwUsd1ylmrciW7NzJnmmcqFC1J9PmoZ6R8xK0=', 1054)\n",
      "('dp0m1kS6Bygoksx9S/gkBqTcWPoglbf1HT3Ma3U3N8U=', 1049)\n",
      "('O/KjGB9rr8dvio3EBiuDvoL1cg/22EZaZV1FxmkURKc=', 1004)\n",
      "('vhz7ZImgcFLciakjMFdmn0S/He85wqQkhLiYXRPpu18=', 989)\n",
      "('dVKfHzCsi1dOBhd343bsUNF4dowsiANnvRBkWqToitg=', 982)\n",
      "('tOR47i7wGbuHkGxkhX9tHItMHHuJtAttsvHDOjDRVOw=', 976)\n",
      "('zX5HAUpRYC4F7YPNs5tUeBqVi++rEmPUfsAtHpoZmEQ=', 968)\n",
      "('+cLbiKkV7+VhNPr7OGG3B3kPpZ8er0mvFvqPbM/gm+E=', 953)\n",
      "('JcrFXI7wzq/14kZRPCdix3feq0/yQh1gHU06bGQwNBE=', 869)\n",
      "('hWfAiJgEzK9NSh1jxPBGRiCGV+lYwQ/qoXFxJbFyoWM=', 857)\n",
      "('mN1tllkKVTTojQYca9a9pFVaS70PFjtGTTiXHZVFwRg=', 848)\n"
     ]
    }
   ],
   "source": [
    "## DEGREE\n",
    "# Course with the highest degree are those most connected to other courses. These nodes are call Hubs.\n",
    "degree_dict = dict(G.degree(G.nodes()))\n",
    "nx.set_node_attributes(G, degree_dict, 'degree') # store all the degrees in the node\n",
    "### Find the top few nodes with the highest degree\n",
    "#  Eg print(G.nodes['William Penn'])\n",
    "sorted_degree = sorted(degree_dict.items(), key=itemgetter(1), reverse=True)\n",
    "print(\"Top 20 nodes by degree:\")\n",
    "for d in sorted_degree[:20]:\n",
    "    print(d)"
   ]
  },
  {
   "cell_type": "markdown",
   "metadata": {
    "id": "BOmWcNYqxjHM"
   },
   "source": [
    "## Betweenness and eigenvector centrality of our exercises"
   ]
  },
  {
   "cell_type": "code",
   "execution_count": 15,
   "metadata": {
    "colab": {
     "base_uri": "https://localhost:8080/"
    },
    "id": "DXrp565PxmhB",
    "outputId": "43ba5955-ddf8-415e-d2d4-f92baada2fb0"
   },
   "outputs": [
    {
     "name": "stdout",
     "output_type": "stream",
     "text": [
      "Top 20 nodes by betweenness centrality:\n",
      "('CPI+5YCeEmhqdk6znJeii6jJUNl1QWGEvwCUJ6uLflg=', 0.018921296601167693)\n",
      "('TwyqyV1uJYlDAX8wX/PtTCVZEBo/APIVfTzzleGkNCQ=', 0.01602455489017069)\n",
      "('hv7kHCAIdj7thZUmlqz553leG5bFNYgzXmLfB5m4Xvw=', 0.015960378984617368)\n",
      "('PqQyQvOjvvozBCtlR/0pL8uxhe0K63IPiKYCi1tDG1o=', 0.015435173827463225)\n",
      "('T7V7D8OgJF2BeuK/agj56BY9ibTmoqRbGdtwrt8a1SQ=', 0.01294176919478974)\n",
      "('svTmVFY7kPYUWAdDc4l5Zaim90TY7RGkFLs/eaU4FVc=', 0.010966613798047338)\n",
      "('jImuGvSym6odgRoYw7vgkq4HUbmJ1tDW9fq6bo/yN5s=', 0.010337075994320133)\n",
      "('tOR47i7wGbuHkGxkhX9tHItMHHuJtAttsvHDOjDRVOw=', 0.009336667887392635)\n",
      "('OVGQBBcCHSOyJ89uwY+z15n2iuZYrv8Tajf37jiGzqc=', 0.00831595622511032)\n",
      "('w3a6Wk12CqIrUktZei2Z0W3Rf8xdgEdjIW9QX0MWIf8=', 0.008254212352098514)\n",
      "('lvobiTtwUsd1ylmrciW7NzJnmmcqFC1J9PmoZ6R8xK0=', 0.008020104105177922)\n",
      "('dp0m1kS6Bygoksx9S/gkBqTcWPoglbf1HT3Ma3U3N8U=', 0.007495889794790361)\n",
      "('+cLbiKkV7+VhNPr7OGG3B3kPpZ8er0mvFvqPbM/gm+E=', 0.007260536187362074)\n",
      "('O/KjGB9rr8dvio3EBiuDvoL1cg/22EZaZV1FxmkURKc=', 0.006553960713594377)\n",
      "('vhz7ZImgcFLciakjMFdmn0S/He85wqQkhLiYXRPpu18=', 0.006342859013096683)\n",
      "('zX5HAUpRYC4F7YPNs5tUeBqVi++rEmPUfsAtHpoZmEQ=', 0.005968187328436011)\n",
      "('dVKfHzCsi1dOBhd343bsUNF4dowsiANnvRBkWqToitg=', 0.005947765592421362)\n",
      "('BG1RsWojzEHzV28RBm/1iKi1NyZgDcDomLYEJSV6lmo=', 0.005279900700315227)\n",
      "('XG1pV3YZ4tnQkmvmVbwNYnm01m9sRhZovPW1qTPIGYI=', 0.004777561783898515)\n",
      "('PB+tEauJ6Cu8clF5IHjouv5FqEgH9UDWxbOqE+SBa50=', 0.004457473767425122)\n",
      "Name: CPI+5YCeEmhqdk6znJeii6jJUNl1QWGEvwCUJ6uLflg= | Betweenness Centrality: 0.018921296601167693 | Degree: 1244\n",
      "Name: TwyqyV1uJYlDAX8wX/PtTCVZEBo/APIVfTzzleGkNCQ= | Betweenness Centrality: 0.01602455489017069 | Degree: 1192\n",
      "Name: hv7kHCAIdj7thZUmlqz553leG5bFNYgzXmLfB5m4Xvw= | Betweenness Centrality: 0.015960378984617368 | Degree: 1207\n",
      "Name: PqQyQvOjvvozBCtlR/0pL8uxhe0K63IPiKYCi1tDG1o= | Betweenness Centrality: 0.015435173827463225 | Degree: 1197\n",
      "Name: T7V7D8OgJF2BeuK/agj56BY9ibTmoqRbGdtwrt8a1SQ= | Betweenness Centrality: 0.01294176919478974 | Degree: 1162\n",
      "Name: svTmVFY7kPYUWAdDc4l5Zaim90TY7RGkFLs/eaU4FVc= | Betweenness Centrality: 0.010966613798047338 | Degree: 1117\n",
      "Name: jImuGvSym6odgRoYw7vgkq4HUbmJ1tDW9fq6bo/yN5s= | Betweenness Centrality: 0.010337075994320133 | Degree: 1108\n",
      "Name: tOR47i7wGbuHkGxkhX9tHItMHHuJtAttsvHDOjDRVOw= | Betweenness Centrality: 0.009336667887392635 | Degree: 976\n",
      "Name: OVGQBBcCHSOyJ89uwY+z15n2iuZYrv8Tajf37jiGzqc= | Betweenness Centrality: 0.00831595622511032 | Degree: 1074\n",
      "Name: w3a6Wk12CqIrUktZei2Z0W3Rf8xdgEdjIW9QX0MWIf8= | Betweenness Centrality: 0.008254212352098514 | Degree: 1061\n",
      "Name: lvobiTtwUsd1ylmrciW7NzJnmmcqFC1J9PmoZ6R8xK0= | Betweenness Centrality: 0.008020104105177922 | Degree: 1054\n",
      "Name: dp0m1kS6Bygoksx9S/gkBqTcWPoglbf1HT3Ma3U3N8U= | Betweenness Centrality: 0.007495889794790361 | Degree: 1049\n",
      "Name: +cLbiKkV7+VhNPr7OGG3B3kPpZ8er0mvFvqPbM/gm+E= | Betweenness Centrality: 0.007260536187362074 | Degree: 953\n",
      "Name: O/KjGB9rr8dvio3EBiuDvoL1cg/22EZaZV1FxmkURKc= | Betweenness Centrality: 0.006553960713594377 | Degree: 1004\n",
      "Name: vhz7ZImgcFLciakjMFdmn0S/He85wqQkhLiYXRPpu18= | Betweenness Centrality: 0.006342859013096683 | Degree: 989\n",
      "Name: zX5HAUpRYC4F7YPNs5tUeBqVi++rEmPUfsAtHpoZmEQ= | Betweenness Centrality: 0.005968187328436011 | Degree: 968\n",
      "Name: dVKfHzCsi1dOBhd343bsUNF4dowsiANnvRBkWqToitg= | Betweenness Centrality: 0.005947765592421362 | Degree: 982\n",
      "Name: BG1RsWojzEHzV28RBm/1iKi1NyZgDcDomLYEJSV6lmo= | Betweenness Centrality: 0.005279900700315227 | Degree: 797\n",
      "Name: XG1pV3YZ4tnQkmvmVbwNYnm01m9sRhZovPW1qTPIGYI= | Betweenness Centrality: 0.004777561783898515 | Degree: 761\n",
      "Name: PB+tEauJ6Cu8clF5IHjouv5FqEgH9UDWxbOqE+SBa50= | Betweenness Centrality: 0.004457473767425122 | Degree: 746\n"
     ]
    }
   ],
   "source": [
    "## EIGENVECTOR CENTRALITY\n",
    "# Eigenvector centrality useful for understanding which nodes can get information to other nodes quickly.\n",
    "# Example: if you know a lot of well-connected people, you can spread a message very efficiently.\n",
    "# So these are courses that are related to many of the important courses, and should be placed into the learning path?\n",
    "\n",
    "\n",
    "## BETWEENNESS CENTRALITY\n",
    "# Betweenness centrality looks at all the shortest paths that pass through a particular node. (Thus takes very long to calculate)\n",
    "# Tells us which nodes are important not because they have lots of connections themselves, but because they stand between groups, \n",
    "# Giving the network connectivity and cohesion\n",
    "\n",
    "betweenness_dict = nx.betweenness_centrality(G) # Run betweenness centrality\n",
    "eigenvector_dict = nx.eigenvector_centrality(G) # Run eigenvector centrality\n",
    "\n",
    "# Assign each to an attribute in your network\n",
    "nx.set_node_attributes(G, betweenness_dict, 'betweenness')\n",
    "nx.set_node_attributes(G, eigenvector_dict, 'eigenvector')\n",
    "\n",
    "sorted_betweenness = sorted(betweenness_dict.items(), key=itemgetter(1), reverse=True)\n",
    "\n",
    "print(\"Top 20 nodes by betweenness centrality:\")\n",
    "for b in sorted_betweenness[:20]:\n",
    "    print(b)\n",
    "    \n",
    "### You can see that nodes that have high degree also have high betweenness centrality\n",
    "# What if you want to know learning path have high betweenness centrality and low degree?\n",
    "# I.e which high betweenness nodes are unexpected?\n",
    "## If we have high betweenness centrality and low degree, these could mean that the nodes are important nodes connecting\n",
    "## distant parts of the graph.\n",
    "\n",
    "#First get the top 20 nodes by betweenness as a list\n",
    "top_betweenness = sorted_betweenness[:20]\n",
    "\n",
    "#Then find and print their degree\n",
    "for tb in top_betweenness: # Loop through top_betweenness\n",
    "    degree = degree_dict[tb[0]] # Use degree_dict to access a node's degree, see footnote 2\n",
    "    print(\"Name:\", tb[0], \"| Betweenness Centrality:\", tb[1], \"| Degree:\", degree)"
   ]
  },
  {
   "cell_type": "markdown",
   "metadata": {
    "id": "WDiQ8N7CxrOp"
   },
   "source": [
    "## Look at the number Communities in our network"
   ]
  },
  {
   "cell_type": "code",
   "execution_count": null,
   "metadata": {
    "colab": {
     "base_uri": "https://localhost:8080/"
    },
    "id": "RKyuCuPexsem",
    "outputId": "2f00a957-27c0-4969-a698-3a3db64a1a13"
   },
   "outputs": [
    {
     "name": "stdout",
     "output_type": "stream",
     "text": [
      "Modularity Class 0 Sorted by Eigenvector Centrality:\n",
      "Name: CPI+5YCeEmhqdk6znJeii6jJUNl1QWGEvwCUJ6uLflg= | Eigenvector Centrality: 0.06025249099354128\n",
      "Name: hv7kHCAIdj7thZUmlqz553leG5bFNYgzXmLfB5m4Xvw= | Eigenvector Centrality: 0.05985130504037195\n",
      "Name: PqQyQvOjvvozBCtlR/0pL8uxhe0K63IPiKYCi1tDG1o= | Eigenvector Centrality: 0.05977755197096649\n",
      "Name: TwyqyV1uJYlDAX8wX/PtTCVZEBo/APIVfTzzleGkNCQ= | Eigenvector Centrality: 0.059691360376734406\n",
      "Name: T7V7D8OgJF2BeuK/agj56BY9ibTmoqRbGdtwrt8a1SQ= | Eigenvector Centrality: 0.05945916053776811\n",
      "Class 0: ['SPmFV4RvUZLm41Gfgt8kBm8u6VzSl1tNcT5BsAQvMls=', 'mzSnT1CgsdPVx0yFebyrR837l1a+t4MBMugTwpmRQ7g=', 'pdYh3TvKBK1LgOTy1Vc5GCkzssnNDhK3xSBLdsGpfLA=', 'bY13RsIM2Xlj/qRBujFNedeCeDFFNKV1YUp+1kTLfAA=', 'awqH6F/TgV0QhF46PtnHP7eSsTSHSXMKIO4KqJaMn04=', 'hLFiBikqhFsQw0px/iUFWmJ/TvnIlZpv95bRtR7baZM=', 'oujB8OrUofV7wuIygS0fGGodg6zwhEMNdNDLD2bzHhY=', 'fD8zM1ZR2ONSCf1qFOxRewRZWPyivWHdZKlbbOaK+tY=', 'AY0mOAFvi9VmstXOvox56zDaP9fa9bTwKm2mjraTSpM=', 'abZeR/hnIssN0A8N+KhGYvmhrlPuBAPZSPOCXwLIQd0=', 'Ksao1OzuQrrxT6tlJ/URlJ5P6Fi0NsFEL/yG31harfo=', 'bPD7y6gQ2IeTfXrQunq8OXXx5LY2zIsQ8wfSBApCHTc=', '0nHTRYRZznXBRGpGHElXm2Gw+zHjWz37H+X3XCvUxQI=', 'i2BVfTp485wM+aQN1OTMKJr+SQDTDi5fuNDk9dp360g=', 'Gxwblz42IsMsZNyQ/o1AOV2zvb9lGbE/lk8NAHtE3uc=', 'T+rWMKiJgE6rmRdVUFc0WOeDY0RVPhl0EYU/hS4dlSc=', 'JZfQaPLUEZBed+XMOOWufLndpgukChiiKsqH/d+cxlI=', 'dU4bHGG5iITHkO+/yRQ8EBgimx3ScCs8/Ibrz7QE52c=', 'Xt9R4E9f2za5+yOINEKCRJbnm/ML+pyrsUJb6rs1XTk=', 'SkN/5zphtv5ctUPsh3QRmLCj0yp23MT9pzr5EDFZe/8=', 'd78kpes0fgN20aS/f8XWcwktKDL/e+vtWguyMOrdHbw=', 'lzijoqcCBafidRGCkuAcau0Fyc+z+574LY9rAn0Qnng=', 'aaqqTl3AwAAh2Zu0fBTrKYA+Jgnh5Xcn3VznWez5WJU=', 'ZiB8YudXZGaYEDJxnFGFKxDYg7p21KMyv2iISc6REEQ=', 'VkqQZJ473iP+Q3cuRr/ss9TxWBXBIsPwC0fwGbVIgjU=', 'LVQFQmyO5bd6aJa8iZwe04tHXH1gEaS9K+H5oxb8raU=', 'jXZ8uCJJ9uMd1vX/0Uyac0KK34c6zOc1OVgU0mDONk8=', '0FaNRnGt8wB5REzt8NnMPYaoTw4/qe+3z2hOkQOvI/s=', 'LCz/rIBPDjV+9tcB8P8On0xwPups1k9t8fcMBsc7rRs=', 'RlHAktJl64ZiBd7sf7MkpXdvIKiGtmUYYctdc2AjNSE=', '2VeOUPWzSmpJ7IWdbWoWzpPR2MszJab/rDr+jN04w1E=', 'u5SYmgbMwMzEurXJkN8SzYMacAqwjR02xCA0/prnVeI=', 'x37TFkKPkx7jWPaTY+41UeSFOmMoZB7jw3UiTm8ZMGM=', 'z+lXIDsSULAbvl0C7jLN2xRImkpzGZWHjhQ88H3C92c=', 'vj2oAek5lK+ewqbR0hgGrkyAZpWXIxl9Qt3HpVZVBK8=', 'pcvV6WqrDJpbJUdIXVS/AhhfRlw8NPela28C22qPeX4=', 'lzRhsRBch0NUNxYhlfhKKF53dO6Eymsb/GPNZG010+w=', '8gP4KXoWBPXMgFg1cGnXshZYBZU+gowtj0kzfH3LDIo=', 'TXBvUiNlr5jhR8zA+8xXAAvhjwKoxhJgVCFi6g3MkXE=', 'gSZ5U+vksIZG+pfqEZn3wjseV96vuSRacNjODO1cDzg=', 'u2U8EISDcFel7/t+fC2pJWsANLAo2XCOdvqmg2fatRg=', 'clP2+ai8jg0m7J92YX2RrRzXyBa4jLyja5WruzDuOZ0=', 'nuGqWNM24fHhFJ8DYewgXdy+p5eVZB+a+wblwZNPbEg=', 'oA2Mmn3NImJPql4w+/mtQhYJopaJDLagBcvQ7o7Ej9s=', 'KDeSPE8wIGcwIv9i0sJixfdUBqBN8tnZI9NwJHm7n80=', 'T4SE4EgcHfMeg58rrWKRWuXd7tw0mVCfHJvBhy6TC78=', '0va2kBHyhCQAFKdC9DOJnPagiG32mCuQJZuApAXzMw0=', 'iCI6VPG9JvYhgJi7cBepbWJUtUoFgOO/HrhSwkumLO8=', 'A2548sl8hqkIMIGY7mlg/p2NN83cncQx2SgT00lyByk=', 'fuM14IacAZTrOR0wL7pjHs3d+dmNJ7EMH4s6iLNNg7A=', 'L3ZeqTupA6ZuETrW3aXaw86JZGYl1uRF5LkZGKDhois=', 'TdvU/GNCYUygMo4pGEGXRSCZb9aI1CNNc3QR3WHsRuU=', '3RuMUvN/dcLHZuOG/Y7DJ/bcazpLCu/pXC6iqNqEXog=', 'tF8tMFezQhn36I3yHWsSa2i67yZXerPE5QWgZGCFvFs=', '0hKXPT2iK/182EPLj3c5qePYUT84KU4JI+P/t6nnmBk=', 'qNy9Nb6Srhtd8sHME31WQothbe0qdQQ7I4xK9F+2Ns0=', 'ti7iE7Irnu/h0/BjiZZTK6MopfvXpnfJOccIVSxyA0I=', '8iS7x756R3pFJUI3YiqHZJFPniXzmPnp2z6qzvdCGnA=', 'voVpsR3NChso9TsHdzn/OkPeLiymYrV3qu8Xe0PUOHg=', 'OowZ5vdDfwOEL1LD/3yxHdHmT5fHqZUl1obUtKekJlU=', 'Za+UP8i5RYOzsfA98cUkUzKWLYcmHOg7TpQTWUNg1is=', 'ABO0BTpEYfMxm7ab5QAZhbOUJGui6N8h7ohJBPwlkDA=', 'AvVjpkv6dhnbfTduLjLGr3yAy+u/yrG3tRyFD0dnplI=', 'pQ/2AQfwKgwmw2M2LVFo2N6j9s48R5T0saCeTKoyYm4=', 'mf5PUtZaZKgrMrWPXCK8shRWejWlf18QjoDp60P8GxA=', '8I8/B2pzv1x0TB2IYizxMzsw8l/i14wEn/1WNZM+UPU=', 'psOl97Npo5l16YVN2pmzdl20PaJ8JJBhPfoVVdDMiHc=', '+odAMeNn6DqBHYkdD0fKH59bzQMwJTqsCW9nqJ1etcI=', 'CVPAbATBJIcwj+W5tdHPMJPOXd7zjBzeCVdUuSchQOQ=', 'Ybd/zfRZPKlB4rPFPmqgjUOxkC9KP7WFThltU3wWFOo=', '5XOh9hPgSIw+4ArOqH8SRFzrFrG107tCCpwFQcpZ9T8=', '0f0BGV01H4RbdYLrd/fZN5enqRjIC7Bkzcoqxzgf0YA=', 'LkGxmLWesEPJgooW03RGU1eRXKGzJKoyurxRYeh0KOI=', 'eRdS2Lfw8wCLAeMb0UNbMsFEJ7BUXHLFDmkwPctkCOM=', '0FMoJE22DcUZEQ3fIPHBSuBfrQEG0vjhpvOoWyeTTXY=', 'PSHqjHPywyyXi0y2Xgl+jLfJn4P5u6EHMd5/3/hvPlg=', 'BFLeIt3fKT+RFErw4CjMV/iHEo5mzd9ZTYi6tORkpok=', 'B8R6Hg4V/F/7VfoeoS3JflqvHVf/8wTTpw3F+5QRK0U=', 'T+TdpKTtcckj1sM4MAUOU/taROWhuq1ZIiOoJbasmhg=', 'gBWgPAdRB7ghGaR1wXxs0jogZW6obH9cO2hmBu/pUx8=', '7lZW5SB9whu/nq0QJ1pCSdPhmnwhRqHIldZ1Fu9tZfc=', 'D9HHanexVehrjyeBGS1P8EJ90naPdALsOcCou88jhx4=', 'tpPS7qXY6cPLmRqFIgY5ryhwHp+BGA5rPeRemY/bJ/Q=', 'NcWaNtErOZNSS3qaqbqUhMRUU3/LUYwHj+5/vw601SU=', 'aaltH7YODgrsZuZYKu16qokv/Z+TofzVxU6Ai/dDhl8=', 'KTHoYjN6XAYd5rCzRQ/xn3o7OozbvxdwUeiVYFSJPGM=', 'hORfMtOHyiNudQ4hjk2xrUaL/uU+G9Tn6ElVFNXh3Cc=', '4h8h7HJckqx804hyKFBQcjS2w4U2iK5KAgIjUD62vJk=', 'YnI7n8GUBMZqWulnBVfUXzZLgJVDs7v0mGRfjKqao2k=', 'IN2rf9N8yr1JT9tAJXei08vWhgCbmljAZ141KO0Bdto=', 'eclQFpzMm/3m7MGgQaYOOPnvun/s4IcQzDok5QphMys=', 'lZL4UoNcmffkQ/nM3VYvBC7BAwD1OPmiOb5c3tmIm5s=', 'n/Gg32Tsd7+amD+EE0JzXjRaDJSjJNN6mu0t7j1Pd4E=', 'JBvKC6tCKbdKUiY5M0A6CA/lAe2U+PYlGYHrcNE5w+c=', 'IZmjDB5gc3QtqCkw10LYwtPthoXOeCmqIDr+yIt+r+A=', 'FR4KFXSJBwuu1LqaZRVJs+gv6d7T8mqibchrQhNvAKc=', 'KnnV92Q4yuuCVckJy9mwIY9AjLwwiUnTPus2pCC1FYo=', 'T0aJ7xmDPBaqhhLPpZP5EPK0XfPj9a1vqdKuvOmoHCI=', 'GhFxv7BoAI++BrgjSP6mVEhEsO33gLRvb66hG7WW6iA=', 'S9xsg6+N3hh24WpN7bJxFXVB9XYH/d6cXpuqOsiFADg=', '1MhbCa7PFHspw9qYdDLAld7A/t5TV965ehYwzUUf1ug=', 'fggka57OX3QL3I441EmW3Bn5qGYLMEDYYAJ0whO/BoY=', 'PpW+++sV2g8ZfNiSrJBx4aUY2yL+BPpbafTDwscbOow=', 'NX/cV2Wm/e+Ky0eV3a9fb4uti9Fl/VPgmuajzfa8wtU=', '6UJI/nUJp0n771O8yxGM05XhkhXAfGhsT0DUpIRFFVQ=', 'U4IDn4MUqbVq2R5M08n344XMXc052OsQtinVwrNNkSk=', 'fyie57S6DAxJ8etfXPWAJOuVbzuyyPpqcr9iLyfgd9Q=', 'piY6Rtl4scHsQEvP2kKvqjK8pOEnNJuHNijb/bxPCSw=', '3VfCWZFKH42xkwq4yzD7e3080d6sXtw7H8OM4GXFB/4=', 'TdtpNDJrqro4BdaY6fxtkvlHeS44Vpq/0YsW3JRx79E=', 'AftCWTe9HWCQtI7qOgUITUl2eWnLhe6p09IHSLTFB2o=', 'tqKbTGIV+RDS6qwn6Tp173RrtMV4LeR0UEBqa9etzIA=', 'dL+vpyv8mp2L14ZNIt1k9tpwdFydZoov6EvnXSW4Dt4=', 'FXZHogJiLvLU25++7dJCE1y9LEuSi4gulb0iPp36vdQ=', 'JBY82dSINZ2oyc72lrBg93wms83Z1GAJh8BWYZ2JMv8=', '6OqLfhKn7o3dbR9qbbxwkWWiO1BxMW3/iRqMJ3C4TNI=', 'N3wO0fC439PgPDMPRDVu0qGXZj+cYL49zF/sgQZAlww=', 'YCBDRftfzwiEL3TgdJIBFRRVKPJU3ZdlRy3jNdXYO3w=', 'JeJ/U+YZ3HU5Nr8HVj98IUq5D+92/mnaxITEPQlJr7k=', 'byiS/4MopQNKQw1o5SVSsCfg28hMqNPubipGt4A19bo=', 'MjiiiChVSuiaHesBEPm6QmA0eZIz8dgF9wOzXR9La48=', 'NoiGICCqJdvFmvy6LlcPw0m5SH7C7FO4TMbJHCdlRz4=', 'WkBETrljVP4CWMKsouy8P5j94DMpD1mdMxCCZ7ftnN0=', 'R+PA0n0gNtg8uHV6dQ5TLW+3WEt2Bac2ak0mDoaL9f0=', 'yHJf0g7o8YLIn0qLcWkybcezKBHdmlj7ih14MWWbzNI=', '7Z/KCQJ/Nos87439+IVOvNaz0gOZPSKmri8DEQgNazU=', 'Bwy+g5s/cdkK1YBAu2AbE00aDEIgVHvQLglAIAnNIlU=', 'rwtEkQkEDS3aQkE+XIosHysCXQU9C8iB14xc1kQC/k0=', 'ip5uBacJ1fPhAi+v1Uymms6Ie5bRJCPNau3ZoyRwiKo=', '5GSDEOPz8ykUYPVBbe6s8+TAN1rUxtQgcpirWtxAP30=', '9sB9W+3x5hEFUN/pFLPakL+0ubNopXBy3NGjYgRPSI4=', 'uwQG8/ZoR1/zZTjWe3OIyW1B3Qqs58hnkYXRteZxUxU=', 'YI7fG8ZfmnBhOzqkTJkMej3ejuPH6JNyVD+CM15mYIo=', 'TDEUV/kZMRHVLtJ1Tzk9Ne7zqUrXe4lwJ/AhDn6AKcc=', 'kGRuB0J+2WBQOkAU2so3cirN6g3c0kJ9Enwcux8MS6s=', 'oNIM1eH6FUaiqw9ZJSkRfnJ3jbGUx8QoWBTNq/mmB5E=', 'uFCpz18ILNOA86AuPKzKb6a5FpQZu4/+OQ3z40HL+e0=', 'bhUhhAGCaQV/N1qvnzhpjaD7P2mfdt3aqOl/ctA5Ozg=', 'z7j7u9pIZBLTXsNZB7xMkIJ2CB++xDwCfAFzUG8Juco=', 'CsEbUU6ye3MWlxUXRNZ6czmGLlt70mRKs5S2ZyYEn7E=', 'QLZ1wKDTHboEYAyw3gx/ZFqOkxwu4cMUHZrenzwD9sY=', 'uL6KHETQYCoqBED2zQuy+zkxtwJwdoa9myALWa6dHRE=', 'DX7JpJCwcJs6C2qejstdt0z/KJVJV2d6+HHL5VJxYEQ=', 'Rcsy5m8O7pQ3np5tv3eeCgGc7Vn9vqmoMEYbz1pB8pw=', '0jLx3N/h3zT921WmSVhS4e0TPADpzOygjsvjtTOolmc=', '1rYu966l6i1cA34mdxukVKusuaDPMwcW6a6WCWe5ZFo=', 'Fc5XlXIANxkaDJS1pCHnp6bBBBrzfplmaPJWEhyHdh0=', 'lNrVQ1xnsnsWvtrLukPSOek8Go6yuhzXiDuwKdSMa58=', 'lKGYmPAYQXCknHyHodD2wxXC+5G/OxKIiDH3GgLI+cQ=', 'VoHrX2UnJ3IU2DdxSNj+Bbm9zCM0xLPSoYevLWFeGD8=', 'PB2mQE/E3slXrHhnDVHSNhb5Ei8QIwQB6DipI2jRkOU=', 'YuGOmB+frbM8rfAa0RJE882R+IoMf9N89OiVqLbAHBw=', 'vb599W2257CQW/TGHxuRb4KR46aEykZxjDVpARmgaBs=', '6pvjmsSlGTJckr+l8pX/6w1tycejY0vnlCAB4Y1XM2c=', 'KcShnqrGywsZWe5MG0nYWJrimCRKokw46irRW+Hoc2I=', 'PTyaFYWmIg+5PNX4LsFQGDFZlntPfkud08tNGBXnw+Y=', 'olB2B7ueYn8YeM/OoPIbIX+bgetpmV3h25n3vXx9wkY=', 'cYgMGBbf7LdGQPgpluIyEfy/nofh1pO0STOjHrLThpc=', 'SeczIB1AchCyU+2ERN9UZfwNxpPR+iEWdTKdKVAOplQ=', '90InnhzKdtZM0H2+oxk5FJn/2H0Ms1RmMgi1UjxE9FI=', 'OqlJtwFg1Ekkrx2SQ894pDPGH28c7bfHfJsLy16Y8QI=', 'c7CnB6hlM9deJD6GjunUMpgXQlPcGIKfVuzCTGSGiQ0=', 'a3YtCNan74n5yr33mRTziRBk7zjFI9XrLXC0Wtp8kWU=', 'cqTW0IXOg+J6y+Yk63csOn2IHYY4+Nqos2a87VHy6SI=', 'ZS2aKTrfYoSFzhm+weF3amIGgUrNaR6urAPzgLNqWdY=', 'Wk1PobqnhB1FsjjiU84gVNe9j4O6SLWWYfvGb/l6MR4=', 'hVo+IVNVaOniJLhdg54xFL60xgc41GXeHG1PKtkgsVQ=', 'p+V3ts2UBQGzYvv9/LDQ9GAAN0r830ex3/6G7l5Drtg=', 'pCMaU32mbXzBUo97xzQ8N2IV9uQoBgqqdfOz6dcl9RM=', 'J967JTnPp2BN291C9SMVH/p3iQ130V2A2rVdlybNUv8=', 'sSl0A9RyQ3LbuoNIUSeLVfCmVa0Zff2L9FNm8PQsrSI=', '6/W9+pVrE9AFh807PuW/my0HtmEcry1j37kEec96OoU=', 'w74XdHKzME2SVRy/43in0XtQlXuv7VUdjQzVzbOXJMs=', 'y2cIQJI2w9BzUTARUpwIfpZKS7NOEaAdBnn0A7fA7Bk=', 'ZDQe2EAf9O/FBmCJpXM2GZK7E3bfQfT6M8rHZ21H5Uc=', 'mFkhx+OuLeG7T+2eWVBNjiY7HoTkp4O2/nAXxxunQAs=', 'KDUfRj93vFrSB/KZ2C5TDu8EQ8QkkkSbtjQjYVletro=', '6oV4EEiXnfv1cY4pXBitHQAXanttlx5+Tin1nYM4AWI=', 'LQrGjVlzt2saOM8v9XMeeVj0T00lsFpsdJx95qQza2k=', 'odpQo0xwxNj77x4vDVOFe0SsN91+KI8cS8ytWOMB02Q=', 'z63YRJBWfFRlEmNRbbP4dElBqjDwsHUJ4X+mLaRj+pU=', 'ncpSV/Tw2uD3d5TPnUjjXA+mqgn81thyxj8FxznUxZY=', '6U61DyP2lMcrqSxLp8pU4JOtVvXq/BnxM/YXDVtOMbQ=', 'xQNx//qhkk2bCwEwFdNmcqn+xhyU6AwjhGgmphpgtV8=', 'PvpLwkJhsaSFDgYgP2BUVWxNx+0ur7BufMi+rTxJHYM=', '1Fy/09VqlDTU2ABClPQcq/zyTpDz9LpnuIS7kowjjEA=', 'JlLOrhjyKOHgQMgBDevMNpEYdnN2KuLkLOsihld3/ug=', '/acOsfJkQuYuDq5UjkRrojhkbUcIgia4SvjKpo1v0pI=', 'a3dIrvVFRsNUndL0o6tSC2evd4XhhCObHWe0OO0WemU=', '04Ly7oQJHeLBj2GcKWLn7e51TJmF5MTSvPESVomvUM4=', 'JcrFXI7wzq/14kZRPCdix3feq0/yQh1gHU06bGQwNBE=', 'ap9wOXDnXVFePVnnpscqo0DFNvaLEzP+JC5FyWOxYI8=', '1vxQPFV4O43WybxMtioe1qA8GIcP/kOWTaysWsNrBRY=', 'oYKp7Fq1ukhFHHrs/iNZHU4cV3PMvwqg0wFiSqvJ8jg=', 'Sb3aon2FSNNX4wgPRFi3hwJKcQgo8dM+4M26k2TF4wY=', 'Ijs1UshEIMgt1OcG6eKsXptj44RGEr6VuWhFcmr0erA=', 'SNny3SIxP6zv/dhk4ZU0EH0mmajwjgeHGzeEZpTbzvs=', 'OmUsbt7RaK3Gs9LwcpEYshJl6rIzzZF5DjRp230rTNI=', 'ptoq0DfX5wthTe3dAIOp8nh+CYffpkOTH0Y5myecBVc=', 'H+kjSpD4tvJlZwMTYPX4lhGX0K6WehpDCq47nVwRYI8=', '7SG42IykaqcKQf+BZ3fBFrPLaCiKOJJPkBDLvzzOpGA=', 'JpYzPRDw0n+B3QTPjgJAEBPXFwlycyukYkLcooX0mHM=', 'lGdUXi9NMg3ytnL5if7DOcNgJB6AkWtmNPc+PBbKHi4=', '9lNlcOPdqsxv4gFKj/l373+cK9Dfus5eNNsvjHY1yos=', 'HXnIAxmCDEWAJJV2J7f2pEeGvddv9MpcRjbckar9YTY=', 'OFviqNusL3qUCiAp+zDob+G8I7rsTkSPGFNa+xzA8sE=', 'finh11g4fr3tjeY0F7m5HvkDtQGrF8e5Q6ZNMX1YLo4=', 'rp9yfKKSxDxu3W+c66zfqMEOPAFoBxPk/WXvxBAXfUo=', 's50m57r2jUJxOLDuXF77hZ35UjzqvVkzPKEWj9xqzxI=', '5mFUoufpNkJhFs1oOkwpadisjYtcoP4eIjvzRWOShe4=', 'fE04LEEwnBo+HjQx10Ikc5iW8dGBbjfZuxqEt31yeaA=', 'LX5JBmC+vdiEQxmg1hxbBfGAanwh78vK0LYfaoDJMTM=', 'Uq0Jd5CXS1nkLOvMSauJ2/DL+7ZrSiFIXAs+Y0LWrjA=', '4XFuNjD7fAKEKH6jyDqZPZJjoVyNn2hc2m3fVVgE2/8=', 'MefOHEpHMbpSlIglmM0dFv9PLECXPNiRwF5qFmNSncA=', 'tBZ3hZqed0H7wHFp8jHQT6bij5GrwxB8L32UylQKUrc=', 'EoxaKgXtsgVLpnw8d6TdnsnnqzM2gEb+mHUwkOsZGpU=', 'X1afKm2XO2cxQD9qw6cTUXRW2hrgPrfOGaduO3zsrqM=', '/ejwQaTpw8saI8XVEo0mo08Yf2ko9KW5lwBJRlO8/dM=', 'TlMkJfs9LQfBpKdSmKCSAk0EJ0GodXR+6hD9KpqZd1g=', 'lJa8pFWndfotoKPXOGmjPMwYR4olU7viRy2gAKzJb20=', 'VHoFq7xrb39aeNkDFggnyfmKTpBVFGdo7R0jTwhDKng=', 'fpz98Db0LX6xbMc9XXMAqpnq17WoOxhJwylsP0dj24c=', '/0Y1OFJkQGPagfYO9uI6mM0Z9KK7vcmT/QPVos+v7Ec=', '7cFI976r8aUQRMMibLQL8WwJA2qtycc67CAiCglG1yA=', 'q19yLKk/sVMh6RTyMr5ukD1q4LIeGdKKIiUsjpZAQL0=', 'STKIh4mc96nCMWCChSWcToyncYSNayuOyy4k9dSAgS0=', '9OXYxjWigzS5FgP5nZ1y1EAtwQihC19PGhDlRKqK3Pg=', 'HkphON7FGZhxH00QM+nroOHvAGI5ntJX09tiU1Vu80A=', 'k6o2d0xz4rByHpI/HCNDEzH7t4ljNEj+6pzh7K20XGo=', 'aQys6A/5FjGwd7dQ0KQ4h/5zmPrM7lbkwj2ZkuhMepo=', 'tTmVu9rH4l3d4gYHn961kutPiXDAPkhWRCWp1GWCwUc=', 'YK8k7vXBGE+Uz9zSJyxXp6OC214bTKKGGTqalD/Zf5I=', 'mN1tllkKVTTojQYca9a9pFVaS70PFjtGTTiXHZVFwRg=', '4BVALn5irV1247RL43vCYHrGwGO+WyV5JNasXCe3N8Y=', '2Q4i17ObOkd2Yb449DHA1IBEBnZ/7EImF3FYztgI+dk=', '2ITXot2a2bPpUbrQr34491M0lzlI7QvvHhgqW0bNZbw=', '06kRCVdMd4I4CpJxtM7rmBED6keL482Br8ZCE6DU+W4=', 'i5SUcTqeYRtx49V8b84jSxOrV47WyyCXa+/7pE6/6Gg=', '8pMUDp4kBRtzPo1x8x6E3RZvxvLworxgH8lF8X/YHEg=', 'POe1GpZCs0XAkf8qMngYc903fO7YAI7ijydnbX3l+/U=', 'TH+9EqnFdeRqXgd+9frMdewrp3rP654euGJZm++hRT4=', 'yQwYr+IKuFKwlC3oGLHemMwCjRjNIiJUqTzt5A+E4iI=', 'eLblaDUmtz3c7uZgJ8pgtSnq7nnc+tke1g8HqUw1F5E=', 'cINypIteJpgvnBnuBcPhQ0QhSdf0LxpMPHuxN3Ibuyw=', 'KVumCxlGcZIZ8c8xC2wj9/EVY1hSqjb33TZDX0OIaE4=', 'NQq7QTnOTWDz3NSogiu6NV/2SjYWtPZoUc7Ijv1UI/k=', 'rQO212wsw18sbrh/TvMPK6d7BsxqTet330Yxso5NhKk=', 'cBtlUtwXdy5gGdRnRrsdXfZKfxJcjOb/Y+VJG/VOzVg=', 'w8mrAb/M/c9pr/FAngd/vU90ZIlBOtjnjrpToRgWGGA=', 'OnOsto+ftuylNECIWNGMBEpa8RoJ39dz4+95nFUtmE4=', 'MLd1zG5xQjPdScBoMFYa9Hj+Y3upNMhxFLidC8v2AmM=', 'O/KjGB9rr8dvio3EBiuDvoL1cg/22EZaZV1FxmkURKc=', 'V2RVC5jgSEbmKRDBgXNFrA6t5vqFslxPIkcmjHuVXYY=', 'g+QrAwIOrKpsjGfixPcsV8mYJ11PnKrFOt+JL386CZk=', 'v0QQMEqKJpDj2celSchjacrZA92MTrfjIWGDYbugu6k=', '8Ncq2cefDusTuXeFUg7peZUP0xBVAEOXIeeF0IxNqic=', 'iO9aRlOBQNV0rwx+0/2SRlANvc87xhKd9Yff43mfDzk=', '7weJLTdGePcbI6VZb5/eh77sHGzpnDTZXxgPlao6EMY=', 'EedOkesRVDnFwtBDegS+2DXjAMOSPgOvhPbGLmqAjcc=', 'o/g95+OW/vglmMGwH72w/A/K5Gc6TB/BDAHowBQDjGQ=', 'EmMf7fKLNR/bxD1PlEAJpZ6oI8o05NkGbs2nb4hnj20=', 'mYFtDundRAjeRWK4Vb1dJh4pkXy95xGx/aLmxgXDmEo=', 'vIpEeG17kmCO+OLv8EEBw6fjOiDUaH2trdZZzM7XD3o=', 'utmhbxXhQQSgaC8EVrCmsYgVsNCiRAd7R80icvSkcME=', '3Y3dv8Z1NFlxuvaLEK3OTOR8tgE75EPsZ93DaYMtApU=', 'Y8wMuwT4XAOV0oJ6FnQLaEEOIi5GxbVxfLaXLdbchfg=', 'xRoZGzdttZPj1kvoQoPFWXD2LfUawhSL5nCz5NXjhn8=', 'OJioXoiZxIzRBhycCjmphl4dI2Dt8J+exC1qFpvek/8=', '6oBJy9a+mLrulaDRintC7IOXA5h6oXL7oGZCUuH34Ag=', 'wWw2CLiK4yqlM5/ZJQgVspMEHVnWTfbbuGHAZs+py9c=', 'a8gAVDPDmrxf2poDVj1SEcQl7lX57osmdVFS1+Z+4K0=', 'zxxjH0rOlRk3Fe7P3H8+00eXPXeazjvuIXf2bdEyhJo=', 'QjpkOpuGWH0UnITA2wpaRypYPOTnkGJFcYezuYGtYuM=', 'EeGMnhrm4kMsHkyciCkRHDKmLKUY/jHQd5H7C/vPDNM=', '+N+e7SzcUVowUo7D4udR8rBKRmR1H7yuu5Tleqlhv48=', '837V238PE+WJU81/8PpBu5ac7OXNU68cfC9XrqOMp2o=', 'yHgHyIJ05U7s8Ak1XnUHY08MP++zF14JXnyie5AL5s0=', 'Qx6mwirYKln7CTvOXad5Do5OkVKmypYSQfFs0MB6Cvs=', 'dp0m1kS6Bygoksx9S/gkBqTcWPoglbf1HT3Ma3U3N8U=', 'k5VfVp+TcBvjO9/385mNNyTz67w310S9kBWAB4uteVY=', 'DsagSH6fY3fa91S3IfiweWR01YDbg7w40kuIJWwvvZM=', 'b9R/xne951+T/j1JI1MBUYj5GedaqnaVkFFXo7wZ+qo=', 'kSGW7jiMb919zyekSOS3O3twBsFg+jh/QoZTlNlm2xU=', 'XQ+eEPmNGFKHnvblrA6eVyXOZ7z/e2GtSZIcf+MZeBg=', 'w4MyAbgZRLh794BPy0qg9fg2PcokubWJcmd13HKCFXM=', 'X3kjMLe+TWKd9Bm5TfIaJZzzngni5Yb5nJxHI3WWvO0=', 'e1sAMu3IIfTozHcol7SwsRlLOnca0S9V3KN3/RFthmE=', 'S0VFEY+TX4JInp2RbHDsOeNIjLRKCfs1ywbzFrcTDWM=', 'VFSfDdE2vLsyVfGCGYLnxYih+n8+IpUbRoiUpDJ4hc4=', 'fbuOkTzKc7bABIGPJvp/bTmmesQeECfkMWrERS9NDEo=', 'v0TbRc4ZlN2+X5KttQxhQOr4bWfGw70hWriCxujmRTM=', 'Fs7rh4BWTNyGyHmP1FDo2C0JQzPnyByghyUsARf8uvE=', 'fr4VFr4dtAr75FBvGg+x8bts4takOr5RoTMItlyF9Os=', 'sbRL5aKtZBIUbbb8mbJqn1Zi8nvOprK9WY8NWGHonA0=', '8Az3OnwtgqatpwpQiRDe/VxoHiiwkSdaRvVM/d9Ump8=', 'nDwmEHmpKe7ktc7gphnloA5Qcjt2UFcu89G8HJ/EyoQ=', 'xk269k5cel7t7lVVPwniYDSV03nxPEP6B43dF03A7gE=', 'K+/l1QecCKo4z/PiXGWgLmP5q07XSMDUh34+HKmEltE=', '6Vtsi+hGTu16nZLlswQ3+aM8hW2uGguuyNci1tt2FGA=', 'V00R/cPz9t+/NMeNSgfvISuDZkhuHZZh3/hADlbJmW4=', 'C2AT0OBTUn+PRxEVd39enhW/DJtka1Tk90DUAR6yVdA=', '/dgnkSSQs7RfFOI233RPKNKg29VBS0L7s7IBSmtIWqI=', 'qcuzdjxW5qVsEjL1f0auqwwjCQ27dwz0g7NpJaBDaIo=', 'WW5taWjwvqMRopp4FSxyhhnCJvKHzed+c3PuWh5gifI=', '51yeHVqlt292oD7kSlyIajwHuUui7mT8PnYSMxUExjs=', 'hT3lzAgSbDmKyrgoiN9ijCKlXj0jcr8pmOTmiJ5sNw0=', 'Jl92cIZYcCutl8sqyj2VP8UbUigvqBoHBO/R38DK1DU=', 'IVUvy0QcT07F2gkgugegsSriZOW7G5XrpVSXqY7TWl4=', 'OVGQBBcCHSOyJ89uwY+z15n2iuZYrv8Tajf37jiGzqc=', 'DgH+MRxk5YRf7Ngdo7+R+ibJY9IgkZ3LRX4c/KJ+JV0=', 'i63OzZpTkqfe5ND+D9DAeVXqzKrB/7OasjU2PnkdHfs=', 'KRStnam9HyVFJNcPipeCdLCojuvcpEJluG+TnIQa/Qo=', '0TFQA8MIRYvgH+PXVXYkRKMPK/LPcaVH9hTxb5daZ+o=', 'F4GmvS4Bi2uZWkbTIc/2nAey1+AXYlAgQWpQcuY9HOA=', 'jvSzlPLRjqqstMszjfw2Y1+0IOmVTo8P8l/rpJzPgNU=', 'eddO7Y62aSxN4O6q6+UZ1oFT7Ev3tJqJn8H7Lz664kk=', '7+zCeocizYIObv87m8EGftFwibVwD/QmbxfbCVzvqmM=', 'j4rGpwpqhLE9foelXD2yjokS0u3QR+ULhNqLGeF/4sk=', '9/bbdH6Njs7y/o/QWcJf3YPX0UcgoyiUAexULCLnKbI=', 'taHJOb9QH97FhfZ3GgcNGP9N4IOkU1m8ZUle8xGkCz4=', 'FDFKlshYbN4rO93MtgimwfpEoKerSWp1RFhoSKWXHsY=', 'HZjujc6emQQn14Tviy/t0Xw8v8jRJ0J1Le11NzVrlV4=', 'daGwNLwnh35rFVqjg4maa1tVsx+wdDt7V9HggGCDZXI=', '3bHs8ubahqHEEoAqR+v3jiUd36aEtg6AwQwevvoB5g0=', 'HMhzLW9miVf0WLDDX9F7g67mAm9td0TfHSo8TeZQj5M=', 'W77JRmtNTVD+rfntgQ/ysIvIOujqt1Pn7VCHzntIaNM=', 'mMl55exzvbIy5f5RyY0tmq7WvK5KPLjw/i63OE+diLU=', 'NUYjCvs6zBkoCO90jnqqPYhJ04GkmopjXV6JhCOLkOw=', 'tPAGQq+YU6D1NO1cU3U4fdlaNEm6YSSlRHK6qq/RQfw=', 'yCUFt9uR6EEQokpBPpS4+FXT0ri7GVcI4M1ByCXveIE=', 'QZ6LopqYP/r9aU9mfJaX3+scQfAlYe19eeaj7TW+zww=', 'XUTQRoPefsFTFUaUGzdJFj7HtMAyenBL2dvo5BZusKI=', '/fQsOaxbPuYyM7ZO/JBLBRA6HJyOHY8zUN9oLVT5vYM=', '1fj13beFL9gkyJu7fOVD08cezQW4aaruf2z0f+Xew1E=', '0lDY2d/yzs1IgpdsEVNAptv7CcTNSmBXzskCNgPAJTU=', 'LpZS/GFsDGjF3rEt7YLZd8IYdScjZ5Z+5bJuJ/c2BZs=', 'bhl5niycEORGZd9uw9vrbmuxJKvPUJT7TabweC0W77M=', '/dE70lhbWnFlB1v+ZQBYpQu2XDmodq4HYiBDGZRw3+o=', 'sabwQYnBMn/T08INMmZflUXyrrd2ltP6YajeNpwGWSU=', 'jw8OL6LfnyWsdxIIZhy1YgMUrD3jub8kSMulJZffG6U=', 'OTW/dDCx+GEYDj+DqmvyLkxuab8epUX6tuGXQbN2wls=', 'k8mqp+KZGRgdlEg/caQhZBQLHh9jgIXK+aTtrCuSd0s=', 'INRHW4A8HcdD24d9DGp5JEEdx6Z4StQt3X0XknSShA8=', 'XbcpTfT1RFwmsRn98oMDsQeWhCEAh7GOGSxllLaYMLg=', '+xN/geZI+rXD8yB7YBDvLwAXgXO6aORg9eOFv6AfGHM=', 'Fp2N843wQ4ascJJ2z+U5gFTitsWL/g/USFepwMhW+cQ=', 'r+zxAQRiz0ZWhEixJ4ZiWlG2jDpl2qTa2mJ5ZnrVXA8=', 'gLNrtr7TN1errHKhgFmRSO60rwODerk6A7qT19Ickjk=', 'uOKltJJ7Lmvu4E6v/qzI3+SAr0/iWghlCX+3ZhwE1+Y=', 'KX1s7/Qxk6pH/qGwmxl1hIM9Tasofefi8z7FpkP1IcE=', '9DvpqliuikAji14RPwHUjWDnOLbbWTLxJ9jsXn20c14=', 'QlgE9ktDNbyezcCDHWTZkmzRM8/8FOcwEHpwzA+Zib8=', 'fw1/GoseFhHX1yH+qmBYplRxoAishYQPUm39HhXVIgg=', 'QItWSsqV6XwvWHO63v1Q3q0cS8HtbGkBWTkRtJ62BDw=', 'DH1woY0jiq5IXrppQ7IjlrjnVUoe9Y99FFrAnh4K9qc=', 'E3B9SjT8bMG3v5nbUC0ygPR3x4i/oVjGtA/5V/f05rg=', '626yBYLPoc8DKImfxhg1tjUMl+mBpYA7IyBh0uG4zTU=', 't01hjun7X39jNVm5uQ4Zim5uJ7au2kSCDtgaN5TBBR4=', 'RySWVPM4vpcQHdMukD+i/MhP3/lK4Vwj5TAl48A6LKk=', 'q/zqlSFnHvaaDZQ3T0MieHABIKLc1BwReJRJu5dz5NY=', 'bd5nps07t0OtRxZxiwM39yi9o6qmxUkuW5g46/PKjeo=', 'qXZEcmfOOXDyc3HYJqoJL7PdSiHNmOpELzPkGSsYCHA=', 'jzZTTPgsrcp5fCBd4ZAAgShAZ0EC+8/YuLGSwXDOZQY=', 'AzYy1fVXRy9vByJG/zOf+okOqOYX/wK7VjwzQtO06mA=', 'HZe7qpPO4/WVhGuUwG7X8OhFgaJ0n4RPiM8TGcfu2jw=', 'Ctr+7eXOp1moXyVJDfXHxeK+VijAj+QGQf3KN4+waNA=', 'bjqNyUe/0l0x5+ie8inJrNliiPty2kvg7F/29KIioKA=', 'sF5/ooX9Coeoi4ZQqBvtNL1W15RujzkLLPDIHAh3sIA=', 'J3WqWuIL4K9D5AfOarCtTLZsRn6I8XJU2J1UZYvS8k0=', 'd96gb3CJNJAs06rSg/7oI0q50Y7vxIOB8A4ubdHQADU=', 'n7S5SGJpFgGcbGt//qTyiHxZTrIcQXIl+L/ECKOYAnc=', '1iha+v5exIXrmb2ARHQmmJwmljMj98PxQ1Io7y+rq84=', 'pHxumVVyXnSVT3+BWEh9DrffUG1ETbtem3Ea1tiDmt4=', 'ZJ92WK8KhstnwtpIXZzFwFo9tWV1FxW9wGbwBT+JaMk=', 'cvrpe2HqRWypDZTWd3ry5QCy4XdRg67y3MIeZlRYaes=', 'wZ49H8xuqS5c5fox/rUaZgS6R/TVKJkjRnvzEjrSOa0=', 'DtvKO1+2Ch/AE2FEfvJk1CyuVHFhFA08kGI64zamVfI=', 'CF13V6t23GjzMMrmb1dKAo7CKiOon8TM72V7olKWEgw=', 'jYvdVag77CDUNkiDwDLBvSrc4nd+nxa7z/rWC6Iomhs=', '4p305X/NqL1Zx9j6BDJEpiQx090kFF3o/LTTGJt5s/E=', 'fQhyLDlrnXbdAwvY10TcCRGj/lBUTeJdB3hXeJPOUVg=', 'Gac0tsJ6sYFX0zK9L6kkirwp3tvIjB7XfBt/4n74c60=', '5XP5A34EbVYPsNgi2q9tNzuW5fSOenWfbBkAXDGKAfw=', '3T5CjM/cVJ69j4JcjfIpyFR12FVoH9zN8h1GhXhBCAk=', 'wMb6Jrr1SYX+L2nXlRZ8BW8cv6C6F4tPImJpElWri2E=', 'ceoIhM1kD63Q6PhxJlFTGX+RwSnXuJ3WTOTYhESoQ1k=', 'M8Lfw5taHmpTdDkfSEoNpd9/xmXC2wRXO6O0Bs4qOIw=', 'CzDZ1MLXzGdIvkP/kEE92OzFgbVyBwoUvtEx8YXAzUQ=', '01c8/1Mc1V3LZtYFNre8TolslWChJSztpFHSNAvPlpI=', 'b1IGwey9JYxxOGjLTGRvkWIsfmIlerNqghEc8OtDB8o=', 'Ul0YfLD+DkexICyzGisAES41BpTca5rUI/BNolWJpio=', '4aBoITa95u1u3wbHY37hPJIFFinn6ZnQjmZmH1sP830=', 'x9oDEpreQSuEiyFzA4syO+1WLv+obKycS0yqA80CQFw=', 'uX/j5LVl0PCKk2qBUgAktTGQtVdMKcT0MuXKsahNaX0=', 'sbX37mPX7s12nP6ST0kOrlxn3LZ4PhWGqmgvpEIj6ng=', 'XABiqjiym+yxP9IxWjibmAF+Ccqqu+GF+oujfq0IbWY=', 'BG5tyd78Q/W+eQU5e5tUTKS14+tiZ6//Zftq7fxiLYE=', 'jm3AQrDCqr+tJAABNEyhQdSZUH7EWmfIZxEkfBTU9cs=', 'NA/6rJli13WahqXIJO8Gc7iLmI2qc048XZuDwrQ3zlg=', 'T2hI5mqqogezvse00UeJHgHc3DDK1vrGyyn7Z6IIpsM=', 'TzA/XRKLzDMD8yElX2FvbMVJ3BTJ+9aqbOcCCMM/TuI=', 'tiLwNbKNBTH/JttT2Z5fA/wezgf65zakDT1fSS4Onjo=', 'gvez7GFXUbuQl27U5+p/4QwFZZyXP2QFYQdoor8ZkeE=', 's6iUzyQUzDGLXdahm0mCWfk5q8rcxE5JGLnSGk5h88M=', 'GOpS2Uap4gYwMnk0Li7V7U2S7wDYXRE3XijTxTdngsk=', '5j1q7lkHFW8HJEpfUarDBzEppNaa42zrbrz1xDFw+Ck=', 'iJ+Rpf5Qnw63bObvZLfXRBU4Hmi06Io+lXRGV9hsFgg=', 'VXrPlBOiCgJ5r2VB+WDJn4TuHK2oRH9ffhgulsCm+Dw=', 'DNXGwbi0H2VORtI1i1PGiDKE8ZQmugjzZLUNzuWQwE8=', 'DK+rYDqFxs5kQDeBg236ch52xxIxBdsYcrn0t52y/O4=', 'qFkV0za7uPY3RmryLxsEk7Ein+05CaxcU9fXymqOGxk=', 'z40HWZR+gOnq+/hu58VFytoZlZYp9/VyuyENVRGJ/OU=', 'g0WmMRm3uq6z030S8hInLOY7xb091Cos25Bu/Slg38c=', 'wFY4DytAuE9Kk58ZsRBfWoMUwJakEQKKm7fjCwSK+mA=', 'f0wLgPqiGPfmX/CF5qxgNmuoQj/9Z6CKss1Oi6P61I0=', '+aXi8dpg0URdKkJtkicic7DrTHAWPSnR9bwD+QouANE=', '2rJ6DLjEMKZiRtzTx7yjg+2lbHOfTfLDyNli2mFXTiA=', 'aiQx7FTmtkEzQOA5cGnbKrlqzKkK4IAgGnwNsgrBuC4=', 'WS6WWNekaOD2ftvFW2KFOR67cYFe7KHl0DfZjhjhbRU=', 'gCO8NpEiiKGbe1pbysbDipvP7hdI2LxjDVnbMOCvG5c=', 'P02YQOS0HnUM+0FJcT2Hpa5X0gjJ/eIaL/Quc8Kj5u0=', 'GLgbTk9pSzIkaPoN4xF271DsfbQI9fY+OK+9tsBiRH0=', 'aUZfbM1yIpHJBCb6q2Ibl75Ix+02UZ4ihUKYjUtEhkA=', 'YpGyZePfYXyA1sM+Syxc0sKhL5GiFcPSv0GpDs5VEoA=', '31pm8raJKwwI41JrU+s508PpAfTazsyOVzK6AcUPbU4=', 'gpzB0k8E8rfNWqMLhPK2MTqX0O3neWD2M7U3NuU1SJ8=', '6nAU6ttRQrsVGHzwzudkjimJcBMWWqstLo4WIY+3API=', '7fdHou+q4q/QY9nkfzbfGyWbvW6prJBGXnsOLgIlQbw=', 'Zo5OH3GyWGn52CiWFk1qCg8zwtyTw2CzekYXwgDtx0Y=', 'hXLFyKcgM/LJH6GBAg7frMZ28ciYsmqvCYcIYJySago=', 'NoskBq4Br1/gsHaS0Pkuhdx67DlKfRiCcj2jMAWpRS8=', 'V+g9Veh447rxTQ4761Lvccc9KGxXM6jr5uQP8TTpYBA=', 'Lhd00PvCdq23PNggSHEbszeZ68vTRWdg6MmaBD1kEZ8=', 'DRTrxTZ3EjiwnJUUqIsOLCqDQihuHkqux4RSUOkk2sA=', 'bL9LCeyWY9s37YHGGaajw9y6AvwkTvCxHwEL9prznXk=', 'YLh3gboNapAss7XRv0CyfwoP2GZHxHZxeBNoWI2+Pk0=', 'ad/P0gKMpXTOaZ/ShZQX2Y5m7BBidPE5CT858fakoAo=', 'GcHA5YrQ/VZR/FtKlMu8Hmh6+nnO4U8azAFab0hzJQ4=', 'iTEZw73MY3n+LoNon1FUuwEW5jHj4CQXGnFo5CaVYEM=', 'tKPJ+aL8jZdRX7rLqbXvQRirJzPopGK2mxUlBEHW1aA=', 'YvQPbwjYS29kj/MLwNYQQZEeHg3g0EltbLRfuPywjqE=', 'GWrfasljlyqZ+UNT8MRgzzxZcKQFFHyQVMnG7T7Wre8=', 'FOZdPAbVSKKgrQXyJeHVAVOYrXr2K5t8OYG1fJ/+Ex0=', 'bx+6BdRWpHzjw2lzHZq06pywvvL/Q1TL+gEZL5lhy7Y=', 'wWxHJ8aDeAVSEp62k6aRXGwVOAzzQz+w7iBA9wZium4=', 'sXQotCwOU/fcmIsFMqsFT1+jDrgNl3Eetil55blgp1Y=', 'Mg4qERZHTwwC2gbKK5PK1x83LmW5lgPUKB6xEdFM6Ys=', 'fwR0w0LLlf3OriHwW2vIK3RiKD8gRLRfHC1T6kQhG0g=', '2gvPp/ApACeovvXfovMnj6PCOtw2m8IJH2WxJuJuktE=', 'v82Gd4uP/xcTasSq+nvw7cWkEDEigud4yXgwp4hOh2I=', 'R8DtELOi6cThZOCqTX6c+wNDtTcGGuaAufw4vCdQPsw=', 'O5REHVmAHn7gqbV004+NYosaXTrsEuiqcIORcWSdXXY=', 'eem9dUXJyUw0k1eqjFlnFp52CjkEsGsRMN5hIg7AxIg=', 'vANSd42hTmOLeN7SdvJlNigKaY6CjHCx2iVDaWBVKgE=', 'I/598ZmMIMeI5NdTNKVBHbbhAMhZA3QRabeZhQ/ddL8=', 'ZcwX8fZUrnZDOsvBOPux3Oaf1viIG83MNe5frh0jnQw=', '9z7XR/FDfIAlrvVwIbw6cXuoTHPxXx3Tfe2fcYkLFCU=', 'TWogEjXZZBCw1gGUayarBvTA2viDN2Ly0/KsRLsP0rg=', '1/laFoxMaEJLQfaHo92bbuIVjnq33aptQA8IY+0Hu+8=', 'IttU7X/dI6br6pFlzFNdqVSEFYzU5wvX2yFKtVdqbjs=', '2I9aYyQzVZey2D9t2kJpJn97Aty7PBeZ0ITJvFS7Hfk=', '74uvGh9hBfx+jQdqw9n6TzJCCnr8Q5wDHJqUead5+RU=', 'HWsQi2gh2imZ+B7lfffCgOj8uzOy5kWwOYfTHpW0BI0=', 'S3hqMF0e5To6kPDkpp0xZ7dpZx7GRQgLjAs14iM6rfE=', 'iFMkY4C4t4FONMCI2C5VBOIfCIFNLYTG+TmcgGayb4o=', 'rND+3bhmprW4wpS3cauOBkPcR2VbI2H7RpDMRUVHcCU=', 'qAtLSVC787ORvbDSF5uaZalBGtpHCkGfy0rXm8xJD/I=', 'UukST5Jm3oHVK7g3ktel5joKNlCYBQJIX/A+GOGyjG4=', 'oWKS08nkkpc5pzxpe0m0RJpXpA6GEKJ/ESJvXoAj8C4=', 'xCOPGQ151m467iuNwHOaIi4ZTipNvQ4/0wB+zcxGjLQ=', '2/JTGg3RUH3Q7RJgicVubieOoxNnseT0PQorlMexeog=', 'xqsA8iAEMS23iTamqyxrcPqpN9mMeybGKfFYVSTBBXI=', 'SoyS9lUIh/q7oCg6XQeMqOtoiMT+GZVjes485aXEbKU=', 'PwTmz5OGXktdjZBR5o3T6W/9xOtuu2dJeIwi/xwom1s=', 'xVnGKh1Vrf5JAkpT+RvkYwfQHb46ugd21uvhWHJC0+U=', 'nPsED61TTD7PvRSGYJUPEHBUKdezjtZUIvu4i8tBFdY=', '9f1FmaQfbOo76nn6Dbh5CDn3qfIP8JDD3YqD4/LnOPc=', 'K5JzO6isAN9xTFepnDicBmb9YTIOvXDUHwa60hwxCjM=', 'HKqPgUALqZGw984KFqAMeDwDJTi9cNhJ51UXfjzELSg=', 'WMgUXcGDQCwsVgpqW00m0nL9vzTUYdkN6Cbdtg8M29k=', 'QmVklaXAga6VIQ+lpYkCclWpaUrgeJABVDnm+XFhXB0=', '9xKPJypj9iNixPJpQ2i/OsHZXTb1JcFP70VkCCOrH38=', 'bGhEHzDDpgeN/wftiCCViepN+b6lTXEnxj1/8DxWeZ4=', '8WAiCr1NKNHhwGcicB0YFGjsDNAY0RXx5Ox+ypKfw5I=', 'HniUZmsvDs7UGkQACuak9ZIBo5uVv1BxZT8RHR/uGhY=', '4OOqY/SxnrDhJYNG9IWfI75NGmUwzQF9qC7YYdUwrbI=', '44N1RXOiWg4Zy6x/GQwNyECUUWAykXTDm7q/dERMTZo=', 'Lvy3d56mLmoLgxzNCF8tmLRCNBaq0S/ZQXkG5viaWX4=', 'BFN7V9RhPTIHj+hfM4kCpiFoNMu4vJs73h071w1MYXw=', 'wZCkmlfJ0G2xyiucQ85Ms+DMGXRSg8yhQ+MiwtSHS30=', 'SJTFghEQOed1hZMCrR3hHBJLS2VNyHCmi8/CHDDmy44=', 'VkDMjjCaJsUcJWn56ZVLtKz6ohgWVycmo0nh3ieP7Oo=', 'lPKM8YFzXEcDQuekpp3DK5DdL1KlQ2T0z5lDPWaESgw=', 'GIVcQl5Ns4y4M7bPjsFFJ8jr99ZIxBwMp3iV5FwbEaY=', 'z5YJ7GOEyGfxENlfIjBKbMbTzhp3V5TS6Zp62Y/PKPc=', '3yFVYhjNhMP7tnJJxuCoKfPObXOoeoA5CWP2jeb05pw=', 'Ro29/9OFIon5Y4nq4ptN7g7LWevKCWual3GGUaKeYYw=', 'Jk92rjScG7+mMuAptzCsrhBXKpDuLQA6KI3ojSVY0LA=', 'FJV9jFDQLQAIAZoc7YboSSkQOkS3dNtCQAVDL874AKM=', 'dXvYZmfaKMbF66x3mpE4pJ0jkJN4QiDScmpt91rwZ24=', '00tlmGnNIf0z+qJsG0NMS4ufwkwwG1nZtKszPesM1EM=', 'o/aHMWaMdC0+kGRlcK7UV02bbJaIcaE/j2nbSkgupxw=', 'QlU/0uOUSWj8W8vTMUywLl+Uev53aISqtS8jMi2JnDE=', 'UqfpH7HCLC3Ct5Qj8lQ5MA9fzVPZBoROdRbVJpqQRs8=', 'GQxT3JGAhbU5cjX/+o/dFINzhYOTlP9i7GeQGgOIfHs=', 'uwwPPNlPpZxnUbH8c1xmKAUIM1j1izVyGwNcFRDhpGo=', '+fQqnCkVTMs8GPkdZJWUcApXC/Ea9bVtxNIblqLRie4=', 'OCtZCw4vxbL9tULywAqVeistrWqbKBWqJ2ldN66om0U=', 'f7095rj+E71WXpZHXMkEExF0RcHXLX3GBHaoIK6/1GM=', 'BG1RsWojzEHzV28RBm/1iKi1NyZgDcDomLYEJSV6lmo=', 'ZOO50WfENqtWGe4uBkJcqW4nppgtuJKCAoqx34z8eOw=', 'AVQrq6G+1T2BculthjTF+IbOH3pgRM1G2mPRoCRxQXs=', 'yf0UgImLKDdaX3kKo0G5iCMShvG7/CRgxqj0RC42kN0=', 'yC2VB5lJ5y/sgxAF1VTGmJEeWwn9WiP2T6dEfU6m9jg=', '8lMQHDTU5EwGBMdGd+c7Ud2X2hPbTj5eNQyD9N+bMKw=', 'eJs/Pql/Xui+9mjL0q4CwHI/r+w6Bn3tTCt0i6r4xrg=', 'GkU4YRR5l1jeRDOWNQmr37Lv5G6jR8z3dHRsRgLiyts=', 'FJzw+tZX1ifB8bWZsiI1O/zF5LjsyzzAKwvBigQ10uY=', 'qPHR8aBqOhKij9IS/Y8IR8prwWruoDBGU1tVUhXDJkE=', 'hxF+GCZ2kFjuoHOUVj0a6Jn9NbRfydExscjLa0cvxuw=', 'WloCXEmnD+f/vvG/m5NptiLPqazIZr+l8yqpaTAtMfg=', 'oVxTuTeb3r2r9kzjJBtC875rvwJ9k4YjqpmptbNVwaI=', 'TsR3rTKaWulf/k3TmhqbWrKGAO0mgb9lEwUqW1qoDK8=', '3UMCgqaFzwxkOnq4f8/PpYBxsI66yzicdM5uwfuBBcw=', 'Btds09v+9HMRx4P6eflC5gPQoNUwxSaOSdqT5SfNzRs=', '7Q7Ff0raH7ISEZGbShV9Ir0eGA4xKjVISqXU/om3sX8=', 'BrLr9H0NbhhH0E8bcCav8bq+2csWvEraQIgMmNsgvaE=', 'tDKyHKjiaYS/9r2OSVnPQ7tSPPSNRYT9jWOZCemk7/8=', '+Lgj0Me9/8gtiruGKq8KxemAD15kU4yCfb6nteNDWjw=', 'nSqkMbcuNaqkzvd89qwGhLvqOM1liLIgDjmIgS4Hgj8=', 'lvobiTtwUsd1ylmrciW7NzJnmmcqFC1J9PmoZ6R8xK0=', 'GZY8ga1P0DFvam+70Fjj0NwIsPACRwDe+RH8rmO/m9I=', '9lLzmJS+WCb4lxE0gk7bLrUFLMGJusLbizkGGvG52IU=', 'LZ/ZUlrBjPGOINJvKHRijqW+RIVb5QgOmkc74aK/8IY=', 'BsX6i0arMQF4Pm3e13U2Hs8vkEflls6+v5TKh3xvkU0=', 'WkiJbEtcQ/6K9mzb+6b/b9MvUag94v5b3NTx6TRIcn8=', 'SBKtN+xP0yIQrTRObRW2C5D7oO34pRf8QAnjfMjnqcY=', 'RKkxBe+3Z33I75tZfZ8EY7LtVnN5QEfE8O0y6bPFCeo=', 'LW5fheFKmpxrYPVEAXjEcNUtz9PChr6yjz/enILitwA=', 'Fbva86ABOgW15Bp8DdzvBmqz5++wT8+Lwr32PDvWBkk=', 'TKDAjftSYyI2PNmAkXdInD39P5BcPNa6a+qx0fxm4RA=', 'z9WEaz3dU4bh7FPuKdAt6UrOgqpVnwWFrb/AL4dkKJs=', '2kgk70NSoRSIZJVWHH0hyeuD652kJYAa28NJwx1qjlQ=', 'bm+PA9RRRt5EzYn5/rlVo0Sg77oozAjc+46VbJhE7YU=', 'e85vrrhrWUiVrvUMsLtqjwCVVgejgRneTUUL2gr0GJ0=', 'arhLfqJ8pA8XhguBiyIZKbrXTISqxBnAQeYVkKBtcWQ=', 'kWC7tp+Ms6zrg+kHdqOvEhUdKpT4PZOSEDZvFE9v2sE=', 'RC6q7zijbSkLeANRrhUHoLSa+HC/PGtbFSSBlsaFrag=', '1xsYLCdr/gQCUDijkXoMhULyqs0zluLgCvJN7Bfq3Pg=', 'RtjkuNmuzBI2VhWYRk43wMkzhzIQD6YstXG1ZsypAZU=', 'UJx6vGY4lwuup0V3VTTKZmE76AogRe5ecQHc+Yly1YM=', 'evRRGINVvP8D982nKYCUr6xI3QP2Mx+Fvu2ZIrKNajM=', 'vY8SyP2MYgZZz//LD03tey6tg5oMmcO2xFzs4CJO+4M=', 'e306CwdsI1GgMiiFdPRKSbcLGcEFSciChFTFXHPyGrk=', '7dWkhERQ653SMIMYe5OWVLn4eVm+680Vd2jEcsd4urY=', '+lmw480dBLSwkBgaKdL9MeVNsUfCgHmD+L4wzqUFX9M=', 'ZlHr1zKJsK/9HFeradx6cAyqADDSSyihZ9XHBS1PfyU=', '6i0db08vxp78rqzmscqC0FXbeJxoms6cn5I6cKthu3Q=', 'LeuXSh3STu/nWMAZErkg2yygA7NPJjux0zmz6eutQZM=', 'WzvugOYA7I7EAC0ty8LiMKIA+9T/CYrBJx5dG+/QcMw=', 'CMyGDXUELzeplk/4CMeRIFdFeukLF5cACzMugP2ar2k=', 'OkgyFAFUhVF5xeu+iDV16+5dlnfzfYQJxXIidJx7dzE=', 'ijROzdzfwoCAQ7dUtgyeqG2vgtGgvKQWu/6tpajqTSE=', 'SSDMxAE5L1x25IfMEbpXrmr8mQIqZzu40Nb6QyxBDKw=', 'GXHkSyhWAOB0hH/wOko5D5pr0II7SUPrjnejCj98N8k=', 'mrG4s2qdh44vRQsx7/T2OnjSJj8UzM23ODdwSHYMNFQ=', 'dVKfHzCsi1dOBhd343bsUNF4dowsiANnvRBkWqToitg=', 'Mp4dXv8p6ukOHl3zEXKwRT/DJ1jn+U/fHT3Km+vjH6g=', '7rEAlWAqa1YJ7CQRXAVVv6XcsYdqKiyBAL2Ka5B2Ilc=', '1Zu6puXXArXORLxfMsN+B1XQm4lb2shHuMZAcokqmWw=', 'zFUHHn64b2GorjfAU6+BVy85oSZxzLhsrqGzKB7JwZc=', 'mGErDb7klind1UmQITMFJDTDg1J+fQPigCXo35M5VOY=', 'WwGpcpKdAF1kvKHFVZOLDv9609c0Rs+eGWAu1Ub/k9c=', 'gr4NKrj+oJ0DWsF5eptZqQQ7ksEfY5k4NLv8FQdDDk4=', 'BMWFDTPQo2WDehX7lEVqVUvQfGCijq3whIyPYMnjc30=', 'PB+tEauJ6Cu8clF5IHjouv5FqEgH9UDWxbOqE+SBa50=', '3PSp+aLiSSlNgI+ZmYAMp/CUwJpbtLr21j9xOVFbKho=', 'xaWHtJt0hf186kbfofLHHt94c0qSZE3L7nvrmIAexws=', 'vlp5gR/PnY3FuaIANmLDZjLT7VR+mhj/8Skk+dfLf0I=', 'fS8PvECka4NC8sJQey0IIfKeZ2dwZQsrj2/lhKun3tE=', 'jZvYpEa6VB/WrlKKmQHnfbv/xJ4OypBzq0epVcn500Q=', 'yNZkf4iG5MD4X39lSv9FyBiCLLRauEz4BYFx+p8XxvQ=', 'BOsRDO+HYK8BWQZeW6NYvjKlmA4tI7BV6Y9tC1RIpQI=', 'oaQZ7IRVxNjjdG2iOLuZGC+k6uqpCbfHg7RHgPlR7gI=', '7Sm+J+ttrSwXrO/bKt4ZU534Mei/1rKNNW6TpNBbous=', 'Hd9OBbvjHN64sdMS8xVftqco6BxQnrWHOq1Leu3ZjWE=', 'RHcmN3mTXkmYbY1GZpG9Rrtjg8Jahs0zXkFyLBy/ekc=', '/ZG3Gxrc7wG0FWxYWExavs4ATbc0nu47cDYJAuQYVvc=', '0L/eenAcUQ8YSZ6x22wFpagb2l4TXqOSGgRtSI56kvI=', 'Gs2eHMkqvr4Vmv27og7SW0dttNc2vGI+ECb6wDhNGBI=', 'vVpSKAMQbTMvtdERR0ksOeRmmaFt0R210t4Z//0RpPA=', 'CspTRnYx/rdKxnW0RuyjMXwx1vrcR55tQZDzjzV5mRc=', 'igyppz1W8cwmEp4KYuI4wd36zojXrAzg1FjgEb9oaW0=', 'GogTiwoGv+VkAzLYeC5+qm/zPzJ/9QGAW7+43gzaFyA=', 'PYkuZLd5EpFjzAeC8E2gVnGIXBLSlrBXRPhZNaQtdqo=', 'pgZz2VlENmyB6DeW+lnVjNHeVQZDCenZM2Nc1RllQlI=', '2tKnUmnucgz4dVzTefKY0jsYdmnTfpuCZoCDvA49L/k=', 'mpK6ZQnWafdhjIV2XTI5WAMwImQ0bbZHwxY0A4y+kGc=', 'MI2RiivkQ8/bMsM+kVBZJpnZHfd2EWxrnY4/dl/VBKA=', 'Olr8azZ7638vOtR5V+KNF9jlhraDLCahnsxqV67PZ0c=', 'XfTWhuL8KHud7ThpvXxV7BfPsuMNJNrNzIXLUA987GQ=', 'vOj4Z8p9VKUkpLIbagpQRE/n8WQ3XrWMBl+kWtdlktI=', '/7bwpUc6iDiE/m0Qj8CJo8qYMkAC51PHzIxTMmkE0nA=', 'dEdTB/d9fVuyj1/b7hO9H4lL6XcWJW155+5nwHCyE7w=', 'V6gzmLaxDq9lLc3HQUpSf2CJ+PcXNduJro29Nx9Z3aM=', 'Al012qyMxPulPF6AG/591Tc4yZpAu7WzF0W1nozqDjE=', 'x/98yRhBoFh9AIWvaf4wfapjBYSZJbPeSfSjYlmDyOk=', '5kSVSkNPjZ9e2yxsfdxafAY9krIn0DXQ6ltiytN0CPU=', '3G6mZ4PSx2p5a6KftzQvLgJ9vr4dhJnTV8SVKGqIg8Q=', 'GSi2GkiUGDNXuUqCrsNK5ZB5qW8bRkAoY9wEGx5rRng=', '30tNTRnlyLs5r1ni/Lc0PMtHJajnPKrAhD37ZIOoIQQ=', 'b6cw1Qxc9pcHLkL8JmxW99AJEkZtsztt9ZvSboO7usA=', '5zb/E6kSp+5Gs/Qc8wv83Dy5jLIhJ0UabdQmsqOQsXs=', 'tOR47i7wGbuHkGxkhX9tHItMHHuJtAttsvHDOjDRVOw=', 'PIoM9UkR72BGOOCJwBMgzPXrR5EHZiv8SzfvVFsNlxk=', 'ivLOrT65HjJtF7QBiRvIhYtKFl/heB3qqODrXEZytx4=', 'Fj4qR65Oj+FrvKsCqx/NszMakMB145XBuUyRAUyeMqE=', 'eeZVLiOU7OQMzmiBBpfdNeiopHtz9V4xk1B4/c7f4ok=', '8bPBQBhp9U7NrhLkKfKLSGl2O9uB1gAOKEeWZT39hv0=', '3Rmd2VQUBwDitQ5mXI3d4TO3qkZv/hd0NH9nOSeh9sQ=', 'ZfijBfJmW6aiU5BUvf9fG0QF1XKo3pbEYQ8mYC94hT8=', 'IiMukcYDN2GyT48gY4Z/D+VuYzqu4uN1AkHV+io7qzI=', 't0ecyrPtga+CgNqPsmtLQkYiw6JQE9TK0eIlMebASeU=', 'r1jH4OmuwWzBhFJiyLJB86PdGFP0YNRbv30C7gX3qUE=', '4ZORM6aG+AuCdVwSDcuY5CIGomxB+yV7jEQ3c7BV9w4=', 'aWIZnPhyDCMR9yuVS0hy2iEHURPnHdsUNDkz0hzDL3o=', 'H9tE/axZ4DsmCfhZY9auIyxyBeXalwM2dnTvNSkhD+E=', 'SJ3oFp7EryIlYanhtkVHYkcAHmEcCaQdGR6MmCR0mzs=', 'Th3OVzxgS2ilcKpcQLrQzAG30fdrg7VHZmV5f4PjJb8=', 'Fn3aEQyqcTZhRlGzh6NLdZFpKY5yVIG9y9aAXfrRW+s=', 'dGA1T79oC75XYzF8EiB4E1U7CLpCVSbLgAFnglV2nBE=', 'XQuz0Vc87NUlA8og1jI8f37Vznop6r8vbYxTAhHk0c8=', 'hM/DzgBix1bzNDgmr/jYhmedDNVA5asQwkdEK+kkGhM=', 'N7RI6heSDN83dU42Jm5Q5/NhgGiBHJV/siihpGG9+YY=', '5dlKZnVky02kPrQ3HjXsJq0FAO4nImf7Q/v6t5xOoq8=', 'KpJfQutqPUoUbwWZ5oNFKeVhvKqXZcqL69vsPEHg9jY=', 'le4ffPTWLIzeU2EmO67iM9vRZBEaCA8vRvTMP0oxlbc=', '+gP/fH6yBDlDTCmjUykZq+rykF0MopXNzQLSxiEVEYY=', 'eCi043NcnwGh9pN73yoZOB0rftEOHoYCpIkcigyKXhA=', '3xqxJN2W+KEo3SBjh7HnXpGjB4ewSbm1j/18fCn05yc=', 'lfxdvwc+7PbngDWWYaBtEc92MvARW6XNfkdoU1e97sU=', 'raMY2KsWUz4cVl+qdETMESK2+5AfHY2XD1XwN7GugPI=', 'vbfF+FocMgYeYyHLA80N4d9gMts+9/pmqj80PmM6wFk=', 'PsNJe5XMT7olF29RVFBkcVUKbBQorktzCVlg3h5/UXI=', 'pSJuXwvC2oTnrfqrMjAbRaAk0H97orogNflqY6S8fvg=', 'AFUszjsf6svmUlda54hgkgrK1VBaoOplWgUuvdf6qHU=', 'J8b8Ok1gEPROB5T/Vtq9jdAFAnS8sLo1ZMsdTpWLr0g=', 'DmF26Iww/ia0ys9by6NpVRp+OxwD5keuuqZ+CbR56FA=', 'tBr8loWJrEOlzcZDaQL0Q2qMEMUVGJJiWePsXb+7O9U=', '5ZJ5qSJYX6dsa9HODIJqoF60NnmdmYfFjBKCus7D7og=', 'gcjxOprL7KFz1ynxk5l082bo6LLo4evKHqo2m2BFC1M=', '0BL+DbelLoGwTw7JvHBXe7pZr1N/E8JVhngim3zzjJ4=', 'rvGNITIfQzjD82gpFgMVKC4UZHTbpR2iC06+vTx9KaA=', 'K1JDDj+chCE/ZH5wzdraQHI2j52Nzy0JBJmeLOgq3vc=', 'Cfvrgm1Xt18sIEZ4kpSnePUQfJFC6uDZ281lZ6A7m+U=', 'mGoRYD5V/cXy8XsqCcXYWPBKSKknFWuZrWhbNZhQmqw=', 'CEQr505iIq/1Tu39ojlsHXf7Y+jMalnhWU126UWdgyI=', '5ONBvVe9aUAWqO62Iz9waAwTucWIMbiDHCrXaLI33gI=', 'Z3Dy7GKG+3wjN6aJw7KVQxD+9q+PgN6WynGJfScaDXE=', 'jpb1rgDXjbe7vvSvZzIoPtn6mVIKPxauQ1QVTvzkAdw=', 'zX5HAUpRYC4F7YPNs5tUeBqVi++rEmPUfsAtHpoZmEQ=', 'DnZ+4F0wfZyawol4t+/bAvIm5PTPYUC/NSZakKr8g4I=', '6KWUZDbWrp4SZwz1c3Qemu0nKG1Ga6+YmrXtTMuil4M=', '7fbJaPJmoN2eKJr5ET2A4DTPY+IMpCxnc/1KKVl828E=', 'eWpRAHAhJCaRg5/Ef0tTx92nWIJcHJaMTwQqvukQeoI=', 'QMSnwGbK7tYBNz9p869x0lrxHkB6Yd1EQcOqjCuLujU=', '/4h6DuvZuZzr028oR886m6kpiLYuUSmpr9v3ITNTgiY=', 'JSn/IrR9AojleJJunX1UPpeay9cWZA1jAL2BZ2RcmFU=', 'rWyTBc21lUbZZOxzXwmYY6yQCzZdvnkrd7TYKnb2mkc=', 'eIXu+dbL2Ej0/ZO+/PYSUzo1dTaTEqy1S2TGCSUlLAA=', 'CHLr4TQcYRa8ps6Vpimyi7fiuL+EtoUaN1YAWoCE+Tw=', 'JX8VtWTwbrh5ibmIbFVUWpUPiQ+0rW+HGVOz7RD0W4c=', 'tAZ0mRV5cECGqeSg0QvaNNVKgKvxJ3r3SLQtJPb5SSY=', 'NBTrqZQukYoF9YwDkIjYlsqwaqpMVimSFrDmMuOXQRs=', 'tcefpcahExZLA6gms/r4H1DHPHzmBUwg8h7hfNlV4sc=', '6TZjFYjr52rgg/ZkgA/7oKDULdwCE70SrbpQaSU+Dhw=', 'dbfungJHCNq5u7rIZjs2wCd9hgFrRs2MXbTqu1obyVY=', '9mYZdVIanfb2q60ypmKFtC5A+DcaoFToPY67MkZPrxs=', 'cWGivrZDSwN5LiL2G27HYCmyOuUeAhMIchLIraXiV8Q=', 'n2hbC2W/fEWt1TwlS/Wwq8yLpJAllQM79eSfMWQzi3Y=', '4O/bW47dO93OOFh+q3pUoZX5kXQfbqI8onvu0RriUbE=', 'wSCHTaapM4TIsQprXwBv2aKagVhZOWzILa3SKxVO4Mw=', 'h8yV7uoM6hu2grzOG5Weh+0M055I9znunaEikiEHXjo=', 'NNDeofPcfsq3nkylBjexLeCKrf/SETj91zj7YGiS0FE=', 'EC3mXr36NXo2Y460UNktlpNHH4fmUjKYq/yDyy6NXUw=', 'PbVYI1CRNaSeyeEyzq2xT68tf/hq17mof2B8FYiM+io=', 'L+pBxoDmfvJzX698b7RhtpKO1uhwzPak3xnbSyJzECo=', 'yyB3Cv5ZNO9vRc2FUExQu3LZs+xZSYKo7W//FZCkg/U=', '2k3XtblUSWpurYNdEmcHclEHBkPUraezRZrIxjMggzE=', 'ZfOvxkOK32fpHT6LuZQ7Iy1BUbJm78JuTpNnvl/t5HE=', 'i0Z53FafHddw11FFfQ85WbBa2vs7zK8iD9q9iYEPjJk=', 'IxasEWID5fnM7sM/cwJQXizkkLLKkLjqUftm4hy6264=', 'v0sbjtQ2OP0XxliWlaM9TYTIuItpb/xj6QRsVVITb9o=', 'NoSFhTWBKqUGlYjm2smtD46bykxeTrKtsQuV3y6aJQ0=', '7GfQH+xzSUY6otFf1vL+TrUfTP/mPShPsFPOrzb8tZc=', 'ayCRiWa4X48etGB2T5tDIRCcIozUEOmIWHNctm20hns=', '+DlgHAr1GtoQgtGqwoen6pt4/ayVRO+rMaCVZ7jGCHE=', 'q4u/j6i3QRAvoheOBrj6QY/8q1aVDXN5t2VqjgaFXq4=', 'FzlL3BMs4RcndF+5SIruQoA/ds42iWUt+cuErOyosIg=', 'oZX4t0FNoXmrwFyk77fGdpfqmvX+3PIIn7CYXH/6CY0=', 'kJ9ialLv458/tGGlXsoE+EFFBTIP9v7uOOmvamStQsc=', 'hWfAiJgEzK9NSh1jxPBGRiCGV+lYwQ/qoXFxJbFyoWM=', 'AOPJ6VAg/KKkFJJKSu/lQV/vvzgscheE8m81+R3ZzIQ=', 'ZTrivKluBU7pmaSFNu6x4a8QnBgW4kdz9KN9RcGKzn4=', 'c0t5AkrKR7NWKeq1VVONr8Y04yJwdRPn/Qil5esGVUQ=', 'fC9kCqQqWNfROUPdgfDgMz44LI9SzI6Ka00bolSA2/I=', 'kaswy5Iwfp5d3/3ST/V5AU2yqxKhaFF+OP11w7VeMK4=', 'khOJBYjD96rDUWMEwdvjKMsGVcKds/Lpjh1KbkxeROY=', 'fQzyhskPyJuzy8T0ZlA3yA5RZmMkumMtkKG/vC1KStg=', 'YkHODfSVaCIiF+woaqNHli0DqOr4KOxt4DKcsOdLMr8=', 'aidk3wnxk2e9xbBQTP0plmVgHqsXqGF9OT93vKcIMdE=', 'h327f3+M2F6lvbXTOgg35VC4pac6YD68c7hjS2DPPiA=', 'VN+hlrC3u3EiecxSo+9icATbCs/7B1UlrxrPfAEWf+k=', 'Vn2WlxhITzyDS52K3WRs5UvCCc0HanXrRlJpqfT6QwQ=', 'fjWWAOup4/22H9FJ4JGCOoAlKuzlTKJEBvhYtRhNkEQ=', 'HbzxHxzxJEcXXmpGxn6HVgsAeH82lubPagM1RpCsh8E=', 's8wFEbIjj7l7GebegKyLlX7a4MHtSXocDaHEJu0soD8=', '7czfGZNjJ+Rcey3EayH2GbR2/u33U9m2PKb1+lMA1bs=', 'Ng8Iw8PYfUoT3Pv0dKtEs6DvpuenM9W6STSDlwcc2f0=', 'l7fGttjjxs8ynzph3AhoxlkG4uEEruwjbHkglePaIfs=', 'Q/SwuYH/ZNpYQVLmg+bpFVSLyN+QjWW4+Q6FJBsepeA=', '0oPDO0zy0NDr7kBNesLy+ZbkNuyynak8fcfE05h+pwc=', 'u/LPC06b7BAhroZcvBEYJUUOpby5g4JLLjaI92XikLc=', 'wIsDMrI/eBE3OPuBThlLMMwauFehCay2ubzznnf0I2I=', 'jzyFMCUW6ZcfKY1QjrGkroMDhsSaehgk/yAfsIi7Yqs=', 'KI8O4kRTA9hmOK449IXRIVsj/XvtODOvymAcDaT90dI=', 'endJFI8hIB5+/JKX/XXr4VxWd1uNY3g1YPqPBExHwik=', 'OpP2FCplZ1a3UCUD9+tmw0Az+FrTdUOy8QtzWTO3BbM=', 'XPjtEuV2qgexNe8re/JecZlBLnzABLhXY2kd8BFHlRg=', 'RLVg2oNL54gAjL5WK5vK9JDSj1xUds0tDwVqAAfDTxg=', 'C7iIbMZdPneDzT/rQltVfazJAO3ZwSES2ZirNpKCmeM=', 'O7yKpGNIFze/B/+ivo0JTHDVQ3EpuTLWwbjz2ouVChw=', 'y1ky8jXzmdtx660XSqtKvCYTgf7m69k+vVtThncryWU=', '7XD1iSHcwJip7u6ZRYkTQhjk1DLbKL4lQMrf9nBWnX4=', '+mwsRV33uKTS+1DrZGfM+z+Ccut/FGocokZm/j0OJ/k=', 'W4l0TIo0YQXLT/c8/Uy7OLtElmNuNWPODI7HkJ0NaI0=', 'uPQFTfURBN++Ua40NC/iECWGB8APSlwjR48SMzkr0cQ=', 'IjjEW09De8UieuEGOrK9rwUBobUbJgcphwsteZNFJcA=', 'SQMgGY6bpDnpHTx2hEwNomSPUK2IpSvmaAXUKpx7+pI=', 'TvBq4rNq8Bfuxgn+XZqr6qR9rSetLyfNd6vwdxaOk28=', '4+ldnKTcBGARW+MU2EyI+NRoyL2s/Mi8v7Po4+/RR6Y=', 'DVBcyBb/39zS15rRE/1kw6f60ixtFIs83UFgKIrKv7c=', 'iifaTxiiTf4efLofMvQKfjMIGBdh4KuZsWv1TYIQd90=', 'eckDRfpc73OUXcSW4vV+4Y6JZaIfSERP9bUZIrNtLyM=', 'JLq4ipDD2gaVkE/NL1l6a3pfa1VXclx0VegIpE9bj5Q=', '0SEOeLpKd2K4V+T1BhZENWUuLHGTd+x+SQiXWcPAFZc=', '3nGnL8DTmGw+c/xyCRcMO0ZPv1fw3aecHbw/ZjJC5KY=', 'qFKdCNiWQCeUTbvGJqYeg6lzdzk69fUJmjb6efOtAUU=', 'xlVWFGWcVQ8HiY2o1mGb7xJ9fNjjd/XBRul7GwvTwjc=', 'Yn2HRzsEDaARisznJY9n3wALZ45h7G/l8o4AhZT613I=', '4nAkvbt0uRJybF6KnVxXm2BOHbmsyDH76Yk/noX63o4=', 'zh/Ht6E99DfEW1ZtC/mgD6MmKmVQEiH09UOhX+Dz3rI=', 'r7ofQ4mqaPd26iV4SuiFWV4Jw8cBhNsXgEHGJLxpZOQ=', 'tX7NdqantvoBvQvdkD5+zE0t7sWCWqUqRru/FcnRYEY=', 'toEj9DQe3d6eCqpUhPzaRUzZjuvoB6uu27TxH+ermwU=', 'hUzEsTi50WTbf2tmbhGIyPzIujolDgn1RHd2PkkB1Z4=', 'hScxSa3r/rGqY02BOToHgUyoK0KVvHibLaeNeTgQjSo=', 'KlMtgQyCzeyNI/luVLtY/TXszXJrew6gRhfjeyt2F9w=', '5svTX6dhnFB2BXkiQO1O2qKKYggIy5f5KlvnEVntVhM=', '5KQ7wVusODIGXeR77YTjuxxWFJmiYmgbaEGhEYj+nLA=', 'TwWIHt3X4PpZYPEyrUAz/c+T7Wq73JD/n+6I2DKtKAw=', 'odIwFdIiecFwVUAEEV40K3MSuCSlIZkbq92Zp9tkZq8=', 'xVsACcSxP4hrn2o14c9+W92tPVwJpfnfJptf2CExFAM=', 'GcuG2ukgxXmym9WSnWnlpKVNUFysZ8QfpAgpJMcheMU=', 'Qfkdu0xMDo7ZKO14VkT7AmpqH0GnAvcprI5Fj+rC1u0=', 'fvlbr1+0Yu4YTF5vqxIlsxlVUtlAFE/LxIaxKOaLs7g=', '8+Ui8a/IXrjCEk/AeDlbsOtigJFg7t61Q9NwMy8Qzhw=', 'w3a6Wk12CqIrUktZei2Z0W3Rf8xdgEdjIW9QX0MWIf8=', 'xuhHPeIus65MVkMtd4itXccIpTh/I1+lXwsxGgvVDHg=', 'tsZO34MHUt335zNWrd05l1ILk9vvcWzIR2hEk6dNYc4=', 'DoDNUFFBBErUlGRh0wKmlOlznf+PtByhRT4bnpALAD8=', 'N4oVXBKRiHKEYw6SebJh6pDSMFh9W1VBDaYMNp7HZjQ=', '/Sw5cJFSX/oGzBxxguGO4BkFKPZmhFXSpCCJVhOtffU=', 'tiIUNJuhqyg5QFheXTdIr63OSY8kp2q1F7ScUUvTPsk=', 'nLHQ1qJlj3kW0aZ1DY+O6yD5N474TKSw+L1lDDMnnOA=', 'h6xIB8Vz3g7+BOulVtddhzDp6mlqvqglH70sh8SfyOA=', 'iAFFh5WxTvC6zEJUtsSsegEoTFnYeh2RUigKn9BT1Gk=', 'Y1xbm2qyB1ORPl4XEuHig7PZekscar6DdRCT24qu3HA=', 'gzgoMDT5Pa6CgqZlMw9xlIcFUgfnwEJrNt4xbeDbolg=', 'qcfEcg7Gqh0+C5nzkKMPSK81u+zNhZqxVHwNdqlD234=', 'iIqjl5Plm+22qIYnLpUSTdXHOLdlpgnHEQmBHrjOlg4=', 'm6DnlS38gmb+QFf7102iqmQim9m7dKlTfZ7bPLN+Ato=', 'TyoVFxBv3mKmQSTdiIfM1t4wORIIFZNjz4BKyM0ed+c=', 'blcaSZRDQfHg6i4RKYRvO7/D6wVIL6rGsyTJtdOElCg=', 'OVwmRGTNCS+hBkvFYDawSwdperfo46ooCVV/tBEfd84=', 'O8HMQ+uWFY7AqdCEYgIDBl6+KBNIau8wuCUGPTVSrXA=', 'GwclrRm7k07DFC2KIvqVsFlerQ5flvoi99WUcJsWipQ=', 'NPkrCjbLK35wefMCv6y6XMO5eYO/gthS6LGwrdjG2OQ=', '9x6ylQHM8NlCIaCOiZUyL0Y/WcL5HVFdi3T/TCdr9W8=', 'zcH7Yl/gFwkU2Mej9UzQgaJL66wIdiMucPZwVyeqHxc=', 'QZYEX3iUClUnuqodly/8KADAcMRs+hjzmHD61g1apGg=', 'BRVWXF/J4+0yaKyucGRj3Zey14U/6FJcgOtZsz0t+5c=', '3FRmd7Ra1OoMuIMLg7kdD6GNoPN0J1tQEzwMpnuopVA=', 'Eqh3rtLupSh4OZOBfz/QwrSxbdbPLXAGP3luGcRi7Kk=', '3ODGnNWJeT6dSEdVq0/4+miAK7egH5D4MD5iRNsyKCY=', '+kCFtC8nCf9I2/ee1BGgQRlVBoECQV9G/8z4fL7hzp4=', 'AinVdT3v40+Xkc6XK1PV8yd3nMSyxfXNylgOVqAUTuc=', 'Fu7F8fXg/tjFKnFZoPpTGMQKn0gGxbJNebMMftkdJqE=', '24yLmjpZLo3XO2t14fVHMUMqhVcVPs93RBeN42c/MGc=', 'Z3dSEIJzUCdIKWEO4/I7voT/RlkFDuMuU57dI6kGzcs=', 'Y8CHlvc/Mc/Xo2I636Dh6J5Vc+IxbLcCC4Wiuvd67oY=', 'r9uHkHNbfdzRkBW9Gogqi1vmxUXafa57W8BEsdMqCZs=', '0zOX/8KkAItZEgHsWUWF2Ac2jsFVbT6TWnAuugSAteU=', 'FFX0ABpL61Fw6NB6T5NXjBlQnaknwhJjmbrC3z1AyHA=', 'H4fOcqGek4BtHazEnZ2doEbvXkWwjby37JYFdtJWbLE=', 'U6uPrXsMf01kkpbyFTf6NgLBFfypQFIdHmXH8GYZPyw=', '8r/LuwAYZGqYjMC99f1GuYesPmAC/r9IICHF832X20o=', 'iWYmMDS9CSVGUTFmETeO+1hSj89Z4w5RGwP5H9Zv3SQ=', 'Vj19/FOJ9nuzsw/E4T14ddKY6iiZGnG+3fxiJSvbiD4=', '4MP++M0mzDth2XpfseRILPjwOXOAk+Z2oAquU+nEEYE=', 'PlMIYvc3fCsZ4pYDuAJK1ADA8SMuWLshZIh1bvsDgaY=', 'u5/b2b8+M7T27j8eNr9YzarIg/vTgSGyEzEUix490Es=', 'b7WGHdUuPzaL2tTyUSSu5MoQ7LGDoLlHwTV8M3SDbvo=', 'AqtrGa+Qvhqa4wB01SqXoQf7HJKNBmJRrvl6F9s1ANE=', 'PSneyMRyz91kF3BethZIYuhHg8W9mV383mS+3rQguUQ=', 'ttWja925wzclBgMnR8D0fmHiM9PQ1QV3cwXWu51m31U=', 'f50Nnagzc0knPQZr++FGzNdqmAk4E7Gw0ePgQ75hs5U=', 'v1Oz7FC54hKUCiGnoQwiclh4/CkfCbxtwHTKE7EJVqw=', 'lJHhoRHd3ZUe74e2337gW8J09hUfhPdaYcz7qmJYkh8=', 'vY/EjWpZBxxkshbM63KTTP6JSh+NHfmwSBWQi2XN8so=', 'K4GS8qPmRPsosinHUMiie4K4rcAVcF05OI/bcQqHJdc=', 'dU4LbugoGp4U2bvHZqTvZ0EcB6yr4pC96uqyprkEapY=', '/d39FzqaM3PZzpoMXxA80PMICsVhzfL6MGSCqZtsQOo=', 'hv7kHCAIdj7thZUmlqz553leG5bFNYgzXmLfB5m4Xvw=', 'GA6Dha1MDEK/UJfiA7ab/hYV7PyA+y3Ff04A0q01FLI=', '5J5VC2w6tQ7Fcg+P2oh3vM6Bo2l8bWGb6mdInIicams=', 'afFEQbum8M2N2a175IzVSs8+P894DSA/3Y10COWsVeA=', 'PGbCr6wCmzlyPoKCBQv8aOM0NW8HVk4PW+IU4iR6GRI=', 'OJdwYcjEXluq9EWCqnDzp2Yvu/ALGh5DD9nPegq+pgQ=', 'o2v8hx0EmFclMvX5SlXFoeynGuxWWbcFjk7H1MUqkjw=', '7bahRo+EXaR1vW7KnSZ4jCacIWZQrJwQEb99sSBqZ0E=', 'R9Uc/YSWli57zmUYbFm1LrpLpQSpiV8XlzGUDkoUIn8=', 'GPPZXkxbs0qmtzPG952Kt89U6p108D097EKpuuHk2Kw=', 'ZGnaehUOvrRIwrXHqEnz72BTVo/xzUr85yaqAjY5FN0=', '4wPA+igxcnoZXHzbK57bUr7kHKW3/0BlBZX/AhhSkEk=', 'rgBDC18nMxXbJVgqjaW3ZPSdMNCn8V3qFt6nhx2EolI=', 'm/JWFlWTObOlrpPo0GSe5ZY8bBRPfH9U/ZsdbbyIa5w=', 'fIGjoMn51hw+f/+MS3QOlQbp677TV1G/gVDzckNAxoo=', 'wUssm1kBiL8949UikpoP4M7jA0qR8JoaLthb513afBA=', 'aAZFwEYHULAK1AbQLXDXQjqU9JfJoEu1QZ5bv/EYlVs=', 'gQVxGCahF6+39K3glaRceVrND6A90VnDLSaj2NrTuis=', 'Km4UtamxG5HOGBYO5bAFwlruZSFNKxlILK2wKiFEcSI=', 'KvhsJhsUPgRAkELozyZg5wm6g/5PWhrs7XkXvqja6R8=', 'PqQyQvOjvvozBCtlR/0pL8uxhe0K63IPiKYCi1tDG1o=', '3Eu8lfUzzxW5b7/tSAH3gjzZMSa5Zu0vZJEc8avjHqQ=', 'xlm1cA7g3Y3P8DLXvKvOMnzwshnSyIg4BZFF8NJtuXE=', 'Fwdh4gilz6J+a7i4zJMgpSHaln8cmbwVkMg5DeeW+8o=', 'BKt/X36NfFpI627PMWLYduGX+QjDoMwvH4t3vd7m8Fk=', 'i+WBqYjpHnnT036NunBEGVrujLPLey7WKD8K0OXapNM=', 'kX+5omUWpBnZq80iSxuIAlsvxdHI68joYz6itRBOCss=', 'C2mLl3LPA63WewP1k+Xh1aXlNuGWnhIOUKANkoz5sA8=', 's3Y4TUK7PUKpvlrFcFIgHdMC8P2mf2hvD3j7fIdmTvg=', '9jGMq1D6/YUFkliSwkqCwoWcAr1IYE6C0Y/kxGatKSo=', '3sOEuxGBKh09ZpcaBhWXk4+LY+clD2Zpu/qTcPUVkVc=', 'bUte1ZRGCV1S/2YX8o4VgvRd3uaJ383rAiQfhpHmtos=', 'O+qdSyYcmKAzs4PPZikdBQWMw5MMHcW5ROV8s8sFljc=', 'D+FHl27nM1FORJIrrx21aDYgSjXGIM4nzk77BDQCSz4=', 'uT7yFiOpFCZP5NXkxFZg0sUJ1zKo8HYmtUxumXs3khM=', 'mE6rCLdazwHjJQ+97f8SLUFEAFoZSGD+UnwBvtxU/iQ=', 'VY6aXT7f64ny+uy4pszHVNSy3WHyoFPuhwToxBhB3wM=', 'iKBGBnqxGTmSoOTXh8qB9HAkv4qV2ARDqyViICmf4+0=', 'JO/tye7QOCtigcl96GW7BmNDzKXPKE998STsaZtgC7I=', 'PZiMEThYIWDp5LXaqdNHdOfMunTBCS2DXk0x9ctcOzk=', 'OeaYHhfKV2vXQKqvs8/5Yx7sQiFDFEmf2r6cWd3apKE=', 'h3/qpdMuhf5rZwqcHX//oZtCPV6xOKgXZyeHSGnWAsA=', 'HDHAipSsrFpMgCVqD8wYT4JhziGVSgjG2rkkL3dKY/g=', '+g5YlvjiVYzjFfpMkHEGCty7PGcKRuuCVDY/g8dzoD0=', 'Pj38dvOZ+H6eylMm22y2HUPJ/2MqKuSTsaOIkGFdExM=', '5hdoig9S5bMSEU8dY8iuOOHDxIhRszCyjA2j1+HvnCs=', 'vhz7ZImgcFLciakjMFdmn0S/He85wqQkhLiYXRPpu18=', 'fkYHSXvk0VmYunyFLG74H16A4P9WX6Cx2MMKpQcvVNQ=', 'IEMYaVfcWrRohEaMdaspvChKtdAfFIeDu5dOMwU5tUE=', 'ApMn4fwBLAonJKKklY9Xx7r36OqGMSFOyTu/K5c9c+o=', 'GF75cBxmQVNyy22Jr1Y+46Uk1eSmfjPm+W+v6nLnqBk=', 'O4+yF1QVhTb7fUbQdI18S9zwfASI9wJ0mHVIPa6h3sw=', 'kMuoC+eQQa4BoXGIOrWnpGSbT1PXLpzzyQcXgGIK8Us=', 'KZFLNJ+cJ1JF1DMYCDMHTCmpQfHjQ0cx0lpYJfL19sM=', 'TwyqyV1uJYlDAX8wX/PtTCVZEBo/APIVfTzzleGkNCQ=', 'w5q27rJT9sra6bvT/I3FOszvNlkLnlapMzE3tgPfiaI=', 'OmVUm+97EqL1PSeEy318gszce7gJjIMnEjDMFU9e+qA=', '/m+oiUSO1lBCPvQ6LkUyCbWdd7ML4X1IxxuUa8QcDMo=', '81slPW4ugMYwnmjLjYrVz7eWERceMuwjaiOLE/U4Cg4=', 'Ii5Cz6tdyODxCCa3TBksmL6H1pZRzQQ8oFfvyTRO+pA=', 'WVgEr0cn4ZJnAjSpBIua9uheGClv4buPcj2zQE2Yp50=', 'fJV+/6UaR4fnZLzM81X+1r4Ma1REep5Q0Rj30zM6z+Y=', 'gNyTSOhVPx7BtUSsEdgCgV4rbwDOKngaJWFrYB0EinM=', 'Tv3/IjfXLL+U2dQgk/cOyfc1mgU2vm2D/yM43RtFshA=', '8xpaZEEZJ6206ep4as56VEyc5msrupMEjwLCnFKp7LQ=', 'VdDGn0d64C/s9UWPNmugh8Upm4696fFybvSQxW5ghuU=', 'ByQA/MmCIFpFDmbqdsY9HPLUXlMwe6dauKrJXJFmtO0=', '49sbTmIMLfubZ+jwrUcdiWu5DciVkyQyCxSDPZcKAgk=', 'FGPC2guShr0Gk55qXrzvUeeAunh9m5xf7lFMutk2foU=', 'YVNOK+AhFjUEHxCvwUmqSSiYmGqD98ZGZrp5l+7UAFg=', '0k/ZE9Ku+2Enji5zKQZ5mrfr9r+Noh1CS9kH0GKGf0Q=', '3d6TySgzpTTKAQOg92jopidAKHKVBDpBnxMb8Sj9qZs=', 'SVxqhYXrH6SfIgcbLQ9Z+95ZeN14VIMuO/gr6OWgXBU=', 'Y1TLugWpKI2hhakWAmmKYPUh8jdVGnOpm/XMQLKx1Kg=', 'OYK+8MJAblYDOgh2ohzoG1xT40feTLYvk/fAvdTktkI=', 'nds7oVk2a6yC/6tk1sTPm75v/0ZPkvrJ00WGmYRciOI=', 'IdFjvRDOndqu+VdtEnL+sMG3hOHxxvIoIE6MOCeqn+I=', 'bSU4MMcM8YSzI9yAlKY0lW+EtDZDkSak/+wCG1Ncz4I=', 'iXwCZxKEZeb4dyC2NYB/rHZE/rYeCXcZ3kTdfe7CQBo=', 'tnrz/gdH6WgtHgJSpfzyUGtIqz/0OHL5ogbfxCsXR6Y=', 'R6QefDBKjMm/uoG5bP/sWm4HxgqX8fZQ9wriQsEbLhU=', 'WGpUu6x+7d7oYF2u7prVYC5D1GvAybVW7PvZT6my2Ns=', 'wXoFQMmHnMGZXrHfDmiM9pkDKC69Ma8aLEN5Xn/CVv0=', 'SM7B2SxOLiOmbjVKes5evyxllrNCQTFzEKpHtl117BI=', 'qTFR2TIte0fD2b2N9J1h/QspauQCDlkyzaanvg5SsNc=', 'l2qnFsTkIC5rtckJOSRUU9Fa26UjskhobzBBg0ZOQsM=', 'csvTOQUIhu2MK2FXPlq40vS4Zt3CTRXxG7dBI/MqOck=', 'IH5IsJ7NfivpV8YRPlcRNiwPmrtI+kJpCmIU50BzznQ=', '9Xac/b9GDl8fIMKKSkRMpyot1KsrqcJ/hE/axKQRwH8=', '2CExVv5jxzlmXb7zEgSlHP1/7BPhBG5eJ83q7zmPOkc=', 'suDCkQs0H6kriJ78abNYmrtyOrBj80FflKWAiW3yfD8=', 'sZzqvkCEVEK4DRlsw4qO8upL5iffeB996S09fm5pMco=', 'wkd96LaG/2zfF/UXCPKhMm/u+QWPguay/di04trhNlc=', 'Iq4bn747ApUwO7SvDR8vvfjBWGvDxAyBTsce0dN3Q1w=', '4JcS9o5eqSGmsfqe/xrIrLH6445lgnKVcwF9b24djEw=', 'OUnkRX0qK0fXq4JbhUkqNk/Pm5YTwahvlT0CQeC21Zg=', 'qAxhX2oiVk/7ZL78L/aygBfw+dbSxNbYUQKRY8byEUo=', 'ODEv/zQe85ashn/pvTconu7UT/KCBkxkZokBH6H8OxI=', 'Z5JB3D/LstCk46Bi7qFkVXd18rYRFy7qFCpd5rEMAZw=', 'Uq/TS8KieZduAKrYzEVKNL2Mm4txq9AR3VFY5cZO9rs=', 'bZml5gkJWB1WJFn9WFcAJB4dwFXSFI3h0uK0BwtBHzg=', 'OByIaYY/56y05bpjY1K3Dg+OS32Y/fB3yVjKfBqFIIY=', 'KRXigmwLKxDb5f7nG9tNMvk7+Ccz8OTTLR5foLjtOY4=', 'q+qhddeoPj+932QSq5bGBAzgqT4XtW74phrSiM/jfw8=', 'x0Zcc+adPkTZK1q07Cmus67A43gQ4+u6simGbY7U40I=', 'C0OnRDLdTPvcy6KEjcoRFC2/hqKUOxytXBGKJT2hbaA=', 'FRnM1V06dIJJUcNhs6gQ74GXbm2KQ2J2MvCv8TmPQ6Y=', 'yC0fMjNE4oQ+f9qyqRKdEydTAIscFvSra9wP052SgL4=', 'Pm4ZYd3FPx3Chch18Er/uNkCsIZCSvPv19sFZFtZyTA=', 'U7WkGZRG7Ap28BleazYLuVCBEN3TdSTYP43SOFuOb54=', 'eVnUwCnYPCD+UvlFn/2t7HsPe+up0G0F8cznv/+R/a4=', 'GKsTLPdjoFT5L8MFLduUaKOBTgtAz0RjoP8E5qYsmF8=', 'uARLhNTVv+B9sHgK+FR/rGo126mTuK6g9WGLYh9qQZU=', 'Xon2nhjAvMcy7wYUdVvTMH3poFnamhJUQElLk1ijsb0=', 'Av3E5D+JWfyHjDr2vSsiW200MsgBmim5sLZc4UBQM/0=', 'YHd/e3w70NYiywYoX7X1Iv07iYY6CT1jAd9BayAdg7o=', '00KEZbwE/6qJ+WSl9TwUEgbwi/wmnEVgeCnGzi4/EYo=', 'LcAN7TMK1vKQDUSPxjKDIARJeOwJX98jW9S6vZylVKs=', '2asf2uduG+FkuOfdP8cHt1SZjfjhNwqotGgnVZXKiuQ=', 'iEdGYWnwFWEsG4gsq/lsZjkmGc8datVNwuwSAAe7H34=', '+tX4n52MmDdJGGzRnY7I7jEoynqRl6k1jAnonznfs7Q=', 'u4qhRZS44vAj0iPcn0h6LtwpEu5xpKwVBOXYhTziua8=', '375WTBbZdRYv/Jw/rnTv7auOCQAAiNliDREgtraOuH0=', 'wmSqGTqsAyWkNPvpGkVe/Jb9ezYUQbMHUQmyDPhmRLQ=', 'oAoQyh9NT0lXlshN6sYYNSMTizpgCVqITEKcEthrDZU=', '3Bb76ZUap0HQIBirEbaOpc3O9okCVcv5TcNx+GfSCzk=', 'k+LswM25FPuxm5I13Ggn5uKhScLlWro6/Jb5yYOOkr0=', 'fdLm1viqYUbXjdbyioDM4zseCsyOlX3y5HIHd8fPJXM=', 'XG1pV3YZ4tnQkmvmVbwNYnm01m9sRhZovPW1qTPIGYI=', 'BcsnYUEwbuR5tS+BMG9YOQPDladPhc1gCufYlv/PNr0=', 'Sscg9vquPUuOL9DKkSbs9NTSxfCV/DYuMnsLRUZs6eA=', 'jE1Pn6eb/odIa2Xtuki0YOh7gk0BCjq9q2oE+AJb1QQ=', 'gOX2LgERQWRqT9yOkaWwpJsbIezSaFgRg27NSNXzrjs=', '8jkEHU4ZGZRzZmBTkQGDvsyLjZIUExZmATnB5Xh7RnE=', 'OkMUi9/AtQ/YxPVmMj4Jx9WVHcjuXS9/fhcreFEB9Bg=', 'pHm5o9NLjlO2lXB7CH2U80qF20rcHwHgxaIwnQiSd/c=', 'QkM4hin94znSQ6Dj6MkPpYBAjcEKA0u+2HbJyCWol3I=', '86gD6UU9EwEF1gJZmFYJhq0JhD/6MJggjkNdt9CKiJk=', '5BND+QhJLGTw2gPNqCs0SjqEQuGL+IN798lUL3RUG3s=', 'cNDFZsIE6ShplieFXQVimwas6pEjjQ6TXTMZSV/ROT8=', '54iaIjJ463HXFF9nhiwi/1eQIB9mSIwg4hA695/iDZk=', 'm7rxdmifsJ8HxB91x1USFvW7op/ZusrvlAjq/FAmRE8=', 'raJS0zfRPS5NRtiba9q43gsUyH0PaPvhjSc192V9Rw4=', 't9NE+shI32BkAQiBqhqi7Yfxk/GqipntnvKPkuV9fCc=', 'LIglPayokICs9zOBBba+6/GlGrg6tTHTfZ2ahuKWfNk=', '42SFjQ+xu0j97j13pHv3KG8Ha68fBYaZmYs3641qwho=', 'bdWR70qmnAJIvbK4o/p60bDY5QbnX2vaRkVdg1s1DZk=', 'dAipsKstQKUN4VipBEuqm9rBlREJoKyays23NuZ4B/A=', 'Yld92kacYxRSUfN9lQovMp24sfx19G3veIT3XSsHuQY=', 'ROy2LJr08ctjmiuRc4SXFKrmk91KPBxZU6hZPJ7JIu8=', '5BnT2c2+EFO9V0kttajPXaqmUNM2vAriGL/lJQdnidM=', 'yMjqmd4vaehZlSUXc9AMmPQBdPp+256dayxZ/xS7svg=', 'kwPXscWGwlFEBMGbV9JSoj7leEOLPiJpZS/s3V6oeQU=', 'WfTXipC1a2n1v6FzNC711Jzm2ikIDAAPKcOP6AEaR1Y=', 'KeJmbhOn5D4GwVbthjGdNmvg+pW76XxfjkZizeDWUpk=', 'nfZPn3ykTjw2O2jNya5/2VUvwyQ9m/3VqGzZ0Fg3t7I=', 'nBtFGzjZtlpB0wyz3JkA25mI5JiF+hdWJNzJUiMw1V8=', 'Im/O8JQfe6IGtnRmK02yN+R2E4DemgQCHqP/RZ6yXTU=', 'po7dH4OmeU04x3Ji/XOLOur74ArAEobOa+Ras1+UdNM=', 'OnztoLe/KRAGCzT1fhys2SSvoBd4VIDTcFpP5fMpU68=', 'z5n5ogbXXcooPCsEo2WcBzoYN1ydqrEI+EKnzZxmIP4=', 'ssoD0v75OrrqwAKQZP0ePSDhxD9qGSJwqCyB5pd+O+4=', 'AtutQaYoYed+bhR0nAKKuHcZCifFK5QvSh/zsmSBYws=', 'KVamuw/JPWoQiskPUCpFW+TQbKOEJonhNcUCJlTcVV8=', 'nXCivRFCQRQbeb8yBFJJjoMht7oLbOOKEknNyNG78BQ=', 'j2uSJf7xN0mQaRzYSSw2m4wLtSoEwxf4iDdQ9Vc/uMo=', 'EKYLxMLTcn5kWVoGOsh3zHLI31GB3V/xZq1IjjqFPNk=', 'Um/VucrWT3ytfnYCAhdIJf58cjByGJkSIPJrsdq3Z18=', 'gTX47i+8MQYHcDkBirEicZc7nqG0hNf/20GgU2oQK0o=', 'M4lv3w3T20+Z1YcnIEUe/CKdA/ROAHdY/dmcaJTg0hA=', 'LrwnPq9m+L8jrO/2MgLsR7Yno06Qevd9IkZhsoY7DfY=', 'Td40Heh6rp61Aa5Pd6cd46sOEZ65dgSfsT9oTDoFl+c=', 'P7BbN3XtNfmNgFUznGo0EKF0EO8JfiDgw/XJD1h/Crs=', 'RyHgPcXfEn/CVHtbJsSpZTh3Ri3giA5M6sf1VGayr7c=', '2f91Isfs+HaZMyoefue8KM5T9TUHnyfMUs7lDEcsgWo=', 'Ym0eyAFdpBdYOyWEgTUn+a/muxXKbk5ahnGiGgmJ4BE=', 'YTAheEdtfsl96LQz5pfT/e2iTo3mXMMzNkjHpOCNHCw=', '/fn8Ym16AvhuhgFRtoeZ4sRU9ZRhvvpYN90SUH7zQ4M=', '+cLbiKkV7+VhNPr7OGG3B3kPpZ8er0mvFvqPbM/gm+E=', 'EaT2e1/r54WlF1GML+FRf3XenFqIfSU1u2hdakvUJVg=', 'a9UEy8sIwRzT8QudLWkrjcWrb+ZKuiVhcEiPQih1o38=', 'Y/3Ni8Hqpn0fTKF+ZASK6Bpn/wyoF0isUcBEeF5fPiU=', '8k+9SvG1ONpORy6T3RZLB31a0oaYmZCZLbpxKfRT180=', 'TxLf722uDU7ltT6N5kFlFl2wr9XwFTbcNCG3r5P1Hkk=', 'QKs+1aEPk0x80IIx0aKNLHlmX1JIOry1/wb3Lhq4sFg=', 'Jk155nzVVLSMQ3+fpddzICkIOrVE5MOJx759S/AF/dk=', 'mt2EzJAE8X1OCXSqE0GMxBB8NsLY8xtig4aYFKSmrhQ=', 'tZf/bEBKSTS+3LVGtBC9SDk0DW861g71Tm+ZVdS2co4=', 'AWydRuHu2+cX0wAcWh9RcQJnBs4mFdeObcCzF1yM17A=', 'oggomtrz9eq2rWMdcZAh+i1WGKGz84PfStIZUsiqfCM=', '4Cs14shCTLdfFnIdlQ4kN//z73I2k0ryjmF6E1FzBmo=', 'BUPBhaJgHOYfys/H+7clnnHEW1LZ9koprANEAsxlMpc=', 'IyZfGFQA5FLUNeChYAcVbxnayM12nN7CI/ZgFJRq3as=', 'o1lc2Mdlj6h+qx5O9IDt1qELkyQ3pKHvHsS6bojkdW4=', 'p3jpMnd9RbFnPh9KuKJwVlRfvp6F0p4ETps4sCI9dmA=', 'kBDWVopBTf1uxLDC3CrtmEvqBhzA5QU7MWkqP8yKrOo=', 'culKseV+Zke/kfH2elK1UcG13PktwOLaw0bde5RD89Y=', 'XPxKzkvjDB7yK2AQPahFqPB7cnoHs5/dy4T498HoX5M=', 'EeAQRS+kGarrxqFWxO5U2lJ12zE7xgtIiHO9ojBNYpw=', 'j8b2h08zIbWHp6sKBsI0qaQuiA3vUGMjaYZFFE/gQ3I=', 'aMxsQs5rzVMmcHNmhMRVuUQ33IDNVp8fYkEdofpRbQI=', 'GBuuTGwr8n5kkbXa8dQb8tLv+dfcK0gZ9vNcFCjlDJ0=', 'S9X2EjiG3ZyYzP5GckQ0s4bkH4Sz1X3NSre3vniBFw8=', 'LABXrcnSSYw9D5Y6UesjShprnzk2yqms4v5kBAod3uI=', 'P7ylAtyaUeaapiNAor3BY5fi3JH6Swz5Azu48jtbZps=', 'Kb79tl+Nvf6D1h2jOL9TPzcV7Bd0QlIDpHl55dgLBKU=', 'gSDtDzDGj+MoqbXAwGHHzEBublk819NIIfipz6BUSYU=', 'qVt6XIA/cWnMm3kFpC0sZTJ8ad+ZMuYKfkyeLB40vB8=', 'b/krXJBZm0PjanxrV1ad3wJ+cirOA0/+gywkvvJRQ9U=', '6V/YprobwdkqXU9Ck03rPhYYe4Q9XY9WSpxp86SfMV4=', 'h+NYyIV/YL/gV0WjaGT5tfnqaubKmWS6ytdWBeSLFjc=', 'A4uyvCQoQk/eDtSbRh4VQSkKghw1lxAz3hTuikhchB8=', 'l2/vcuhsUZHwmURWCt7xK+5y11xqlvCniAXvZvbs7sM=', '+owQ9eTzitOLHF3SZxKwWN9ZpsHjg3tK4A9fpS7E0oo=', 'hcs3eyiRWQEO5Wybd6BiQ6pRx7ervvVydr76Z320vPI=', 'Gjss1lWMScHPWwWZlfDClUNvL+nDFQp9FEarWeurC+Q=', 'AUKcVABab0p2gaDWuFp3/SBBMLdbzqtduBnXhYaNX4A=', 'DDlDJPD+Pf0lX8WBgnOUdm1wA1bnHc1lsKlvUct+Qb0=', 'Q4rlu4p4omxZhIwjIFvGGUuC7wPUkgP+m0owUS+PTtY=', 'DLnrzChizTx453F5jnRlIz32VK1+v4h/rD4QR1q9KL0=', 'VmJb1VGYXyZxQg1h4pXkCw5h+qFQQoC7T9iez9RkbKI=', 'I5F+V017wkGXlo9YHRtw1qVfzFDId1dx7MtIEKLw8J8=', 'UvC6kSISYOndybh30jYllToowJOirq81gPZsMmHnsNo=', 'WS8jP1BdHW+Hr6HKToZja5W0UH0gsE78z7CxYLHJgcU=', 'CveY41m7f7+cJ9cxZRljF7rMPXhMo990yikQ5KYM0x4=', 'cv9POISG2CRsF6NgWLZALS9+KTAB25ASQhvveqRLYtM=', 'AI1fp53PL5PAqIN/QBoT8xH/OkkpVuGuw+2Bfw9WjbM=', 'Qo3teiynihSpD4R1XtUH9HqLDtvdWpneGpSfDR1fSto=', 'WnROIwtQSSRuDI+N9zspe70i0h/BVJUxoil4KIbnP6M=', 'xqUFQGqV26XnOt6wrAeKn6kM6Duc18fKQsh+1YnzaUo=', 'BjRt9ztH0eQGaMBHEBW3d1dnrKlg/t9cOV//Lvar6Tw=', '8k9UdKViQ2bczWr7yGZpegN088XEN6uGJi0UI+kr5vU=', 'WeWipB8F4WKb1kJjUzDzzeqmt5Lb4mPAJy8sJKmYoAM=', 'BrTqq0RU5pT0MuL93VJfFGwV8IhRCgcWmdz0Qfp0i+Y=', '45ftKnZp9GFrtzAvKvMwoMxtJRjVTLZxIXl1Vo6PzFY=', 'T4SwgJk2xgBpvWW0/NYmhl9u5jm63dwg1Q39k1pLrWw=', 'fO1unC+JwTokAOIH14ps0gxCtaiEW5C6RtdsHir5PQM=', 'zHDjrBKb5lNSncPDp2hPXdb1zXdHj1Y/iQvzW7DTaIQ=', 'M57I/0GVGuAMT7/cRvngV0AJF7YUWoBgB2+jdIZbSLo=', 'jfGwrPbDKlpdxGG+g8gs5jmPWCFHmc2bC6ZxGBvFsSQ=', '2dZAIlKn+MzyIa5L8xpWkRhS6Njmw4EYe2vwwwNsRQ4=', 'HxDSyyUmHERWpro0B8nEQFWH/E461CuZXM5F7LpOHO4=', '402dNPbx+4GTuJz3zqGawb4Vh7B9jYsME8+b/b01PwY=', 'R5pBjwxHhlwD8Iv1qdtR9VtjKwfWBVuh5P0UM3eQg7Y=', 'bvkyLDFZEq5/4jgDQtgO6S3rJ/DK7yhcVrja6HVlNh8=', 'BCz3hEB0CxBDHs6ebA0dwY/yJI1GRKhXo5MmxjsLONM=', 'jyw4UBYsVqQ8IeYXUywTKN8TEZjJgYNuhb6JBTBoidg=', 'DijENLQwI0eQXpvIEtawj3UvDDB4tHjXT54jhWoEXU4=', 'lFLZ4isn2Tcu3H1DyFd4lxgmyJw8//GeWJHAYAvGHfo=', 'YDMrFIf6Xald2go/hpaWsU2D05toJULMFD982lohHw0=', 'Pno/CGBMlrCkP6v7Qig/GV1dlecJ5lEnZSJ6jZbpmZE=', 'lPqS7vvN6keLg+WxwQ7LhK/W2VR9OLpakcefYcleLn4=', '1832ZH2Snk3B6ztlqJVE6Ias3IiPSH5gGZBuYAy7SvI=', 'OjIombrPy9hCBI5SbBeZHRWfcXoVRZAN8p6p28nQDfQ=', 'v0kd17IRi6S3Pb5Go3lcsG8G+brOsfhuCLG95fqRhY0=', 'bcVaSTFMr4RK9JPKGqEq+y6uMvBtTET8i7vhnwCQTpA=', 'lCiErLu25B5SZD4PvpfL2mNLrI6Vr/iDlsYeTdU8poM=', '0scVV//lTsPR9BCw3T2WDN6f9c0ASzANn/bUBJM4+gI=', 'gxF+eTDkLaixhj4c0E7naTGKsyFVNl3v7wtMLMdGzmk=', 'iPMbi8I6lhB14oTgTNaTq8Fg7KeXWxFb5P1reKC9UXA=', '68qPK7TNOqHxa+vLFjF5SaA8s85h1cGPnEcSqmp/G4I=', '201731Orvb+GcD3eI5Vi/mlUY7NGyHhegN0onY6aa1Y=', 'XO9+ucYiWTUi8SwVantzYmJrR1nuQBhpI0dy9yPYNrU=', '4iIvLk0lZ+0GBDS1C/Manl0Akf1WtIozwfMOkh1/PFc=', 'DZOzPkrGKGiWZ0ZEIezqQG1SVtsv7aigoWyf1AIB7X0=', '4ocFSB0WJ+OdC6URbytP90Mq+4KaJGPg3s0Dq7kysgw=', 'hJYgCgsL44C0NlZ4PZX9Lr7Q8Kn9Nm/Dpy8IrP+4NLg=', 'n0+5yVdX/Q8BcTmvBKZUbUq6T5X8LDLWkAv/FLIuEfg=', 'ZeqalmMEbu4L2j3EXlTLYacpBIa8eomjRPajfWZZD18=', 'n+b0VzjA7b3kgqw8iXzwX0yTpYwNRczONSV0z2jNGtg=', 'cvnGl+iUiKphfjbPcE0G7/HRE/Q51L3w0x0WhVLy1cs=', 'dLeQgciAmkIfymykUY3PBW2cDqWQVx64R7tMT+FpJP0=', 'WR85TYAmgzldheol7nA1RzEqixyhrnrQsG8iD/RhpHU=', 'Hx+/niNKmgHzv36efZiF8Q0C6Sfb5oZ9OfeTsH46vkQ=', '+IgBffWedJpxG6Zo/kHbrgIRR4jwwTwa6nV03GLwX5A=', 'fBA/dR3/vn5rjFVbPKC9asCyTQ2ieY/iBYb1sqWO2oc=', '3C+qN0SBDoX18ZlkWCo9GhwnYOVQZ4S3XcPPwRLkOWU=', 'TNultEGnWJ9JPQ+o/+IyosqUKfeH2pvHu1EqogDrBPw=', '5lnlUzir6Rr7jFNvU6nOmmGn2BbhG6KD8yqbM4ThGQg=', 'biaxP2zII7NP2ksFgn8KMiJxA30RhydZ7oiHmr4Lh5Y=', 'CejMfdLJACR3d5PBzF/nALE8oDLqufdT1ThGCWBAtzs=', 'UA8j7lklVtKV7XvO/QUqpJSwzYGBY2bKSg73/EDGa0I=', 'gKJglt665bOi+yhFGI4R+H8qLidcbQP+hBH8wGvpE5U=', 'Yg+sVKaVUURclcpez8GQE2MOKwxr958SB3sI6NhKmIE=', 'YORLcxgiHpb03U15diML90XnAXNqfG/QtxNo1PrCGVk=', 'Iri0Mm69Jhy9dYumaZScJt7B6cHJhAjve5Ii96kP4vc=', 'mbCGZ4XkKUbunQ2A7O9/djzj6vkRQiGHwH6GFZrffFA=', 'nqzgl42VGCsfvLZy5eYGwqYuXblo5zIhTfjUMt6Kv7Y=', 'NbBubQKT4fanKTDFR8SmEerTmNXGgdkwtP8ovb9/AHg=', 'aMy+V/IgYkfzzxp0JhGeJIW3f3X4rBOZf/UgsI2IX/4=', 'U2kVmFcvfYHpuYGFYE9P/5A//cmtFnXpxBQYS9yWaiw=', '3an/ohfFqHxFEA43RNM0CLh0slcV70c7Rah3pSz0KpM=', '2I6JcI6MiTkb6Ya10XVBUdZIRXgbXhpapejBytTcjTg=', 'jyV3TtfAbZjDOzo8nkyM/0J0ZhwbB6Q2w53P4VyYpRw=', 'EQns4v7nyWQ3aZaF1kJ+TZcugJ3hlFkc153alreohMo=', 'cdFXA6IT4q2KUZxKXFD21+IYBmdKr9+64dIZOPfosfI=', 'hc6X3OiDLxt7O0VfZXJN1yzHnMLWAZSp1TefeEUe4WE=', 'Yp1BxxjeCigA5sXXXV9seEAdOYA8MchGwafHWyUm7qQ=', 'B1sKmLxXJgGq4v5V6OiiviSQvlRRVdG+VPhw5mtnB2A=', 'MOPXEiz/NLBJOOXxlMiH+uc18WdVV6TmghrIbK0e56w=', 'OKTWoAXQB4dzLEFSDU2mSMMKG6VxaLq5vqLpTTVFgeo=', 'KzqwnxUK+iRBndR+lzXwahSLXmETUnzgdJOrYdF4zxU=', 'YCkF1MtpY1fSQe4HekhmGm9bt7ErYLpnaL45TlEtrbo=', '8gOZWBxE7wr8h/rGa/eYrD35P96u8qBjlPgsaHLe/IU=', 'flzEj3Mnu3HFWNtkqEhaKk3L6u5aBJRuGGTTmNC1DR4=', 'XGAA22+obUN8IuJrlW3W+g3lh+u3VHufuQK521z+R0U=', 'Y+91ladMQTxor3mEVlnYFcmpwmJFyT1HMG+DNySbVZ4=', 'T7V7D8OgJF2BeuK/agj56BY9ibTmoqRbGdtwrt8a1SQ=', 'qoREG2KBVgevjuwDNMApauSTJsLjeqqVEyXdOAB0xMc=', 'qkyb1eQM8HrW/1r3sz2c+00GK5edqo/fzRXXgF53eTI=', 'uO5Sx0OY+EO1m+rKoS0oGmTFX2fe8N8OJhGa+9nP5BE=', 'KaJlr5jTCShzkQu8T3MYWsJbqqEXtX+F4w15fmUPlOE=', 'tN8SpZieIVVCovn2b6LL/lY1ljwmZRYbAR3J6V6ScWs=', 'iKqRsPP+BOjViedwcscCuCE15B3XONt/be89lKXW16o=', 'KDmidXT8+B/WOtPvVSWF6TKTO7xeI+S5CqqmaRdkHcM=', 'rrZveAGxgrsKF1qL65AmLVqda8Zbg24xqWyj34qac9c=', 'v90baLZYacc3s+oqAusl+90J4O6kJCF7s47aUGFf8gA=', 'Ps4dfShfpeMF3VG030HqZ2bsbD7PaVxvJYFTtroeSzQ=', '+tVk3DLjXUKiZ3/hK6CJAl3Z8sfp093/2DwLqCsFgMA=', '/SsQisa91ErcEufKW7SNb4xZ6DASvJZ4Ml5/0BluyAA=', 'tXmG1LY2OjXE4bZJtz4tOad6vDfC4L7RdrdbNYUE6aM=', 'GqjrKOz5f3VIEoX3SIXFX4c0u+ZQf78K7jEausPq1zY=', '4SBeVrJgh8ZwvSY6e/VWdSa0DJUHDRe/l7oRV8lcMlQ=', 'oybx9PFfxCN2VikUvZvMK8xe1nKfkPfqy06vVyZsKOQ=', 'qL32qjAo+JiSXztqNQlcTqRuI0e7ki0ohCVe1gkp4h8=', 'ZilXWSbduOENN7B3A3JpDKyx61nNdU+D7av0CVJeIL0=', 'ItQToCzXe/WAeMATDm4tC8gEsJil65dsJph2puJeiSQ=', '8Y/8JyLIUk9y2/ZOMDwmEnrWF7pIdwt1lyaQRyxLRNI=', 'k/WG4+UUn0rR7m2BM4xFg4shKIzlpibdawNjVqpvgDQ=', 'WIVV2NtKYatcEnMpVQbIYkGSMd8Q9Xt74y5a+V5bXs0=', 'VyJAFv77nIaZWzFAcZrlwtNbqZ9GtG8gXWS/QeH8dBY=', 'Is6C9Z4P5w/BKBc3H9gl2cC0EFpEQD5dKLQomh0Wv1w=', 'wNKSSVuLJ6b8OHoVpp8bN/+2S105KC7nrt9SHIBqNSk=', 'WIX8cNygX1SJ0qs+f36JttnScd1lBN+e2c7/KEYlysI=', 'NX6O5HSHAPuk5+88sOGUAz1W2bEmTv/p2N9DrrWfZiM=', 'eTxJnM9Mi8xeXIVDEEXgbm2AcOlh2CKQJVDx80DnkoQ=', 'wYT6ZsCY6u0j7kHgmCHdHuYUQtZfIJmcghxZrri81Jg=', '412PAnenNdYglQWXSlVtS1RYA7Yg60Wty166LCMaiHU=', 'BKRlVJjusXXqyF7Mti7eUJiW9bgzP/IOVLxgWOgdPdo=', 'mWLymE1Nkn97ABCS6bLlR35/Hk/RnkkXXFmQaVMAFTQ=', 'rBSjOGOOKyFbSw+SyepIiwE7qocz4HhQqfUy1F5HEhM=', 'GoN9YWbQI69re/7NeUvdDmSwlJ5jhP/K1FhXV5R/+MU=', 'svTmVFY7kPYUWAdDc4l5Zaim90TY7RGkFLs/eaU4FVc=', 'nIRTW5M2QjZ1cODlW4o+MNq2bGC6ItQeSqrFiDwCAOo=', '3bi3IlXJCmGsHjjhLFlge9KQogLgE0Jf8uEEclJdq84=', 'ipXsIHrPnClNy40wiQznLM085tMhWMAbi1z/IrBVUTY=', 'J5c76AnfkB6hMQU+QWzlyPCdmUpqKhQeMZzspmG1HUg=', '2PPwwz9vQmrE8GQ+lOjBHWuVjLZlH2HIdJ2i2IuDmmc=', 'v7yYzJI0/rHfpfs6AyQ6llqhVygGp+wcpMr8emORMxk=', 'E8el1KULXDYfznMNQWPhOukFnqhiZit6gIGI/u9Kupg=', 'HVK5NzAAwATh2OikiX5NMJyrMLE5+2ef85INuQeTIqU=', 'Q0mRkMzFoFAkNaLsyPYFJoBmC4JdqV9riasp/YCRf/M=', 'apFEy2v1Cp11xrY8+93ALiMxibD9kdla4EDA1KJdSm0=', 'ofj2YfPcmy8LgkDZmnVRSjxKny4tFQmum9uEfub8URE=', 'lfFL8LesAlY1wX0+sveN0vu8YZEg5bKCXUOGCLqRxuM=', 'kvCAt3kZ/mwV1jD2HyUqAQX8S4PUPR33jaGc4hW10Mc=', 'RqWJRTdyiEJkrfUuO1BNxb3KXHD+idu3CvWpdu9lgHM=', '0o4JbsG6rcRJSeQKtJ2tAUo1PL+wlyvYlEr/nB4zkOo=', 'oNW2oJaLDT1nfBVzmLcalNj1Z3lWGmnvRSEytScLsTs=', 'tBo6ECyT8IlKAM8UhQHWkqv92PRLcSiwuerfC7vNX+w=', '+c+5BQh1a2P75VjWgg/aX+j7kru6tteMWrupq+MMQgw=', 'HNE+oAEQp1JlBxa/P70tJmhSzwORSx4tR5MrBQl5jsU=', 'Sz/KKL9ywpxyPJ7heAWEqkt/tf/nbDP5b4f1m7EbBVk=', 'wfMjYGAyGx53y31nrto5i3wNTb3XBzevOPyNMNAwplA=', 'OD4zys90IZxFbg56o3znJLB7qoczUi+8mFZdpUbiTSI=', '8Y/LLPa4qJ3MkBetE9ZNbGl20pEX6YeQQlmiJUN8LNA=', 'fvFMso7Q63rng+f8fs9HliWNJ06dvmCvI89pP3g8AZI=', 'TOdFpZ3Xqdh28DnIte6gehxDLIIUkzWMwfqed8sEJwE=', 'oX4x/m50Ln6LFrVAAgXT4aeeS7iOsjP5iG3MDVO35is=', 'NLhQTo2U/eLlj+b97VT0UnW05Kshl68Axud4WJDoqwY=', '3b4WEwcR5WHjNJnrhAcEIsTdouxsfJ8nSQZ/4ikf4SM=', 'OHomudEcAveCjx9XUsIVoEyEVSJMBK9qnG3ExQydOI0=', '7TnOWfQ9G1fHRFFRHP2UNZ3SdWfN5I40rfh/K1ZepWc=', 'dp78n2nBF0mjm5oRY8h60W1V3QuUhYHp7Q+b48XB8e0=', 'fuX7RkEntlLtpkaxdMcV4FEBp/WuIaHudOHBjIQN/p0=', 'btutOdU/ny9Ykgd+Tc9xiiMu9JaIcbX/87A/I7MsM2g=', 'gwyAKrDd3r/aPElAq/97BWk1H4+bsSURhZI+O3WDwFY=', 'Pt16yAWeWMgPGXsQUWEZ8q4oNKD30uoUwMljaOi24sI=', '5gAwpmADo34wxzAw/auRsRgPsj+RvWPNWhOj3SdP0Ss=', 'AcYYIf9FvFbcJSukoI+g8dbbVnGONCM2tSNWDBZPEVg=', 'yJ153/JFXN9IF2c3a3ySmTwTPNEGZp3YE11EtpxrgVw=', 'PlktFXkKNWBnU1+LuxWAGiP34j8SskGL2K20E3qCpSw=', 'MT7C8JLJuKRBwbHC7sjLfteRuwqBae+IlGh/2pBtUX4=', 'txKQr1wDyBrIVa1zb9Lvl17prOdzCzFhO+UpqBdTlhE=', 'n8ucjLV4S1bWVucNLlgs5dy/AR5sQChHBqJVIzBH6MQ=', 'Q6oyQv4evP1EzfiPfaiyLQUS1mHQgoz+d7J7zk+zxbs=', 'P9MBH2y9lTr+ueuFDr6VDrx3GSS1/MvPLRyklqdSyVM=', 'qcohFOwrKFE+fSChJ/RVs1NVaSLbRVERMCuRWDV2qFA=', 'lQnOj9Px/nPNqlSWfF0N5CkTn+EMnwvOowom5ryaouI=', '9/t+DtjQ/LZtSlRiyxT42j/uCkaXNx3dilnbirw8Idg=', 'ojfqcZpAoKASWGHibpbgNTzBg9Dn19Gd7XxOA5TQ8l0=', 'E1brbms8OjC9eR5b/1BQp/6KHCwAlnOG7ZFwXV8S/5U=', 'nBwPY4ITPn4irJXI7w5Vv522X8MdSZdwqehjg03kgBE=', 'ivMwj8BftiUhzy+S92MtpdbXyuTfab9H8lSFFi2azt4=', '/OENQOL30zwAXAy3IN1FbzZFfjfOLaynYaW3w6bk2gw=', 'PDjFRBgq4c5rzxS6wQrkOkhNs3qKPZ35htxUocnuNEw=', 'xA22xgunLQJJCnGh3+dhU07Djjbd3AufwqqhUQaTNFo=', '+zUL0wWCfsBXNoDj5KsvASLlqd26KU9+nSN1zZ7GsQI=', 'e/+cIBGmDAZDgbD/6i/zllBplAiM5B1squ96zM4BIj4=', 'zpLoCKHOugDScAlFt0XHJJKFwU+r3YZaBlTf5G7qWpE=', 'eikXAycSEzx70lQOTATgR6AnubI9JwebkOTZkdgOJFY=', 'tPzc0JSXpr0JmIZKsEwoPNd7HYlbgErDMf2uJUXKJco=', 'EiOn32wcldy/0j20uRGp8a2BWA9tBLVZiul1Z67Shxk=', 'lG8uYsrQADh32pvOcrvytT25qo4UpZUGkrybb4ycFEs=', 'hRDwfL0PL5rN6c4l8N3LjeJYcHhYCuoF4aRrclMweXQ=', 'l1rjnoyfJCnZv8AJ4YiaXNG3b/Qrtstg83+T9K4A4pU=', 'qdz1OAuC9qg0p/4BrA4V1fBXexshZHZxt32IjY+UduM=', 'znVNbyVOWXo/XrF4bWN0DAWkAGmYu/jwUwO5BReUQxY=', 'C909uiishGWZRTfgsev1IhCjyL0gUD0ph9QKAYE+2DE=', '9Xi5HaV/Z5cinEcWKVZMuef69TOyb3IxHlE53sgUbQA=', 'T4f/arzfSalcvrX0iElU649bu8yFkRYxheJCrrNEkLQ=', '3cg9wquB/Sf1whKNOekAQ/XUQcTUeXeW01l06R+BbNE=', '+ZVl8HEbTM1GOoCTt2wxAfzQswvAWL3L8e5mLuyy1dY=', 'pAUvW4XKSYhg1jlJZSgI+zcE64Vc1ZTK8rqKzNKk0+Q=', 'ilh8SwN/N/lynhTK/mWSvb3nDr7ZGvWV7rsU0BaOkCI=', 'sjpx9JKp33xDuwIsWu3bMa7KPQzxwl5Kvg+WoYNlnZY=', '1e/leswSLZ3mYyWZriPrPDY2EoN3wwCXPbjTUX5aYW8=', 'mHse/SVLKP809e4vXn9ZgxFQrJC336ILZZsA3RoIfTY=', 'foBtKUAK/HUSjhHco0WST9c68Or3TrbKMN75i6FJUZ0=', 'NS6OkBviulEOoEuZxo/1C7WYE0TBn7Asw/DwVo28lW8=', 'czwYNtatxXTkGd58zAmjHhwFS0+fjoCGpWJdrG2FPJ0=', 'UyK3WAcVbatfJU5yTyBAdSFG/eXv67JhWvL3rRZGCvs=', 'FvDZFrVXY2bQd2/8mdGCy8jeH+9OoOsU4qeDzZSptPU=', '65YgA0ahggSdeaYBdRl82v/AO+pGzmZFqsi8TTDiP3Y=', 'HQovuDJjeLKXHO9abi0E4pR8SAROYKEviztcwbbZxTA=', 'VoUEV5MkNaFrGENiLqm3zykytS3WV6a2u96d8kgEAN0=', 'jR9KA6+gQp1chfbQvsqofqZLlOO69LPd3Xq3L4LQ67g=', '46ROXDc+6TtRsAPHki7/E82y+3AiRRPb1cWpd/9Y0OU=', 'X0cKvLgZxul/9WFXcTzJ//4b19Uf+pNMQ2NRT0fs3ws=', 'Teuwxr3okYRSPI2Y7Nou4wqGcA78ekLDx+wonvRGsOE=', 'aQtj+vhFKWn0qz527tbi3q254EkieQ0rqf8dS5yw+m0=', 'U0mwINNikgvZ0ftlUeNE7EDUElvPx/tTWfJtl20gC6g=', 'P1aW4NWkbjTAgrdvKdb/WsQZOI7wEV81FWNrD8IkT0Q=', 'LG7hX6thwID2W3qbOyTOucKWMcrkvanRX6GQDsMfTQs=', 'EH35TxVqqCRWfd7C+kBleb4yHsq1ycppE5AvnX+WQBE=', 'lJJFjKGiHUDF22MOGnPT/xBTwl4UiGfkYJkNbbJ3VHk=', 'jyf7N5ZnreskNIwFO3N9eFFPPK78T8maCsrCNfiOZB8=', 'oPPWA1w9EpOYPS5U8pdx8YhZuOIKVaGZ1BRRHEOr48M=', 'ierVgp9Aw3orfAmQMe77mB+wYdaV6fK6Vy3vmvs6Ods=', 'kNUnYkzBPHsIi2kTqCFtR7iMGyx2yZD/KZHuu839hcY=', 'xVyrQ6TU4c+yEZR+Fly4rGn3mt9kpDpIAqmrnlVqOsA=', '8Ym4s3vcF6pOUvb/40MoFgXhozbjEeY5KL6S60BHW2A=', 'cYcQzu2bjsSMNeaAw4lWpDUGdH8SsNow/a+k3vVor3E=', 'voXzLrgpNaTssnERUsWHe8i5qAk+0Mev4EacAigUwIk=', 'd0epea1fc69jCEDP+o1Ko8TO9UcNtQ4nH4RpOz+toyc=', 'YXMFRXPpfMq0dR1ji3gtHLMvc080j2c2AF52HbRm7O4=', 'Iivwb5nkQMEAcelv+J6uucjr4biBoKM554pqeUoGhs4=', 'FYcSOmLQ15uJo7MMKj/zGR2neWU4YI50GUDT/kc9Y2I=', 'Mujc7fhlpiAZ/8+VvJTuahAOrjvNECvtA4YBD6fP02Y=', 'Lgvpn5xUu0sbll2/53oFiSmVdcNM99MCNRPNcpyw1yI=', 'rzWpkZfVptJjhCtmA5xHgJIsAZQKyQ0mwHzaE2K/I9Y=', '1WFEjeVRD0MW325Ssif9QSV+oEAMGUQfXzuBVtjPSto=', 'COZ39Wo+uIUO2s7c2VGEHjJf6Vx0xifxVAiaeHtaTdk=', 'CPI+5YCeEmhqdk6znJeii6jJUNl1QWGEvwCUJ6uLflg=', 'jImuGvSym6odgRoYw7vgkq4HUbmJ1tDW9fq6bo/yN5s=', 'qER34e/xF0nc6zZmlIGrL3knw6JHjbP6i3jC6rfCS8c=', 'o4eu7F3IQOZHR4xqfRGGCivSLHoG7zs88hxWfdfL40o=', 'K+E2pj1HgSC5GexBpChmTuG21HlO2wcCulMly1KSNE4=', 'HiffIWPAC1YJDwu8WRYatMOmxW/ufbs1/6A6HoWj1dU=', 'm05vYiRhzb0tIGStVVCNMqTKMCT4UT7bf0UdiR5d0+4=', 'DBCNxZ0sgsp2UnxD2QjnB5hpbDbKo2poEf5HLMnXhck=', '5HHrsQn5qiyLxLdipqrxulXA40DVSUGJ5ciQw/cHxHs=', 'YRgtGEd826lr/TTeqzRiSg74GgvqIjPn4GiFofbYGoA=', 'UV/JR6UaacYCmtRkgf+fISD6dzm7gIQwTfyFEd5m490=', 'M+UxJPgRIW57a0YS3eik8A9YDj+AwaMpTa5yWYn/kAw=', 'vKy7mwWzDQnqrw/yaJ6PB2jW/wheq1QhTZ1+TEFcP8U=', 'jkqCQc81VUibgQkhHl//+5PRaSA68Wd3CxUPvlOv+Yo=', 'ViIxd7sl/Dp2C0nC24swu3Cm5o8UkaEMgyMuUp7pq0g=', 'wzK9LGOjC7Om6cUDilMUGE3wYXuPD6EX+6TS832183c=', 'uNJhNi/pUS9w/pd7eVnHXB9PvBDWWQQdf22l/K+jxW4=', 'e0+hFijqTJTOfBIL9insE6M7fh8UL201r+EDBi9M2Vw=', '467jZhz5FyJVTN9X3CZRReWVNyCr5ThuQ6pvvkgXTtU=', 'MUbqU/Il0Jtq/WAby1VtcO+pS/tc7QnNE3TI/GuzuMM=', 'sd/gIUfo7qpyKxmzyZZwkHqzIqSHblf6c1K/iHrd/FA=', 'wK18kWTTyXKCMshFfhwqTEKgqTQSBDhz4A8+ucEUoU8=', 'KgVjZvzzM9YeUr6YdniKOUEu5U9A1qHrbdthvkqUg0s=', 'tUeUQK4V+TthlYOfXGU45TfMrMvMlcmhUaMf6Sy4WxQ=', 'dIoqlJEhZ/uEUpnudTQ+Ve8Uw1oiqSMobNqXb2YQfcs=', 'VLG8jzZDi3OzlWsTunU487LkKuMt8oRCf6DBpBjv/pc=', 'Q/taLV1XMrDmLpqWe+wVqvUU/JenxdWwwA8am9xppWU=', 'eHoVband54HgDCiLdmwxL2LOmHeZyfACsh/KtEbRFUU=', 'QEjs/Y0qxKqphtX3HPy3o5NLK3ln/f5PNCKLAhhvKJM=', 'PL/9zJXG7zguwqO/MqHkdLaEWAXCT0AIMUNY1gqRrNQ=', 'YRZkayzEaq6umqAo3NH1MiLW1oqHFPHDmlEIrn/EWb0=', '4XDfW1dI2Qj2YY+tPotz6VY0VwcPfBzlZtfQa8RH98o=', 'TIFqzAEaJ9dzg/KCrFFPRw7C0KKV+dPmxhnS9zS0w+E=', 'uPxHwMXd5UwnfZuCmJPEZXMrFc82OGm2MzwjB6CWP54=', 'evnrvQPPTPutwKufIKh7K4UMK3E+lB2zHUzaKFdprEw=', 'e/HgpRlVCZ9F+F9KuwVWxa3jJn/JuKPnbZbr77xwptM=', 'zHqZC5BMQzmA8ZbWd776nwinT6LWg2mxiT0WiW/5YZE=', '4TQW6WshhFY+RHtjqPKjxICmHWA5iO/57N39cYvvg94=', '6Y5XzaNnvoUiMar6dJzcl0gW14UUz60BXY0x7j2LqTc=', 'dfeeBaa8zDhWS6nu7zeXKwLyi4zqEajI3tJM9/fSBPM=', 'Ii1pVHrc3A/M6pPt8oHbceXvm/CskxJAkGhFtt4isDg=', 'NbzNnWabooJ8J/09unhbUwFiH6Jr9Vv3VQwYF8cT2IY=', 'KDOmuTrY/IJzDP4kIgIYCBiGyTymsJ8Iy4cDB35WGYg=', 'KvkCQpg/2ciwASQU0QFSk9H8gE1eAan0r1NR8jdIXF4=', '4SA/+F8g7P5zdbzUmu4C70OOtDhWIvjhrlb5KsJctFg=', 'cvjFCVBHPMRGgHN646n278rct/tKIPgmtYIu9XsyGe0=', 'd7EhDMIrDeTrwHOcqUhYpiwc4yQMwmZ/8RjcPpojXzc=', 'XGFZ7IrZsoBhRl8og2T59raf/eHUTP3NRcwHW+GLxmQ=', 'yQCMHCiSG6RrDzqfXFSue4eu3I7cE9ExTdPUJFwwGQk=']\n"
     ]
    }
   ],
   "source": [
    "# COMMUNITIES\n",
    "## Community detection with modularity\n",
    "## Modularity is a measure of relative density in your network. \n",
    "## A community has a high density relative to other nodes within its module, but low density with those outside\n",
    "## Modularity gives you an overall score of how fractious your network is, and that is a score\n",
    "# that can be used to partition the network and return the inidividual communities\n",
    "\n",
    "# Very dense networks are often more difficult to split into sensible partitions.\n",
    "# Luckily, networks are not all that dense. Our network is only 0.223\n",
    "# Although there are some built in approahces like 'minimum cut', modularity is not included in networkX\n",
    "# We just use an addiitonal python module, YAY\n",
    "communities = community.greedy_modularity_communities(G)\n",
    "## the method greedy_modularity_communities() tries to determine the number of communities appropriate for the graphs\n",
    "## Group all nodes into the subsets based on these communities.\n",
    "\n",
    "modularity_dict = {} # Create a blank dictionary\n",
    "for i,c in enumerate(communities): # Loop through the list of communities, keeping track of the number for the community\n",
    "    for name in c: # Loop through each person in a community\n",
    "        modularity_dict[name] = i # Create an entry in the dictionary for the person, where the value is which group they belong to.\n",
    "\n",
    "# Now you can add modularity information like we did the other metrics\n",
    "nx.set_node_attributes(G, modularity_dict, 'modularity')\n",
    "\n",
    "## Then in each of these communities, you do your centrality measures like EIGENVECTOR etc etc \n",
    "\n",
    "# First get a list of just the nodes in that class\n",
    "class0 = [n for n in G.nodes() if G.nodes[n]['modularity'] == 0]\n",
    "\n",
    "# Then create a dictionary of the eigenvector centralities of those nodes\n",
    "class0_eigenvector = {n:G.nodes[n]['eigenvector'] for n in class0}\n",
    "\n",
    "# Then sort that dictionary and print the first 5 results\n",
    "class0_sorted_by_eigenvector = sorted(class0_eigenvector.items(), key=itemgetter(1), reverse=True)\n",
    "\n",
    "print(\"Modularity Class 0 Sorted by Eigenvector Centrality:\")\n",
    "for node in class0_sorted_by_eigenvector[:5]:\n",
    "    print(\"Name:\", node[0], \"| Eigenvector Centrality:\", node[1])\n",
    "    \n",
    "    \n",
    "### Using eigenvector centrality as a ranking can give you a sense of the important people within this modularity class\n",
    "##  In smaller networks, it may be a common task to find a list of all the modularity classes and their members\n",
    "\n",
    "for i,c in enumerate(communities): # Loop through the list of communities\n",
    "    if len(c) > 2: # Filter out modularity classes with 2 or fewer nodes\n",
    "        print('Class '+str(i)+':', list(c)) # Print out the classes and their members"
   ]
  },
  {
   "cell_type": "code",
   "execution_count": null,
   "metadata": {
    "colab": {
     "base_uri": "https://localhost:8080/"
    },
    "id": "l3dCJslr9U3s",
    "outputId": "c81e26c1-5390-4df1-e9af-1e55f6ef79b2"
   },
   "outputs": [
    {
     "name": "stdout",
     "output_type": "stream",
     "text": [
      "1\n"
     ]
    }
   ],
   "source": [
    "print(len(communities))"
   ]
  },
  {
   "cell_type": "markdown",
   "metadata": {
    "id": "ZSE_a3kq-N6Q"
   },
   "source": [
    "# Represent our exercises as a Directed Graph\n",
    "\n",
    "\n",
    "-- Explore methods to prune a tree?"
   ]
  },
  {
   "cell_type": "code",
   "execution_count": null,
   "metadata": {
    "id": "T2M9l4vY-JhU"
   },
   "outputs": [],
   "source": [
    "G = nx.DiGraph()\n",
    "for index, row in user_to_content.iterrows():\n",
    "    user = row['uuid']\n",
    "    from_list = row['from2']\n",
    "    to_list = row['to2']\n",
    "    # always check that the number \n",
    "    assert len(from_list) == len(to_list)\n",
    "    for src, tgt in zip(from_list, to_list):\n",
    "        if G.has_edge(src, tgt):\n",
    "            G[src][tgt]['weight'] += 1\n",
    "        else:\n",
    "            G.add_edge(src, tgt, weight=1)"
   ]
  },
  {
   "cell_type": "markdown",
   "metadata": {
    "id": "1bhYxb7x-JhW"
   },
   "source": [
    "### Measure Density of our learning paths"
   ]
  },
  {
   "cell_type": "code",
   "execution_count": null,
   "metadata": {
    "colab": {
     "base_uri": "https://localhost:8080/"
    },
    "id": "oHQgEHe7-JhX",
    "outputId": "442baffc-5b02-48a5-d50b-62e725f11910"
   },
   "outputs": [
    {
     "name": "stdout",
     "output_type": "stream",
     "text": [
      "Network density: 0.22516975440393863\n"
     ]
    }
   ],
   "source": [
    "# DENSITY\n",
    "# Density is the ratio of the actual edges in the network to all possible edges in the network\n",
    "# Interpretation: 0 to 1, the bigger the more dense your network. 1 is a perfectly connect network\n",
    "# This mean that \n",
    "density = nx.density(G)\n",
    "print(\"Network density:\", density)"
   ]
  },
  {
   "cell_type": "markdown",
   "metadata": {
    "id": "z83vLyTm-JhZ"
   },
   "source": [
    "### Look at the number of Connected Components in our learning paths\n"
   ]
  },
  {
   "cell_type": "code",
   "execution_count": null,
   "metadata": {
    "colab": {
     "base_uri": "https://localhost:8080/"
    },
    "id": "hggJekto-Jha",
    "outputId": "e2abca4f-2b8c-45b3-f43c-a76d47951169"
   },
   "outputs": [
    {
     "name": "stdout",
     "output_type": "stream",
     "text": [
      "True\n",
      "Network diameter of largest component: 3\n"
     ]
    }
   ],
   "source": [
    "# COMPONENTS, AND COMPONENTS AND THIER DIAMETERS\n",
    "# LOOK AT THE NUMBER OF COMPONENTS\n",
    "# If we have more than one components, then this means that some course contents are very different from the \n",
    "# Eg interpretation: There is a learning path frokm length 8 between the two furthest apart courses in the network.\n",
    "\n",
    "# If your Graph has more than one component, this will return False:\n",
    "# print(nx.is_strongly_connected(G))\n",
    "print(nx.is_strongly_connected(G))\n",
    "\n",
    "\n",
    "# Next, use nx.connected_components to get the list of components,\n",
    "# then use the max() command to find the largest one:\n",
    "components = nx.strongly_connected_components(G)\n",
    "largest_component = max(components, key=len)\n",
    "\n",
    "# Create a \"subgraph\" of just the largest component\n",
    "# Then calculate the diameter of the subgraph, just like you did with density.\n",
    "# This ensures that nx.diameter will not throw an error\n",
    "subgraph = G.subgraph(largest_component)\n",
    "diameter = nx.diameter(subgraph)\n",
    "print(\"Network diameter of largest component:\", diameter)"
   ]
  },
  {
   "cell_type": "markdown",
   "metadata": {
    "id": "v7dzWZSZ-Jhc"
   },
   "source": [
    "### Look at the Triadic Closure of our learning paths"
   ]
  },
  {
   "cell_type": "code",
   "execution_count": null,
   "metadata": {
    "colab": {
     "base_uri": "https://localhost:8080/"
    },
    "id": "dsvZjTHi-Jhf",
    "outputId": "3bbd82d6-14ce-4978-b02f-384a010ad783"
   },
   "outputs": [
    {
     "name": "stdout",
     "output_type": "stream",
     "text": [
      "Triadic closure: 0.5400136258370033\n"
     ]
    }
   ],
   "source": [
    "# TRANSITIVITY\n",
    "# Clustering coefficient is one way to measure Triadic closure as it measures the clustering tendency.\n",
    "# Transitivity is the ratio of all triangles over all possible triangles\n",
    "triadic_closure = nx.transitivity(G)\n",
    "print(\"Triadic closure:\", triadic_closure)"
   ]
  },
  {
   "cell_type": "markdown",
   "metadata": {
    "id": "NfV0h7V6-Jhg"
   },
   "source": [
    "## Measure the degree of our exercises\n"
   ]
  },
  {
   "cell_type": "code",
   "execution_count": null,
   "metadata": {
    "colab": {
     "base_uri": "https://localhost:8080/"
    },
    "id": "Zjv750o6-Jhh",
    "outputId": "a9c21674-d7b2-45be-db21-278525ba1091"
   },
   "outputs": [
    {
     "name": "stdout",
     "output_type": "stream",
     "text": [
      "Top 20 nodes by degree:\n",
      "('CPI+5YCeEmhqdk6znJeii6jJUNl1QWGEvwCUJ6uLflg=', 2402)\n",
      "('hv7kHCAIdj7thZUmlqz553leG5bFNYgzXmLfB5m4Xvw=', 2311)\n",
      "('TwyqyV1uJYlDAX8wX/PtTCVZEBo/APIVfTzzleGkNCQ=', 2267)\n",
      "('PqQyQvOjvvozBCtlR/0pL8uxhe0K63IPiKYCi1tDG1o=', 2265)\n",
      "('T7V7D8OgJF2BeuK/agj56BY9ibTmoqRbGdtwrt8a1SQ=', 2160)\n",
      "('svTmVFY7kPYUWAdDc4l5Zaim90TY7RGkFLs/eaU4FVc=', 2078)\n",
      "('jImuGvSym6odgRoYw7vgkq4HUbmJ1tDW9fq6bo/yN5s=', 2041)\n",
      "('OVGQBBcCHSOyJ89uwY+z15n2iuZYrv8Tajf37jiGzqc=', 1944)\n",
      "('w3a6Wk12CqIrUktZei2Z0W3Rf8xdgEdjIW9QX0MWIf8=', 1926)\n",
      "('dp0m1kS6Bygoksx9S/gkBqTcWPoglbf1HT3Ma3U3N8U=', 1914)\n",
      "('lvobiTtwUsd1ylmrciW7NzJnmmcqFC1J9PmoZ6R8xK0=', 1909)\n",
      "('O/KjGB9rr8dvio3EBiuDvoL1cg/22EZaZV1FxmkURKc=', 1803)\n",
      "('dVKfHzCsi1dOBhd343bsUNF4dowsiANnvRBkWqToitg=', 1765)\n",
      "('vhz7ZImgcFLciakjMFdmn0S/He85wqQkhLiYXRPpu18=', 1726)\n",
      "('zX5HAUpRYC4F7YPNs5tUeBqVi++rEmPUfsAtHpoZmEQ=', 1702)\n",
      "('tOR47i7wGbuHkGxkhX9tHItMHHuJtAttsvHDOjDRVOw=', 1665)\n",
      "('+cLbiKkV7+VhNPr7OGG3B3kPpZ8er0mvFvqPbM/gm+E=', 1630)\n",
      "('JcrFXI7wzq/14kZRPCdix3feq0/yQh1gHU06bGQwNBE=', 1557)\n",
      "('hWfAiJgEzK9NSh1jxPBGRiCGV+lYwQ/qoXFxJbFyoWM=', 1525)\n",
      "('cvnGl+iUiKphfjbPcE0G7/HRE/Q51L3w0x0WhVLy1cs=', 1460)\n"
     ]
    }
   ],
   "source": [
    "## DEGREE\n",
    "# Course with the highest degree are those most connected to other courses. These nodes are call Hubs.\n",
    "degree_dict = dict(G.degree(G.nodes()))\n",
    "nx.set_node_attributes(G, degree_dict, 'degree') # store all the degrees in the node\n",
    "### Find the top few nodes with the highest degree\n",
    "#  Eg print(G.nodes['William Penn'])\n",
    "sorted_degree = sorted(degree_dict.items(), key=itemgetter(1), reverse=True)\n",
    "print(\"Top 20 nodes by degree:\")\n",
    "for d in sorted_degree[:20]:\n",
    "    print(d)"
   ]
  },
  {
   "cell_type": "markdown",
   "metadata": {
    "id": "3BxlWeci-Jhh"
   },
   "source": [
    "## Measure the Betweenness and eigenvector centrality of our exercises"
   ]
  },
  {
   "cell_type": "code",
   "execution_count": null,
   "metadata": {
    "colab": {
     "base_uri": "https://localhost:8080/"
    },
    "id": "pv2YkIb2-Jhi",
    "outputId": "f971395e-153c-4883-e895-620dbb1e18fc"
   },
   "outputs": [
    {
     "name": "stdout",
     "output_type": "stream",
     "text": [
      "Top 20 nodes by betweenness centrality:\n",
      "('CPI+5YCeEmhqdk6znJeii6jJUNl1QWGEvwCUJ6uLflg=', 0.0268247805772182)\n",
      "('hv7kHCAIdj7thZUmlqz553leG5bFNYgzXmLfB5m4Xvw=', 0.022022336541282342)\n",
      "('TwyqyV1uJYlDAX8wX/PtTCVZEBo/APIVfTzzleGkNCQ=', 0.02141351611047956)\n",
      "('PqQyQvOjvvozBCtlR/0pL8uxhe0K63IPiKYCi1tDG1o=', 0.020902246663373807)\n",
      "('T7V7D8OgJF2BeuK/agj56BY9ibTmoqRbGdtwrt8a1SQ=', 0.015993187614160874)\n",
      "('svTmVFY7kPYUWAdDc4l5Zaim90TY7RGkFLs/eaU4FVc=', 0.013812138724035491)\n",
      "('jImuGvSym6odgRoYw7vgkq4HUbmJ1tDW9fq6bo/yN5s=', 0.012946982463347398)\n",
      "('tOR47i7wGbuHkGxkhX9tHItMHHuJtAttsvHDOjDRVOw=', 0.009891927701134156)\n",
      "('lvobiTtwUsd1ylmrciW7NzJnmmcqFC1J9PmoZ6R8xK0=', 0.009861133455573231)\n",
      "('OVGQBBcCHSOyJ89uwY+z15n2iuZYrv8Tajf37jiGzqc=', 0.00970807680008711)\n",
      "('w3a6Wk12CqIrUktZei2Z0W3Rf8xdgEdjIW9QX0MWIf8=', 0.009591450309513687)\n",
      "('dp0m1kS6Bygoksx9S/gkBqTcWPoglbf1HT3Ma3U3N8U=', 0.008976319775588612)\n",
      "('+cLbiKkV7+VhNPr7OGG3B3kPpZ8er0mvFvqPbM/gm+E=', 0.008110899565784882)\n",
      "('O/KjGB9rr8dvio3EBiuDvoL1cg/22EZaZV1FxmkURKc=', 0.007423629632837096)\n",
      "('dVKfHzCsi1dOBhd343bsUNF4dowsiANnvRBkWqToitg=', 0.00682840597544215)\n",
      "('vhz7ZImgcFLciakjMFdmn0S/He85wqQkhLiYXRPpu18=', 0.006674658812284754)\n",
      "('zX5HAUpRYC4F7YPNs5tUeBqVi++rEmPUfsAtHpoZmEQ=', 0.00615273316053896)\n",
      "('BG1RsWojzEHzV28RBm/1iKi1NyZgDcDomLYEJSV6lmo=', 0.004909461614213799)\n",
      "('XG1pV3YZ4tnQkmvmVbwNYnm01m9sRhZovPW1qTPIGYI=', 0.004886430633852421)\n",
      "('PB+tEauJ6Cu8clF5IHjouv5FqEgH9UDWxbOqE+SBa50=', 0.004641421157895008)\n",
      "Name: CPI+5YCeEmhqdk6znJeii6jJUNl1QWGEvwCUJ6uLflg= | Betweenness Centrality: 0.0268247805772182 | Degree: 2402\n",
      "Name: hv7kHCAIdj7thZUmlqz553leG5bFNYgzXmLfB5m4Xvw= | Betweenness Centrality: 0.022022336541282342 | Degree: 2311\n",
      "Name: TwyqyV1uJYlDAX8wX/PtTCVZEBo/APIVfTzzleGkNCQ= | Betweenness Centrality: 0.02141351611047956 | Degree: 2267\n",
      "Name: PqQyQvOjvvozBCtlR/0pL8uxhe0K63IPiKYCi1tDG1o= | Betweenness Centrality: 0.020902246663373807 | Degree: 2265\n",
      "Name: T7V7D8OgJF2BeuK/agj56BY9ibTmoqRbGdtwrt8a1SQ= | Betweenness Centrality: 0.015993187614160874 | Degree: 2160\n",
      "Name: svTmVFY7kPYUWAdDc4l5Zaim90TY7RGkFLs/eaU4FVc= | Betweenness Centrality: 0.013812138724035491 | Degree: 2078\n",
      "Name: jImuGvSym6odgRoYw7vgkq4HUbmJ1tDW9fq6bo/yN5s= | Betweenness Centrality: 0.012946982463347398 | Degree: 2041\n",
      "Name: tOR47i7wGbuHkGxkhX9tHItMHHuJtAttsvHDOjDRVOw= | Betweenness Centrality: 0.009891927701134156 | Degree: 1665\n",
      "Name: lvobiTtwUsd1ylmrciW7NzJnmmcqFC1J9PmoZ6R8xK0= | Betweenness Centrality: 0.009861133455573231 | Degree: 1909\n",
      "Name: OVGQBBcCHSOyJ89uwY+z15n2iuZYrv8Tajf37jiGzqc= | Betweenness Centrality: 0.00970807680008711 | Degree: 1944\n",
      "Name: w3a6Wk12CqIrUktZei2Z0W3Rf8xdgEdjIW9QX0MWIf8= | Betweenness Centrality: 0.009591450309513687 | Degree: 1926\n",
      "Name: dp0m1kS6Bygoksx9S/gkBqTcWPoglbf1HT3Ma3U3N8U= | Betweenness Centrality: 0.008976319775588612 | Degree: 1914\n",
      "Name: +cLbiKkV7+VhNPr7OGG3B3kPpZ8er0mvFvqPbM/gm+E= | Betweenness Centrality: 0.008110899565784882 | Degree: 1630\n",
      "Name: O/KjGB9rr8dvio3EBiuDvoL1cg/22EZaZV1FxmkURKc= | Betweenness Centrality: 0.007423629632837096 | Degree: 1803\n",
      "Name: dVKfHzCsi1dOBhd343bsUNF4dowsiANnvRBkWqToitg= | Betweenness Centrality: 0.00682840597544215 | Degree: 1765\n",
      "Name: vhz7ZImgcFLciakjMFdmn0S/He85wqQkhLiYXRPpu18= | Betweenness Centrality: 0.006674658812284754 | Degree: 1726\n",
      "Name: zX5HAUpRYC4F7YPNs5tUeBqVi++rEmPUfsAtHpoZmEQ= | Betweenness Centrality: 0.00615273316053896 | Degree: 1702\n",
      "Name: BG1RsWojzEHzV28RBm/1iKi1NyZgDcDomLYEJSV6lmo= | Betweenness Centrality: 0.004909461614213799 | Degree: 1298\n",
      "Name: XG1pV3YZ4tnQkmvmVbwNYnm01m9sRhZovPW1qTPIGYI= | Betweenness Centrality: 0.004886430633852421 | Degree: 1254\n",
      "Name: PB+tEauJ6Cu8clF5IHjouv5FqEgH9UDWxbOqE+SBa50= | Betweenness Centrality: 0.004641421157895008 | Degree: 1199\n"
     ]
    }
   ],
   "source": [
    "## EIGENVECTOR CENTRALITY\n",
    "# Eigenvector centrality useful for understanding which nodes can get information to other nodes quickly.\n",
    "# Example: if you know a lot of well-connected people, you can spread a message very efficiently.\n",
    "# So these are courses that are related to many of the important courses, and should be placed into the learning path?\n",
    "\n",
    "\n",
    "## BETWEENNESS CENTRALITY\n",
    "# Betweenness centrality looks at all the shortest paths that pass through a particular node. (Thus takes very long to calculate)\n",
    "# Tells us which nodes are important not because they have lots of connections themselves, but because they stand between groups, \n",
    "# Giving the network connectivity and cohesion\n",
    "\n",
    "betweenness_dict = nx.betweenness_centrality(G) # Run betweenness centrality\n",
    "eigenvector_dict = nx.eigenvector_centrality(G) # Run eigenvector centrality\n",
    "\n",
    "# Assign each to an attribute in your network\n",
    "nx.set_node_attributes(G, betweenness_dict, 'betweenness')\n",
    "nx.set_node_attributes(G, eigenvector_dict, 'eigenvector')\n",
    "\n",
    "sorted_betweenness = sorted(betweenness_dict.items(), key=itemgetter(1), reverse=True)\n",
    "\n",
    "print(\"Top 20 nodes by betweenness centrality:\")\n",
    "for b in sorted_betweenness[:20]:\n",
    "    print(b)\n",
    "    \n",
    "### You can see that nodes that have high degree also have high betweenness centrality\n",
    "# What if you want to know learning path have high betweenness centrality and low degree?\n",
    "# I.e which high betweenness nodes are unexpected?\n",
    "## If we have high betweenness centrality and low degree, these could mean that the nodes are important nodes connecting\n",
    "## distant parts of the graph.\n",
    "\n",
    "#First get the top 20 nodes by betweenness as a list\n",
    "top_betweenness = sorted_betweenness[:20]\n",
    "\n",
    "#Then find and print their degree\n",
    "for tb in top_betweenness: # Loop through top_betweenness\n",
    "    degree = degree_dict[tb[0]] # Use degree_dict to access a node's degree, see footnote 2\n",
    "    print(\"Name:\", tb[0], \"| Betweenness Centrality:\", tb[1], \"| Degree:\", degree)"
   ]
  },
  {
   "cell_type": "markdown",
   "metadata": {
    "id": "HOuu0Tfi-Jhj"
   },
   "source": [
    "## Look at the number of Communities in our learning paths\n",
    "- Note that there is currently a bug in directed graph for this"
   ]
  },
  {
   "cell_type": "code",
   "execution_count": null,
   "metadata": {
    "colab": {
     "base_uri": "https://localhost:8080/",
     "height": 364
    },
    "id": "1kBRIjgR-Jhj",
    "outputId": "a4f10674-907b-485c-f9b1-14eed317ed27"
   },
   "outputs": [
    {
     "ename": "KeyError",
     "evalue": "ignored",
     "output_type": "error",
     "traceback": [
      "\u001b[0;31m---------------------------------------------------------------------------\u001b[0m",
      "\u001b[0;31mKeyError\u001b[0m                                  Traceback (most recent call last)",
      "\u001b[0;32m<ipython-input-21-8c149754ed24>\u001b[0m in \u001b[0;36m<module>\u001b[0;34m()\u001b[0m\n\u001b[1;32m     10\u001b[0m \u001b[0;31m# Although there are some built in approahces like 'minimum cut', modularity is not included in networkX\u001b[0m\u001b[0;34m\u001b[0m\u001b[0;34m\u001b[0m\u001b[0;34m\u001b[0m\u001b[0m\n\u001b[1;32m     11\u001b[0m \u001b[0;31m# We just use an addiitonal python module, YAY\u001b[0m\u001b[0;34m\u001b[0m\u001b[0;34m\u001b[0m\u001b[0;34m\u001b[0m\u001b[0m\n\u001b[0;32m---> 12\u001b[0;31m \u001b[0mcommunities\u001b[0m \u001b[0;34m=\u001b[0m \u001b[0mcommunity\u001b[0m\u001b[0;34m.\u001b[0m\u001b[0mgreedy_modularity_communities\u001b[0m\u001b[0;34m(\u001b[0m\u001b[0mG\u001b[0m\u001b[0;34m)\u001b[0m\u001b[0;34m\u001b[0m\u001b[0;34m\u001b[0m\u001b[0m\n\u001b[0m\u001b[1;32m     13\u001b[0m \u001b[0;31m## the method greedy_modularity_communities() tries to determine the number of communities appropriate for the graphs\u001b[0m\u001b[0;34m\u001b[0m\u001b[0;34m\u001b[0m\u001b[0;34m\u001b[0m\u001b[0m\n\u001b[1;32m     14\u001b[0m \u001b[0;31m## Group all nodes into the subsets based on these communities.\u001b[0m\u001b[0;34m\u001b[0m\u001b[0;34m\u001b[0m\u001b[0;34m\u001b[0m\u001b[0m\n",
      "\u001b[0;32m/usr/local/lib/python3.6/dist-packages/networkx/algorithms/community/modularity_max.py\u001b[0m in \u001b[0;36mgreedy_modularity_communities\u001b[0;34m(G, weight)\u001b[0m\n\u001b[1;32m    147\u001b[0m                 \u001b[0;31m# Save old value for finding heap index\u001b[0m\u001b[0;34m\u001b[0m\u001b[0;34m\u001b[0m\u001b[0;34m\u001b[0m\u001b[0m\n\u001b[1;32m    148\u001b[0m                 \u001b[0;32mif\u001b[0m \u001b[0mk\u001b[0m \u001b[0;32min\u001b[0m \u001b[0mj_set\u001b[0m\u001b[0;34m:\u001b[0m\u001b[0;34m\u001b[0m\u001b[0;34m\u001b[0m\u001b[0m\n\u001b[0;32m--> 149\u001b[0;31m                     \u001b[0md_old\u001b[0m \u001b[0;34m=\u001b[0m \u001b[0;34m(\u001b[0m\u001b[0;34m-\u001b[0m\u001b[0mdq_dict\u001b[0m\u001b[0;34m[\u001b[0m\u001b[0mrow\u001b[0m\u001b[0;34m]\u001b[0m\u001b[0;34m[\u001b[0m\u001b[0mcol\u001b[0m\u001b[0;34m]\u001b[0m\u001b[0;34m,\u001b[0m \u001b[0mrow\u001b[0m\u001b[0;34m,\u001b[0m \u001b[0mcol\u001b[0m\u001b[0;34m)\u001b[0m\u001b[0;34m\u001b[0m\u001b[0;34m\u001b[0m\u001b[0m\n\u001b[0m\u001b[1;32m    150\u001b[0m                 \u001b[0;32melse\u001b[0m\u001b[0;34m:\u001b[0m\u001b[0;34m\u001b[0m\u001b[0;34m\u001b[0m\u001b[0m\n\u001b[1;32m    151\u001b[0m                     \u001b[0md_old\u001b[0m \u001b[0;34m=\u001b[0m \u001b[0;32mNone\u001b[0m\u001b[0;34m\u001b[0m\u001b[0;34m\u001b[0m\u001b[0m\n",
      "\u001b[0;31mKeyError\u001b[0m: 906"
     ]
    }
   ],
   "source": [
    "# COMMUNITIES\n",
    "## Community detection with modularity\n",
    "## Modularity is a measure of relative density in your network. \n",
    "## A community has a high density relative to other nodes within its module, but low density with those outside\n",
    "## Modularity gives you an overall score of how fractious your network is, and that is a score\n",
    "# that can be used to partition the network and return the inidividual communities\n",
    "\n",
    "# Very dense networks are often more difficult to split into sensible partitions.\n",
    "# Luckily, networks are not all that dense. Our network is only 0.223\n",
    "# Although there are some built in approahces like 'minimum cut', modularity is not included in networkX\n",
    "# We just use an addiitonal python module, YAY\n",
    "communities = community.greedy_modularity_communities(G)\n",
    "## the method greedy_modularity_communities() tries to determine the number of communities appropriate for the graphs\n",
    "## Group all nodes into the subsets based on these communities.\n",
    "\n",
    "modularity_dict = {} # Create a blank dictionary\n",
    "for i,c in enumerate(communities): # Loop through the list of communities, keeping track of the number for the community\n",
    "    for name in c: # Loop through each person in a community\n",
    "        modularity_dict[name] = i # Create an entry in the dictionary for the person, where the value is which group they belong to.\n",
    "\n",
    "# Now you can add modularity information like we did the other metrics\n",
    "nx.set_node_attributes(G, modularity_dict, 'modularity')\n",
    "\n",
    "## Then in each of these communities, you do your centrality measures like EIGENVECTOR etc etc \n",
    "\n",
    "# First get a list of just the nodes in that class\n",
    "class0 = [n for n in G.nodes() if G.nodes[n]['modularity'] == 0]\n",
    "\n",
    "# Then create a dictionary of the eigenvector centralities of those nodes\n",
    "class0_eigenvector = {n:G.nodes[n]['eigenvector'] for n in class0}\n",
    "\n",
    "# Then sort that dictionary and print the first 5 results\n",
    "class0_sorted_by_eigenvector = sorted(class0_eigenvector.items(), key=itemgetter(1), reverse=True)\n",
    "\n",
    "print(\"Modularity Class 0 Sorted by Eigenvector Centrality:\")\n",
    "for node in class0_sorted_by_eigenvector[:5]:\n",
    "    print(\"Name:\", node[0], \"| Eigenvector Centrality:\", node[1])\n",
    "    \n",
    "    \n",
    "### Using eigenvector centrality as a ranking can give you a sense of the important people within this modularity class\n",
    "##  In smaller networks, it may be a common task to find a list of all the modularity classes and their members\n",
    "\n",
    "for i,c in enumerate(communities): # Loop through the list of communities\n",
    "    if len(c) > 2: # Filter out modularity classes with 2 or fewer nodes\n",
    "        print('Class '+str(i)+':', list(c)) # Print out the classes and their members"
   ]
  }
 ],
 "metadata": {
  "colab": {
   "collapsed_sections": [],
   "name": "network.ipynb",
   "provenance": []
  },
  "kernelspec": {
   "display_name": "Python 3",
   "language": "python",
   "name": "python3"
  },
  "language_info": {
   "codemirror_mode": {
    "name": "ipython",
    "version": 3
   },
   "file_extension": ".py",
   "mimetype": "text/x-python",
   "name": "python",
   "nbconvert_exporter": "python",
   "pygments_lexer": "ipython3",
   "version": "3.7.6"
  }
 },
 "nbformat": 4,
 "nbformat_minor": 1
}
